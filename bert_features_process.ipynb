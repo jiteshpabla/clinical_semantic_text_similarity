{
  "nbformat": 4,
  "nbformat_minor": 0,
  "metadata": {
    "kernelspec": {
      "name": "python3",
      "display_name": "Python 3"
    },
    "language_info": {
      "codemirror_mode": {
        "name": "ipython",
        "version": 3
      },
      "file_extension": ".py",
      "mimetype": "text/x-python",
      "name": "python",
      "nbconvert_exporter": "python",
      "pygments_lexer": "ipython3",
      "version": "3.7.3"
    },
    "colab": {
      "name": "bert_only_process.ipynb",
      "provenance": [],
      "collapsed_sections": [],
      "toc_visible": true,
      "machine_shape": "hm"
    },
    "accelerator": "GPU"
  },
  "cells": [
    {
      "cell_type": "markdown",
      "metadata": {
        "id": "5mruz5QNEMY5",
        "colab_type": "text"
      },
      "source": [
        "# <center>BMI 598: Project</center>"
      ]
    },
    {
      "cell_type": "code",
      "metadata": {
        "id": "mU6hgp3REMY9",
        "colab_type": "code",
        "colab": {}
      },
      "source": [
        "# For compatibility with Python 2\n",
        "from __future__ import print_function\n",
        "from past.builtins import xrange\n",
        "\n",
        "from math import sqrt\n",
        "import numpy as np\n",
        "import pandas as pd\n",
        "\n",
        "from sklearn.linear_model import LinearRegression\n",
        "from sklearn.model_selection import KFold\n",
        "from sklearn.metrics import mean_squared_error\n",
        "from scipy.stats import pearsonr\n",
        "\n",
        "# To support plots\n",
        "import matplotlib.pyplot as plt\n",
        "\n",
        "\n",
        "import seaborn as sns\n",
        "\n",
        "sns.set(color_codes=True)\n",
        "\n",
        "# To display all the plots inline\n",
        "%matplotlib inline"
      ],
      "execution_count": 0,
      "outputs": []
    },
    {
      "cell_type": "code",
      "metadata": {
        "id": "e6hN_eHPRVC_",
        "colab_type": "code",
        "outputId": "41778eb2-39cd-4a48-e57c-80a1076eb3d8",
        "colab": {
          "base_uri": "https://localhost:8080/",
          "height": 121
        }
      },
      "source": [
        "from google.colab import drive\n",
        "drive.mount('/content/drive')"
      ],
      "execution_count": 2,
      "outputs": [
        {
          "output_type": "stream",
          "text": [
            "Go to this URL in a browser: https://accounts.google.com/o/oauth2/auth?client_id=947318989803-6bn6qk8qdgf4n4g3pfee6491hc0brc4i.apps.googleusercontent.com&redirect_uri=urn%3aietf%3awg%3aoauth%3a2.0%3aoob&response_type=code&scope=email%20https%3a%2f%2fwww.googleapis.com%2fauth%2fdocs.test%20https%3a%2f%2fwww.googleapis.com%2fauth%2fdrive%20https%3a%2f%2fwww.googleapis.com%2fauth%2fdrive.photos.readonly%20https%3a%2f%2fwww.googleapis.com%2fauth%2fpeopleapi.readonly\n",
            "\n",
            "Enter your authorization code:\n",
            "··········\n",
            "Mounted at /content/drive\n"
          ],
          "name": "stdout"
        }
      ]
    },
    {
      "cell_type": "code",
      "metadata": {
        "id": "965PqYDN-Yx0",
        "colab_type": "code",
        "colab": {}
      },
      "source": [
        "my_drive = '/content/drive/My Drive/'"
      ],
      "execution_count": 0,
      "outputs": []
    },
    {
      "cell_type": "markdown",
      "metadata": {
        "colab_type": "text",
        "id": "fL1ILW2WdkUO"
      },
      "source": [
        "## <center>1. Load the data</center>"
      ]
    },
    {
      "cell_type": "code",
      "metadata": {
        "id": "A-DEy7iNEMZC",
        "colab_type": "code",
        "colab": {}
      },
      "source": [
        "# To increase quality of figures\n",
        "plt.rcParams[\"figure.figsize\"] = (10, 5)"
      ],
      "execution_count": 0,
      "outputs": []
    },
    {
      "cell_type": "code",
      "metadata": {
        "id": "nLDSjKZPEMZE",
        "colab_type": "code",
        "colab": {}
      },
      "source": [
        "def get_data(file):\n",
        "  data = pd.read_csv(file, sep='\\t', header=None, names=[\"Sentence #1\", \"Sentence #2\", \"Similarity\"])\n",
        "  X = data.values[:, :2]\n",
        "  y = data['Similarity'].values\n",
        "  return (X, y)\n",
        "\n",
        "X_train, y_train = get_data(my_drive+'clinicalSTS2019.train.txt')\n",
        "\n",
        "data_train = pd.read_csv(my_drive+'clinicalSTS2019.train.txt', sep='\\t', header=None, names=[\"Sentence #1\", \"Sentence #2\", \"Similarity\"])"
      ],
      "execution_count": 0,
      "outputs": []
    },
    {
      "cell_type": "code",
      "metadata": {
        "id": "kjWDY-kZQIA7",
        "colab_type": "code",
        "colab": {
          "base_uri": "https://localhost:8080/",
          "height": 257
        },
        "outputId": "f098b807-6027-44b8-ea11-23cbf41f4611"
      },
      "source": [
        "print(X_train)"
      ],
      "execution_count": 6,
      "outputs": [
        {
          "output_type": "stream",
          "text": [
            "[[' Patient arrives, via hospital wheelchair, Gait steady, History obtained from patient, Patient appears comfortable, Patient cooperative, alert, Oriented to person, place and time.'\n",
            "  ' Complex assessment performed, Patient arrives ambulatory, Gait steady, History obtained from, parent, Patient appears comfortable, Patient cooperative, alert, Oriented to person, place and time.']\n",
            " ['oxycodone [ROXICODONE] 5 mg tablet 0.5-1 tablets by mouth every 4 hours as needed.'\n",
            "  'pantoprazole [PROTONIX] 40 mg tablet enteric coated 1 tablet by mouth Bid before meals.']\n",
            " ['The patient has missed 0 hours of work in the past seven days for issues not related to depression.'\n",
            "  ' In the past year the patient has the following number of visits: none in the hospital  none in the er and  one as an outpatient.']\n",
            " ...\n",
            " ['Explained diagnosis and treatment plan; patient/child/care giver expressed understanding of the content.'\n",
            "  ' Explained diagnosis and treatment plan; patient/child/caregiver expressed understanding of the content and agreement with the plan of care.']\n",
            " ['The patient remained focused on group tasks and displayed interest in others and in the group process.'\n",
            "  \" The patient's medication(s) were reconciled comparing the pre- and post-hospitalization lists and then verified in the electronic orders prescribing tool.\"]\n",
            " [' No: new confusion or inability to stay alert and awake; noisy, wheezy or raspy breathing that does not clear with coughing; newly stiff or painful neck; purple or red rash/blotches that stay when pressed by a glass (purpural rash); currently feeling like you are going to collapse every time you stand (sit); muffled voice or inability to open mouth fully or complete inability to swallow'\n",
            "  ' No: new confusion or inability to stay alert and awake; currently feeling like you are going to collapse every time you stand or sit up; purple or red rash/blotches that stay when pressed by a glass (purpural rash); new neck pain and difficulty bending the neck or swelling or puffiness around the eye(s)']]\n"
          ],
          "name": "stdout"
        }
      ]
    },
    {
      "cell_type": "code",
      "metadata": {
        "id": "NNy52l25EMZG",
        "colab_type": "code",
        "colab": {
          "base_uri": "https://localhost:8080/",
          "height": 395
        },
        "outputId": "926455c5-f013-4ed4-db92-2599bf0e9916"
      },
      "source": [
        "data_train"
      ],
      "execution_count": 7,
      "outputs": [
        {
          "output_type": "execute_result",
          "data": {
            "text/html": [
              "<div>\n",
              "<style scoped>\n",
              "    .dataframe tbody tr th:only-of-type {\n",
              "        vertical-align: middle;\n",
              "    }\n",
              "\n",
              "    .dataframe tbody tr th {\n",
              "        vertical-align: top;\n",
              "    }\n",
              "\n",
              "    .dataframe thead th {\n",
              "        text-align: right;\n",
              "    }\n",
              "</style>\n",
              "<table border=\"1\" class=\"dataframe\">\n",
              "  <thead>\n",
              "    <tr style=\"text-align: right;\">\n",
              "      <th></th>\n",
              "      <th>Sentence #1</th>\n",
              "      <th>Sentence #2</th>\n",
              "      <th>Similarity</th>\n",
              "    </tr>\n",
              "  </thead>\n",
              "  <tbody>\n",
              "    <tr>\n",
              "      <th>0</th>\n",
              "      <td>Patient arrives, via hospital wheelchair, Gai...</td>\n",
              "      <td>Complex assessment performed, Patient arrives...</td>\n",
              "      <td>3.00</td>\n",
              "    </tr>\n",
              "    <tr>\n",
              "      <th>1</th>\n",
              "      <td>oxycodone [ROXICODONE] 5 mg tablet 0.5-1 table...</td>\n",
              "      <td>pantoprazole [PROTONIX] 40 mg tablet enteric c...</td>\n",
              "      <td>1.00</td>\n",
              "    </tr>\n",
              "    <tr>\n",
              "      <th>2</th>\n",
              "      <td>The patient has missed 0 hours of work in the ...</td>\n",
              "      <td>In the past year the patient has the followin...</td>\n",
              "      <td>0.00</td>\n",
              "    </tr>\n",
              "    <tr>\n",
              "      <th>3</th>\n",
              "      <td>Given current medication regimen, the followi...</td>\n",
              "      <td>Given current medication regimen, the followi...</td>\n",
              "      <td>3.00</td>\n",
              "    </tr>\n",
              "    <tr>\n",
              "      <th>4</th>\n",
              "      <td>The diagnosis and treatment plan were explaine...</td>\n",
              "      <td>Explained diagnosis and treatment plan; patie...</td>\n",
              "      <td>4.00</td>\n",
              "    </tr>\n",
              "    <tr>\n",
              "      <th>...</th>\n",
              "      <td>...</td>\n",
              "      <td>...</td>\n",
              "      <td>...</td>\n",
              "    </tr>\n",
              "    <tr>\n",
              "      <th>1649</th>\n",
              "      <td>New wheezing or chest tightness, runny or blo...</td>\n",
              "      <td>F (38 C) or suspected fever; new wheezing or ...</td>\n",
              "      <td>3.00</td>\n",
              "    </tr>\n",
              "    <tr>\n",
              "      <th>1650</th>\n",
              "      <td>You should not take any medications that cause...</td>\n",
              "      <td>You should not take any medications that caus...</td>\n",
              "      <td>5.00</td>\n",
              "    </tr>\n",
              "    <tr>\n",
              "      <th>1651</th>\n",
              "      <td>Explained diagnosis and treatment plan; patien...</td>\n",
              "      <td>Explained diagnosis and treatment plan; patie...</td>\n",
              "      <td>4.25</td>\n",
              "    </tr>\n",
              "    <tr>\n",
              "      <th>1652</th>\n",
              "      <td>The patient remained focused on group tasks an...</td>\n",
              "      <td>The patient's medication(s) were reconciled c...</td>\n",
              "      <td>0.00</td>\n",
              "    </tr>\n",
              "    <tr>\n",
              "      <th>1653</th>\n",
              "      <td>No: new confusion or inability to stay alert ...</td>\n",
              "      <td>No: new confusion or inability to stay alert ...</td>\n",
              "      <td>3.00</td>\n",
              "    </tr>\n",
              "  </tbody>\n",
              "</table>\n",
              "<p>1654 rows × 3 columns</p>\n",
              "</div>"
            ],
            "text/plain": [
              "                                            Sentence #1  ... Similarity\n",
              "0      Patient arrives, via hospital wheelchair, Gai...  ...       3.00\n",
              "1     oxycodone [ROXICODONE] 5 mg tablet 0.5-1 table...  ...       1.00\n",
              "2     The patient has missed 0 hours of work in the ...  ...       0.00\n",
              "3      Given current medication regimen, the followi...  ...       3.00\n",
              "4     The diagnosis and treatment plan were explaine...  ...       4.00\n",
              "...                                                 ...  ...        ...\n",
              "1649   New wheezing or chest tightness, runny or blo...  ...       3.00\n",
              "1650  You should not take any medications that cause...  ...       5.00\n",
              "1651  Explained diagnosis and treatment plan; patien...  ...       4.25\n",
              "1652  The patient remained focused on group tasks an...  ...       0.00\n",
              "1653   No: new confusion or inability to stay alert ...  ...       3.00\n",
              "\n",
              "[1654 rows x 3 columns]"
            ]
          },
          "metadata": {
            "tags": []
          },
          "execution_count": 7
        }
      ]
    },
    {
      "cell_type": "code",
      "metadata": {
        "id": "d_me6mwNNO1z",
        "colab_type": "code",
        "colab": {}
      },
      "source": [
        "X_train_original = X_train"
      ],
      "execution_count": 0,
      "outputs": []
    },
    {
      "cell_type": "code",
      "metadata": {
        "id": "yz_65CRQEMZJ",
        "colab_type": "code",
        "colab": {
          "base_uri": "https://localhost:8080/",
          "height": 355
        },
        "outputId": "edc8c2ff-062c-4239-f2c2-1bdde265d5d4"
      },
      "source": [
        "sns.distplot(data_train['Similarity'], bins=5, kde=False, rug=True)"
      ],
      "execution_count": 9,
      "outputs": [
        {
          "output_type": "execute_result",
          "data": {
            "text/plain": [
              "<matplotlib.axes._subplots.AxesSubplot at 0x7f1717407550>"
            ]
          },
          "metadata": {
            "tags": []
          },
          "execution_count": 9
        },
        {
          "output_type": "display_data",
          "data": {
            "image/png": "[encoded data removed]",
            "text/plain": [
              "<Figure size 720x360 with 1 Axes>"
            ]
          },
          "metadata": {
            "tags": []
          }
        }
      ]
    },
    {
      "cell_type": "code",
      "metadata": {
        "id": "WCSQklX1hdAd",
        "colab_type": "code",
        "colab": {}
      },
      "source": [
        "y_true = y_train"
      ],
      "execution_count": 0,
      "outputs": []
    },
    {
      "cell_type": "code",
      "metadata": {
        "id": "OsxsVbQBN85L",
        "colab_type": "code",
        "colab": {
          "base_uri": "https://localhost:8080/",
          "height": 67
        },
        "outputId": "c7897abc-1080-40e9-8c0e-712f0e4cdd5a"
      },
      "source": [
        "#load the training set\n",
        "!cp '/content/drive/My Drive/test.zip' test.zip\n",
        "!unzip test.zip"
      ],
      "execution_count": 11,
      "outputs": [
        {
          "output_type": "stream",
          "text": [
            "Archive:  test.zip\n",
            "  inflating: clinicalSTS2019.test.gs.sim.txt  \n",
            "  inflating: clinicalSTS2019.test.txt  \n"
          ],
          "name": "stdout"
        }
      ]
    },
    {
      "cell_type": "code",
      "metadata": {
        "id": "EMy_6kWKQRVJ",
        "colab_type": "code",
        "colab": {
          "base_uri": "https://localhost:8080/",
          "height": 257
        },
        "outputId": "6a840517-8693-43ef-8500-878c7fdd8098"
      },
      "source": [
        "X_test_original = pd.read_csv('clinicalSTS2019.test.txt', sep='\\t', header=None, names=[\"Sentence #1\", \"Sentence #2\"])\n",
        "X_test_original = X_test_original.values\n",
        "print(X_train_original)"
      ],
      "execution_count": 12,
      "outputs": [
        {
          "output_type": "stream",
          "text": [
            "[[' Patient arrives, via hospital wheelchair, Gait steady, History obtained from patient, Patient appears comfortable, Patient cooperative, alert, Oriented to person, place and time.'\n",
            "  ' Complex assessment performed, Patient arrives ambulatory, Gait steady, History obtained from, parent, Patient appears comfortable, Patient cooperative, alert, Oriented to person, place and time.']\n",
            " ['oxycodone [ROXICODONE] 5 mg tablet 0.5-1 tablets by mouth every 4 hours as needed.'\n",
            "  'pantoprazole [PROTONIX] 40 mg tablet enteric coated 1 tablet by mouth Bid before meals.']\n",
            " ['The patient has missed 0 hours of work in the past seven days for issues not related to depression.'\n",
            "  ' In the past year the patient has the following number of visits: none in the hospital  none in the er and  one as an outpatient.']\n",
            " ...\n",
            " ['Explained diagnosis and treatment plan; patient/child/care giver expressed understanding of the content.'\n",
            "  ' Explained diagnosis and treatment plan; patient/child/caregiver expressed understanding of the content and agreement with the plan of care.']\n",
            " ['The patient remained focused on group tasks and displayed interest in others and in the group process.'\n",
            "  \" The patient's medication(s) were reconciled comparing the pre- and post-hospitalization lists and then verified in the electronic orders prescribing tool.\"]\n",
            " [' No: new confusion or inability to stay alert and awake; noisy, wheezy or raspy breathing that does not clear with coughing; newly stiff or painful neck; purple or red rash/blotches that stay when pressed by a glass (purpural rash); currently feeling like you are going to collapse every time you stand (sit); muffled voice or inability to open mouth fully or complete inability to swallow'\n",
            "  ' No: new confusion or inability to stay alert and awake; currently feeling like you are going to collapse every time you stand or sit up; purple or red rash/blotches that stay when pressed by a glass (purpural rash); new neck pain and difficulty bending the neck or swelling or puffiness around the eye(s)']]\n"
          ],
          "name": "stdout"
        }
      ]
    },
    {
      "cell_type": "code",
      "metadata": {
        "id": "vpvc95RfRtjc",
        "colab_type": "code",
        "colab": {
          "base_uri": "https://localhost:8080/",
          "height": 406
        },
        "outputId": "0a5ac88d-46d6-454b-e980-c618181e783e"
      },
      "source": [
        "y_test_original = pd.read_csv('clinicalSTS2019.test.gs.sim.txt', sep='\\t', header=None, names=[\"Similarity\"])\n",
        "y_test_original = y_test_original.values\n",
        "y_test_original = y_test_original.flatten()\n",
        "print((y_test_original))"
      ],
      "execution_count": 13,
      "outputs": [
        {
          "output_type": "stream",
          "text": [
            "[0.5 1.  5.  1.  0.  1.  1.  0.5 1.  1.  2.5 1.  1.  0.  4.  3.5 4.  1.\n",
            " 4.5 1.5 0.5 0.  1.  0.  1.  0.  0.5 2.  1.5 0.  0.  5.  1.  0.5 1.5 1.\n",
            " 0.5 3.  4.  4.  4.  1.  1.5 1.  1.5 1.  3.5 1.  1.  1.  1.  1.  1.  0.5\n",
            " 0.  3.  4.  1.  4.  2.5 1.  0.  0.5 3.5 4.  4.  1.  1.  1.5 0.  1.  0.\n",
            " 0.5 1.  3.  1.  4.5 5.  1.  1.  0.  1.  4.  1.  0.  0.5 1.5 0.  1.  1.\n",
            " 2.  4.  0.  0.  2.5 1.  2.5 4.  2.  3.  4.  3.  0.5 2.5 1.  1.  0.  2.\n",
            " 0.5 1.  5.  1.  0.  4.  3.5 0.  1.  1.  1.  1.5 4.  3.  1.5 0.  1.  0.\n",
            " 1.5 4.5 0.  5.  4.5 0.  1.  2.  4.  0.5 0.5 2.5 0.5 1.  1.  4.5 5.  0.\n",
            " 4.  0.  1.  2.  1.  0.  1.  0.  0.  4.5 1.  4.5 1.  1.5 0.5 1.  4.  1.\n",
            " 1.  0.  0.  2.  1.  1.  0.  0.  1.  1.  1.  2.  5.  0.  0.  4.5 5.  4.\n",
            " 1.  0.  4.5 0.  1.  4.5 3.  4.  1.  1.  1.  0.  1.  2.  1.  4.  1.  1.5\n",
            " 0.5 0.  1.  0.  1.  1.  4.5 1.5 4.  1.  5.  2.  4.  1.  1.  1.  0.  1.5\n",
            " 0.  3.  1.  0.  3.5 1.  1.  1.5 1.  1.5 0.5 0.  0.  1.  1.  1.  0.5 4.\n",
            " 1.  4.  1.  4.  0.  4.  1.5 3.5 0.5 1.  1.  4.5 2.  1.  0.5 0.5 1.5 3.\n",
            " 4.  4.5 2.5 2.  4.  1.  1.  0.5 3.5 1.  4.  1.  1.5 2.5 3.5 2.5 1.  0.\n",
            " 1.5 1.  3.5 1.  1.  0.5 0.  1.5 3.  4.5 1.  5.  1.  0.5 4.  0.5 0.5 1.\n",
            " 4.5 1.  0.  4.  1.5 1.  0.  2.  1.5 1.  2.  2.  1.  1.5 0.5 0.  1.  0.\n",
            " 4.5 3.  3.5 4.  4.  1.  4.  1.  4.  1.  1.  0.5 2.5 4.5 1.  3.  3.5 0.\n",
            " 1.  1.  3.  1.  1.  1.5 4.5 4.  3.  0.5 0.5 4.  3.  1.  1.  5.  1.5 1.\n",
            " 0.5 1.  1.  1.  0.  1.  2.  3.5 1.  0.  0.  0.  5.  1.  1.  3.  0.5 5.\n",
            " 3.5 4.  1.  1.  3.  0.  2.  1.  4.  1.  2.5 0.5 1.  1.  0.  4.  0.5 1.5\n",
            " 4.  1.  0.  1.  3.  0.5 2.  4.  4.  1.  1.  4.5 0.  1.  1.  4.  3.  4.\n",
            " 1.  1.  5.  1.5 0.  4.5 1.  4.  1.  3.  3.5 1.  4.  1.  0.  2.5]\n"
          ],
          "name": "stdout"
        }
      ]
    },
    {
      "cell_type": "code",
      "metadata": {
        "id": "j5XVL7HpQeHi",
        "colab_type": "code",
        "colab": {}
      },
      "source": [
        "X_train60, y_train60 = get_data(\"/content/drive/My Drive/clinicalSTS2019.train_train60.csv\")\n",
        "X_test20, y_test20 = get_data(\"/content/drive/My Drive/clinicalSTS2019.train_test20.csv\")"
      ],
      "execution_count": 0,
      "outputs": []
    },
    {
      "cell_type": "markdown",
      "metadata": {
        "id": "syIO7Yy_eRLc",
        "colab_type": "text"
      },
      "source": [
        "## 2.Regression"
      ]
    },
    {
      "cell_type": "code",
      "metadata": {
        "id": "R8dFigFaiCIj",
        "colab_type": "code",
        "colab": {}
      },
      "source": [
        "def accuracy(y_true, y_hat):\n",
        "  return pearsonr(y_true, y_hat)[0]"
      ],
      "execution_count": 0,
      "outputs": []
    },
    {
      "cell_type": "code",
      "metadata": {
        "id": "bqZApOf-Fa2J",
        "colab_type": "code",
        "colab": {}
      },
      "source": [
        "# REGRESSION\n",
        "from sklearn.ensemble import GradientBoostingRegressor\n",
        "from sklearn.model_selection import GridSearchCV\n",
        "from sklearn.model_selection import train_test_split\n",
        "\n",
        "def train_data_split(X_train, y_train):\n",
        "  return train_test_split(X_train, y_train, test_size=0.2, random_state=598)\n",
        "\n",
        "def predict_train(X_train, y_train, reg):\n",
        "  _X_train, _X_test, _y_train, _y_test = train_data_split(X_train, y_train)\n",
        "  reg.fit(_X_train, _y_train)\n",
        "  y_hat = reg.predict(_X_test)\n",
        "  return y_hat, _y_test\n",
        "\n",
        "def get_optimal_rf_model(X, y):\n",
        "  params = {\n",
        "      'learning_rate': 0.01, \n",
        "      'random_state': 598, \n",
        "      'max_features': 'sqrt'\n",
        "  }\n",
        "  model = GridSearchCV(GradientBoostingRegressor(**params),\n",
        "                            cv=5,\n",
        "                            n_jobs=-1,\n",
        "                            iid=False,\n",
        "                            param_grid={\n",
        "                                'n_estimators':[200, 300, 400, 500],\n",
        "                                'max_depth': [4, 5, 6, 7],\n",
        "                                'min_samples_split': [2, 4, 6, 8],\n",
        "                                'subsample': [0.6, 0.7, 0.8]\n",
        "                            })\n",
        "  model.fit(X, y)\n",
        "  print('Optimal parameters:', model.best_params_)\n",
        "  ml_alg = GradientBoostingRegressor(**params, **model.best_params_)\n",
        "  return ml_alg\n",
        "\n",
        "def plot_accuracy(y, y_hat):\n",
        "  print('Accuracy:', accuracy(y, y_hat))\n",
        "  plt.plot(y, y_hat, 'ro')\n",
        "  plt.xlabel('Actual')\n",
        "  plt.ylabel('Predicted')\n",
        "  plt.title('Predicted vs Actual')\n",
        "  plt.show()"
      ],
      "execution_count": 0,
      "outputs": []
    },
    {
      "cell_type": "markdown",
      "metadata": {
        "id": "rA0iaLtOlj6N",
        "colab_type": "text"
      },
      "source": [
        "## <center>3. BERT based Feature extraction</center>"
      ]
    },
    {
      "cell_type": "code",
      "metadata": {
        "id": "YVnKo9EJgrdZ",
        "colab_type": "code",
        "colab": {
          "base_uri": "https://localhost:8080/",
          "height": 660
        },
        "outputId": "84fa6257-2b20-4b37-891c-96aaeb43fcfd"
      },
      "source": [
        "!pip install transformers"
      ],
      "execution_count": 17,
      "outputs": [
        {
          "output_type": "stream",
          "text": [
            "Collecting transformers\n",
            "\u001b[?25l  Downloading https://files.pythonhosted.org/packages/70/1a/364556102943cacde1ee00fdcae3b1615b39e52649eddbf54953e5b144c9/transformers-2.2.1-py3-none-any.whl (364kB)\n",
            "\u001b[K     |████████████████████████████████| 368kB 4.8MB/s \n",
            "\u001b[?25hCollecting sentencepiece\n",
            "\u001b[?25l  Downloading https://files.pythonhosted.org/packages/14/3d/efb655a670b98f62ec32d66954e1109f403db4d937c50d779a75b9763a29/sentencepiece-0.1.83-cp36-cp36m-manylinux1_x86_64.whl (1.0MB)\n",
            "\u001b[K     |████████████████████████████████| 1.0MB 42.9MB/s \n",
            "\u001b[?25hRequirement already satisfied: numpy in /usr/local/lib/python3.6/dist-packages (from transformers) (1.17.4)\n",
            "Collecting regex\n",
            "\u001b[?25l  Downloading https://files.pythonhosted.org/packages/8c/db/4b29a0adec5881542cd81cb5d1929b5c0787003c5740b3c921e627d9c2e5/regex-2019.12.9.tar.gz (669kB)\n",
            "\u001b[K     |████████████████████████████████| 675kB 45.5MB/s \n",
            "\u001b[?25hRequirement already satisfied: tqdm in /usr/local/lib/python3.6/dist-packages (from transformers) (4.28.1)\n",
            "Collecting sacremoses\n",
            "\u001b[?25l  Downloading https://files.pythonhosted.org/packages/1f/8e/ed5364a06a9ba720fddd9820155cc57300d28f5f43a6fd7b7e817177e642/sacremoses-0.0.35.tar.gz (859kB)\n",
            "\u001b[K     |████████████████████████████████| 860kB 38.6MB/s \n",
            "\u001b[?25hRequirement already satisfied: requests in /usr/local/lib/python3.6/dist-packages (from transformers) (2.21.0)\n",
            "Requirement already satisfied: boto3 in /usr/local/lib/python3.6/dist-packages (from transformers) (1.10.32)\n",
            "Requirement already satisfied: six in /usr/local/lib/python3.6/dist-packages (from sacremoses->transformers) (1.12.0)\n",
            "Requirement already satisfied: click in /usr/local/lib/python3.6/dist-packages (from sacremoses->transformers) (7.0)\n",
            "Requirement already satisfied: joblib in /usr/local/lib/python3.6/dist-packages (from sacremoses->transformers) (0.14.0)\n",
            "Requirement already satisfied: idna<2.9,>=2.5 in /usr/local/lib/python3.6/dist-packages (from requests->transformers) (2.8)\n",
            "Requirement already satisfied: urllib3<1.25,>=1.21.1 in /usr/local/lib/python3.6/dist-packages (from requests->transformers) (1.24.3)\n",
            "Requirement already satisfied: certifi>=2017.4.17 in /usr/local/lib/python3.6/dist-packages (from requests->transformers) (2019.11.28)\n",
            "Requirement already satisfied: chardet<3.1.0,>=3.0.2 in /usr/local/lib/python3.6/dist-packages (from requests->transformers) (3.0.4)\n",
            "Requirement already satisfied: s3transfer<0.3.0,>=0.2.0 in /usr/local/lib/python3.6/dist-packages (from boto3->transformers) (0.2.1)\n",
            "Requirement already satisfied: botocore<1.14.0,>=1.13.32 in /usr/local/lib/python3.6/dist-packages (from boto3->transformers) (1.13.32)\n",
            "Requirement already satisfied: jmespath<1.0.0,>=0.7.1 in /usr/local/lib/python3.6/dist-packages (from boto3->transformers) (0.9.4)\n",
            "Requirement already satisfied: docutils<0.16,>=0.10 in /usr/local/lib/python3.6/dist-packages (from botocore<1.14.0,>=1.13.32->boto3->transformers) (0.15.2)\n",
            "Requirement already satisfied: python-dateutil<2.8.1,>=2.1; python_version >= \"2.7\" in /usr/local/lib/python3.6/dist-packages (from botocore<1.14.0,>=1.13.32->boto3->transformers) (2.6.1)\n",
            "Building wheels for collected packages: regex, sacremoses\n",
            "  Building wheel for regex (setup.py) ... \u001b[?25l\u001b[?25hdone\n",
            "  Created wheel for regex: filename=regex-2019.12.9-cp36-cp36m-linux_x86_64.whl size=609187 sha256=1cd116df787ba58ef70bb3a7bd0d154679570cfc3d7ae0d57f4e6ec6c0cc815e\n",
            "  Stored in directory: /root/.cache/pip/wheels/0d/fb/b3/a89169557229468c49ca64f6839418f22461f6ee0a74f342b1\n",
            "  Building wheel for sacremoses (setup.py) ... \u001b[?25l\u001b[?25hdone\n",
            "  Created wheel for sacremoses: filename=sacremoses-0.0.35-cp36-none-any.whl size=883999 sha256=807198a340dacc91972783c98c67dfc4462ec6a637310785a3e429df903c6eea\n",
            "  Stored in directory: /root/.cache/pip/wheels/63/2a/db/63e2909042c634ef551d0d9ac825b2b0b32dede4a6d87ddc94\n",
            "Successfully built regex sacremoses\n",
            "Installing collected packages: sentencepiece, regex, sacremoses, transformers\n",
            "Successfully installed regex-2019.12.9 sacremoses-0.0.35 sentencepiece-0.1.83 transformers-2.2.1\n"
          ],
          "name": "stdout"
        }
      ]
    },
    {
      "cell_type": "code",
      "metadata": {
        "id": "5XXAd7v_Tuxg",
        "colab_type": "code",
        "colab": {
          "base_uri": "https://localhost:8080/",
          "height": 79
        },
        "outputId": "3c28f5e4-5b05-460c-e189-fd4a5cad1fbb"
      },
      "source": [
        "import torch\n",
        "from transformers import *\n",
        "model_class = BertModel\n",
        "tokenizer_class = BertTokenizer.from_pretrained('bert-base-uncased')\n",
        "pretrained_weights = 'bert-base-uncased'"
      ],
      "execution_count": 18,
      "outputs": [
        {
          "output_type": "display_data",
          "data": {
            "text/html": [
              "<p style=\"color: red;\">\n",
              "The default version of TensorFlow in Colab will soon switch to TensorFlow 2.x.<br>\n",
              "We recommend you <a href=\"https://www.tensorflow.org/guide/migrate\" target=\"_blank\">upgrade</a> now \n",
              "or ensure your notebook will continue to use TensorFlow 1.x via the <code>%tensorflow_version 1.x</code> magic:\n",
              "<a href=\"https://colab.research.google.com/notebooks/tensorflow_version.ipynb\" target=\"_blank\">more info</a>.</p>\n"
            ],
            "text/plain": [
              "<IPython.core.display.HTML object>"
            ]
          },
          "metadata": {
            "tags": []
          }
        },
        {
          "output_type": "stream",
          "text": [
            "100%|██████████| 231508/231508 [00:00<00:00, 1182861.96B/s]\n"
          ],
          "name": "stderr"
        }
      ]
    },
    {
      "cell_type": "code",
      "metadata": {
        "id": "-nVpbsMZE7Vg",
        "colab_type": "code",
        "colab": {
          "base_uri": "https://localhost:8080/",
          "height": 50
        },
        "outputId": "4991714e-546d-40c9-8f9a-3944d753afa3"
      },
      "source": [
        "#######################from huggingface documentation \n",
        "\n",
        "vanilla_bert_tokenizer = BertTokenizer.from_pretrained('bert-base-uncased')\n",
        "vanilla_bert_model = BertModel.from_pretrained('bert-base-uncased')\n",
        "\n"
      ],
      "execution_count": 19,
      "outputs": [
        {
          "output_type": "stream",
          "text": [
            "100%|██████████| 313/313 [00:00<00:00, 167344.44B/s]\n",
            "100%|██████████| 440473133/440473133 [00:12<00:00, 36056373.82B/s]\n"
          ],
          "name": "stderr"
        }
      ]
    },
    {
      "cell_type": "code",
      "metadata": {
        "id": "tzdiHuLbFP5V",
        "colab_type": "code",
        "colab": {
          "base_uri": "https://localhost:8080/",
          "height": 423
        },
        "outputId": "7260643a-2ebf-4954-9ed0-e5fd2d57246e"
      },
      "source": [
        "input_ids = torch.tensor(vanilla_bert_tokenizer.encode(\"Hello my dog is cute\", add_special_tokens= True)).unsqueeze(0)  # Batch size 1\n",
        "print(input_ids)\n",
        "outputs = vanilla_bert_model(input_ids)\n",
        "last_hidden_states = outputs[0][0].detach().numpy()  # The last hidden-state is the first element of the output tuple\n",
        "\n",
        "print(last_hidden_states)\n",
        "print(len(last_hidden_states))\n",
        "print(last_hidden_states.shape)\n",
        "print(outputs[0])"
      ],
      "execution_count": 20,
      "outputs": [
        {
          "output_type": "stream",
          "text": [
            "tensor([[  101,  7592,  2026,  3899,  2003, 10140,   102]])\n",
            "[[ 0.02520709  0.20342118  0.17750171 ... -0.43001023  0.07378592\n",
            "   0.563757  ]\n",
            " [ 0.03636122  0.56766444  0.9678673  ... -0.2936435  -0.19087738\n",
            "   0.02368227]\n",
            " [-0.02869914  0.29985967  0.6602603  ... -0.5045791  -0.05440554\n",
            "   0.21559508]\n",
            " ...\n",
            " [-0.658215   -0.2710841   0.2554944  ... -0.4243345  -0.21272337\n",
            "   0.94851536]\n",
            " [-0.7283804  -0.5868736  -0.13885021 ...  0.32102168  0.27705067\n",
            "   0.06500375]\n",
            " [ 0.53293115  0.08652045 -0.3042307  ...  0.03785072 -0.52515227\n",
            "  -0.20991923]]\n",
            "7\n",
            "(7, 768)\n",
            "tensor([[[ 0.0252,  0.2034,  0.1775,  ..., -0.4300,  0.0738,  0.5638],\n",
            "         [ 0.0364,  0.5677,  0.9679,  ..., -0.2936, -0.1909,  0.0237],\n",
            "         [-0.0287,  0.2999,  0.6603,  ..., -0.5046, -0.0544,  0.2156],\n",
            "         ...,\n",
            "         [-0.6582, -0.2711,  0.2555,  ..., -0.4243, -0.2127,  0.9485],\n",
            "         [-0.7284, -0.5869, -0.1389,  ...,  0.3210,  0.2771,  0.0650],\n",
            "         [ 0.5329,  0.0865, -0.3042,  ...,  0.0379, -0.5252, -0.2099]]],\n",
            "       grad_fn=<NativeLayerNormBackward>)\n"
          ],
          "name": "stdout"
        }
      ]
    },
    {
      "cell_type": "markdown",
      "metadata": {
        "id": "qHkWXna8eBFq",
        "colab_type": "text"
      },
      "source": [
        "### one sentence at a time"
      ]
    },
    {
      "cell_type": "code",
      "metadata": {
        "id": "Srz2e56Fi9cz",
        "colab_type": "code",
        "colab": {}
      },
      "source": [
        "from sklearn.metrics import pairwise"
      ],
      "execution_count": 0,
      "outputs": []
    },
    {
      "cell_type": "code",
      "metadata": {
        "id": "OKCQlPlFS8pQ",
        "colab_type": "code",
        "colab": {}
      },
      "source": [
        "def bert_based_features_original(data, local_bert_model, local_tokenizer):\n",
        "  feat = np.zeros((len(data), 20))\n",
        "  cls_vectors = np.zeros((len(data), 768*2))\n",
        "\n",
        "  for i in range(len(data)):\n",
        "\n",
        "    sen_1 = data[i][0]\n",
        "    sen_1_input_ids = torch.tensor([local_tokenizer.encode(sen_1, add_special_tokens=True)])\n",
        "    sen_1_vectors = local_bert_model(sen_1_input_ids)[0][0].detach().numpy()\n",
        "    sen_1_cls_vector = sen_1_vectors[0]\n",
        "    sen_1_cls_vector_reshaped = sen_1_cls_vector.reshape(1, -1)\n",
        "\n",
        "    sen_1_avg_vector = np.average(sen_1_vectors[1:-1], axis=0)\n",
        "    sen_1_max_vector = np.amax(sen_1_vectors[1:-1], axis=0)\n",
        "    sen_1_min_vector = np.amin(sen_1_vectors[1:-1], axis=0)\n",
        "    sen_1_avg_vector_reshaped = sen_1_avg_vector.reshape(1, -1)\n",
        "    sen_1_max_vector_reshaped = sen_1_max_vector.reshape(1, -1)\n",
        "    sen_1_min_vector_reshaped = sen_1_min_vector.reshape(1, -1)\n",
        "\n",
        "\n",
        "\n",
        "    sen_2 = data[i][1]\n",
        "    sen_2_input_ids = torch.tensor([local_tokenizer.encode(sen_2, add_special_tokens=True)])\n",
        "    sen_2_vectors = local_bert_model(sen_2_input_ids)[0][0].detach().numpy()\n",
        "    sen_2_cls_vector = sen_2_vectors[0]\n",
        "    sen_2_cls_vector_reshaped = sen_2_cls_vector.reshape(1, -1)\n",
        "\n",
        "    sen_2_avg_vector = np.average(sen_2_vectors[1:-1], axis=0)\n",
        "    sen_2_max_vector = np.amax(sen_2_vectors[1:-1], axis=0)\n",
        "    sen_2_min_vector = np.amin(sen_2_vectors[1:-1], axis=0)\n",
        "    sen_2_avg_vector_reshaped = sen_2_avg_vector.reshape(1, -1)\n",
        "    sen_2_max_vector_reshaped = sen_2_max_vector.reshape(1, -1)\n",
        "    sen_2_min_vector_reshaped = sen_2_min_vector.reshape(1, -1)\n",
        "\n",
        "\n",
        "\n",
        "    cls_vectors[i] = np.concatenate((sen_1_cls_vector, sen_2_cls_vector))\n",
        "    if i == 0:\n",
        "      print(len(sen_1_cls_vector))\n",
        "      print(len(sen_1_avg_vector))\n",
        "      print(len(sen_1_max_vector))\n",
        "      print(len(sen_1_min_vector))\n",
        "      print(len(sen_1_vectors[1:-1]))\n",
        "      print(len(sen_1))\n",
        "      print(sen_1)\n",
        "    if i % 50 == 0:\n",
        "      print(\"i=\",i)\n",
        "\n",
        "\n",
        "    #calculate the features for max vectors\n",
        "    feat[i, 0] = pairwise.cosine_similarity(sen_1_max_vector_reshaped, sen_2_max_vector_reshaped)[0][0]\n",
        "    euclidean_dist = pairwise.euclidean_distances(sen_1_max_vector_reshaped, sen_2_max_vector_reshaped)[0][0]\n",
        "    feat[i, 1] = euclidean_dist #(1/(0.0000000001+euclidean_dist))\n",
        "    sq_euclidean_dist = euclidean_dist**2\n",
        "    feat[i, 2] = sq_euclidean_dist #(1/(0.0000000001+sq_euclidean_dist))\n",
        "    manhattan_dist = pairwise.manhattan_distances(sen_1_max_vector_reshaped, sen_2_max_vector_reshaped)[0][0]\n",
        "    feat[i, 3] = manhattan_dist #(1/(0.0000000001+manhattan_dist))\n",
        "    pearson_corr, p_val = pearsonr(sen_1_max_vector, sen_2_max_vector)\n",
        "    feat[i, 4] = pearson_corr\n",
        "\n",
        "\n",
        "        #calculate the features for min vectors\n",
        "    feat[i, 5] = pairwise.cosine_similarity(sen_1_min_vector_reshaped, sen_2_min_vector_reshaped)[0][0]\n",
        "    euclidean_dist = pairwise.euclidean_distances(sen_1_min_vector_reshaped, sen_2_min_vector_reshaped)[0][0]\n",
        "    feat[i, 6] = euclidean_dist #(1/(0.0000000001+euclidean_dist))\n",
        "    sq_euclidean_dist = euclidean_dist**2\n",
        "    feat[i, 7] = sq_euclidean_dist #(1/(0.0000000001+sq_euclidean_dist))\n",
        "    manhattan_dist = pairwise.manhattan_distances(sen_1_min_vector_reshaped, sen_2_min_vector_reshaped)[0][0]\n",
        "    feat[i, 8] = manhattan_dist #(1/(0.0000000001+manhattan_dist))\n",
        "    pearson_corr, p_val = pearsonr(sen_1_min_vector, sen_2_min_vector)\n",
        "    feat[i, 9] = pearson_corr\n",
        "\n",
        "\n",
        "        #calculate the features for avg vectors\n",
        "    feat[i, 10] = pairwise.cosine_similarity(sen_1_avg_vector_reshaped, sen_2_avg_vector_reshaped)[0][0]\n",
        "    euclidean_dist = pairwise.euclidean_distances(sen_1_avg_vector_reshaped, sen_2_avg_vector_reshaped)[0][0]\n",
        "    feat[i, 11] = euclidean_dist #(1/(0.0000000001+euclidean_dist))\n",
        "    sq_euclidean_dist = euclidean_dist**2\n",
        "    feat[i, 12] = sq_euclidean_dist #(1/(0.0000000001+sq_euclidean_dist))\n",
        "    manhattan_dist = pairwise.manhattan_distances(sen_1_avg_vector_reshaped, sen_2_avg_vector_reshaped)[0][0]\n",
        "    feat[i, 13] = manhattan_dist #(1/(0.0000000001+manhattan_dist))\n",
        "    pearson_corr, p_val = pearsonr(sen_1_avg_vector, sen_2_avg_vector)\n",
        "    feat[i, 14] = pearson_corr\n",
        "\n",
        "        #calculate the features for cls vectors\n",
        "    feat[i, 15] = pairwise.cosine_similarity(sen_1_cls_vector_reshaped, sen_2_cls_vector_reshaped)[0][0]\n",
        "    euclidean_dist = pairwise.euclidean_distances(sen_1_cls_vector_reshaped, sen_2_cls_vector_reshaped)[0][0]\n",
        "    feat[i, 16] = euclidean_dist #(1/(0.0000000001+euclidean_dist))\n",
        "    sq_euclidean_dist = euclidean_dist**2\n",
        "    feat[i, 17] = sq_euclidean_dist #(1/(0.0000000001+sq_euclidean_dist))\n",
        "    manhattan_dist = pairwise.manhattan_distances(sen_1_cls_vector_reshaped, sen_2_cls_vector_reshaped)[0][0]\n",
        "    feat[i, 18] = manhattan_dist #(1/(0.0000000001+manhattan_dist))\n",
        "    pearson_corr, p_val = pearsonr(sen_1_cls_vector, sen_2_cls_vector)\n",
        "    feat[i, 19] = pearson_corr\n",
        "\n",
        "  return feat, cls_vectors"
      ],
      "execution_count": 0,
      "outputs": []
    },
    {
      "cell_type": "markdown",
      "metadata": {
        "id": "MGQaTvLfuNMd",
        "colab_type": "text"
      },
      "source": [
        "#### Vanilla bert"
      ]
    },
    {
      "cell_type": "code",
      "metadata": {
        "id": "ZIpMEHP8Q_o5",
        "colab_type": "code",
        "colab": {
          "base_uri": "https://localhost:8080/",
          "height": 711
        },
        "outputId": "a4f0fe81-3ecc-4fe7-abf0-f980d45a312f"
      },
      "source": [
        "#VANILLA BERT FEATURES\n",
        "features_bert_og, features_bert_cls_og = bert_based_features_original(X_train_original, vanilla_bert_model, vanilla_bert_tokenizer)"
      ],
      "execution_count": 24,
      "outputs": [
        {
          "output_type": "stream",
          "text": [
            "768\n",
            "768\n",
            "768\n",
            "768\n",
            "33\n",
            "179\n",
            " Patient arrives, via hospital wheelchair, Gait steady, History obtained from patient, Patient appears comfortable, Patient cooperative, alert, Oriented to person, place and time.\n",
            "i= 0\n",
            "i= 50\n",
            "i= 100\n",
            "i= 150\n",
            "i= 200\n",
            "i= 250\n",
            "i= 300\n",
            "i= 350\n",
            "i= 400\n",
            "i= 450\n",
            "i= 500\n",
            "i= 550\n",
            "i= 600\n",
            "i= 650\n",
            "i= 700\n",
            "i= 750\n",
            "i= 800\n",
            "i= 850\n",
            "i= 900\n",
            "i= 950\n",
            "i= 1000\n",
            "i= 1050\n",
            "i= 1100\n",
            "i= 1150\n",
            "i= 1200\n",
            "i= 1250\n",
            "i= 1300\n",
            "i= 1350\n",
            "i= 1400\n",
            "i= 1450\n",
            "i= 1500\n",
            "i= 1550\n",
            "i= 1600\n",
            "i= 1650\n"
          ],
          "name": "stdout"
        }
      ]
    },
    {
      "cell_type": "code",
      "metadata": {
        "id": "if3TDDkRjuXZ",
        "colab_type": "code",
        "colab": {
          "base_uri": "https://localhost:8080/",
          "height": 388
        },
        "outputId": "3b13538f-845a-4f0c-9454-71d57ba755f7"
      },
      "source": [
        "y_train_test_hat, y_train_test = predict_train(features_bert_og, y_true, get_optimal_rf_model(features_bert_og[:500], y_true[:500]))\n",
        "plot_accuracy(y_train_test, y_train_test_hat)"
      ],
      "execution_count": 32,
      "outputs": [
        {
          "output_type": "stream",
          "text": [
            "Optimal parameters: {'max_depth': 4, 'min_samples_split': 4, 'n_estimators': 200, 'subsample': 0.6}\n",
            "Accuracy: 0.6952928797176983\n"
          ],
          "name": "stdout"
        },
        {
          "output_type": "display_data",
          "data": {
            "image/png": "[encoded data removed]",
            "text/plain": [
              "<Figure size 720x360 with 1 Axes>"
            ]
          },
          "metadata": {
            "tags": []
          }
        }
      ]
    },
    {
      "cell_type": "code",
      "metadata": {
        "id": "1lXLFIpISSgw",
        "colab_type": "code",
        "colab": {}
      },
      "source": [
        "y_train_test_hat, y_train_test = predict_train(features_bert_cls_og, y_true, get_optimal_rf_model(features_bert_cls_og[:500], y_true[:500]))\n",
        "plot_accuracy(y_train_test, y_train_test_hat)"
      ],
      "execution_count": 0,
      "outputs": []
    },
    {
      "cell_type": "markdown",
      "metadata": {
        "id": "giiR-WwBKI7g",
        "colab_type": "text"
      },
      "source": [
        "#### fine tunedBERT on *dataset*"
      ]
    },
    {
      "cell_type": "code",
      "metadata": {
        "id": "4ys2b0SXKuvI",
        "colab_type": "code",
        "colab": {}
      },
      "source": [
        "!cp '/content/drive/My Drive/bert_finetuned_sts_biomedical.zip' ./bert_finetuned_sts_biomedical.zip"
      ],
      "execution_count": 0,
      "outputs": []
    },
    {
      "cell_type": "code",
      "metadata": {
        "id": "_4-CM_w8Lday",
        "colab_type": "code",
        "colab": {
          "base_uri": "https://localhost:8080/",
          "height": 271
        },
        "outputId": "b1b20335-6922-41d1-9c69-bfd0fd8c138b"
      },
      "source": [
        "!unzip bert_finetuned_sts_biomedical.zip "
      ],
      "execution_count": 34,
      "outputs": [
        {
          "output_type": "stream",
          "text": [
            "Archive:  bert_finetuned_sts_biomedical.zip\n",
            "   creating: output/\n",
            "   creating: output/training_n2c2_sts_bert-2019-11-28_11-43-46/\n",
            " extracting: output/training_n2c2_sts_bert-2019-11-28_11-43-46/config.json  \n",
            "   creating: output/training_n2c2_sts_bert-2019-11-28_11-43-46/1_Pooling/\n",
            "  inflating: output/training_n2c2_sts_bert-2019-11-28_11-43-46/1_Pooling/config.json  \n",
            "  inflating: output/training_n2c2_sts_bert-2019-11-28_11-43-46/similarity_evaluation_results.csv  \n",
            "  inflating: output/training_n2c2_sts_bert-2019-11-28_11-43-46/modules.json  \n",
            "   creating: output/training_n2c2_sts_bert-2019-11-28_11-43-46/0_BERT/\n",
            "  inflating: output/training_n2c2_sts_bert-2019-11-28_11-43-46/0_BERT/config.json  \n",
            "  inflating: output/training_n2c2_sts_bert-2019-11-28_11-43-46/0_BERT/vocab.txt  \n",
            "  inflating: output/training_n2c2_sts_bert-2019-11-28_11-43-46/0_BERT/pytorch_model.bin  \n",
            "  inflating: output/training_n2c2_sts_bert-2019-11-28_11-43-46/0_BERT/special_tokens_map.json  \n",
            " extracting: output/training_n2c2_sts_bert-2019-11-28_11-43-46/0_BERT/added_tokens.json  \n",
            "  inflating: output/training_n2c2_sts_bert-2019-11-28_11-43-46/0_BERT/sentence_bert_config.json  \n"
          ],
          "name": "stdout"
        }
      ]
    },
    {
      "cell_type": "code",
      "metadata": {
        "id": "m9Yg1mVxN189",
        "colab_type": "code",
        "colab": {}
      },
      "source": [
        "pretrained_weights = 'output/training_n2c2_sts_bert-2019-11-28_11-43-46/0_BERT'\n",
        "\n",
        "# Load pretrained model/tokenizer\n",
        "sts_biomedical_bert_tokenizer = tokenizer_class.from_pretrained(pretrained_weights)\n",
        "sts_biomedical_bert_model = model_class.from_pretrained(pretrained_weights)"
      ],
      "execution_count": 0,
      "outputs": []
    },
    {
      "cell_type": "code",
      "metadata": {
        "id": "b318wP4tOl3l",
        "colab_type": "code",
        "colab": {}
      },
      "source": [
        "features_bert_sts_biomedical_train60, features_bert_cls_sts_biomedical_train60 = bert_based_features_original(X_train60, sts_biomedical_bert_model, sts_biomedical_bert_tokenizer)"
      ],
      "execution_count": 0,
      "outputs": []
    },
    {
      "cell_type": "code",
      "metadata": {
        "id": "jqAtNNlRRoLk",
        "colab_type": "code",
        "colab": {}
      },
      "source": [
        "features_bert_sts_biomedical_test20, features_bert_cls_sts_biomedical_test20 = bert_based_features_original(X_test20, sts_biomedical_bert_model, sts_biomedical_bert_tokenizer)"
      ],
      "execution_count": 0,
      "outputs": []
    },
    {
      "cell_type": "code",
      "metadata": {
        "id": "ogGS0sF1IzjS",
        "colab_type": "code",
        "colab": {
          "base_uri": "https://localhost:8080/",
          "height": 711
        },
        "outputId": "3b0011bb-38e9-4843-ba85-9222c20e4026"
      },
      "source": [
        "features_bert_sts_biomedical, features_bert_cls_sts_biomedical = bert_based_features_original(X_train_original, sts_biomedical_bert_model, sts_biomedical_bert_tokenizer)"
      ],
      "execution_count": 46,
      "outputs": [
        {
          "output_type": "stream",
          "text": [
            "768\n",
            "768\n",
            "768\n",
            "768\n",
            "33\n",
            "179\n",
            " Patient arrives, via hospital wheelchair, Gait steady, History obtained from patient, Patient appears comfortable, Patient cooperative, alert, Oriented to person, place and time.\n",
            "i= 0\n",
            "i= 50\n",
            "i= 100\n",
            "i= 150\n",
            "i= 200\n",
            "i= 250\n",
            "i= 300\n",
            "i= 350\n",
            "i= 400\n",
            "i= 450\n",
            "i= 500\n",
            "i= 550\n",
            "i= 600\n",
            "i= 650\n",
            "i= 700\n",
            "i= 750\n",
            "i= 800\n",
            "i= 850\n",
            "i= 900\n",
            "i= 950\n",
            "i= 1000\n",
            "i= 1050\n",
            "i= 1100\n",
            "i= 1150\n",
            "i= 1200\n",
            "i= 1250\n",
            "i= 1300\n",
            "i= 1350\n",
            "i= 1400\n",
            "i= 1450\n",
            "i= 1500\n",
            "i= 1550\n",
            "i= 1600\n",
            "i= 1650\n"
          ],
          "name": "stdout"
        }
      ]
    },
    {
      "cell_type": "code",
      "metadata": {
        "id": "sbf9QzE3R6AG",
        "colab_type": "code",
        "colab": {
          "base_uri": "https://localhost:8080/",
          "height": 388
        },
        "outputId": "e85b82a6-f189-415a-a76a-c3e79ec59717"
      },
      "source": [
        "y_train_test_hat, y_train_test = predict_train(features_bert_sts_biomedical, y_true, get_optimal_rf_model(features_bert_sts_biomedical[:500], y_true[:500]))\n",
        "plot_accuracy(y_train_test, y_train_test_hat)"
      ],
      "execution_count": 47,
      "outputs": [
        {
          "output_type": "stream",
          "text": [
            "Optimal parameters: {'max_depth': 4, 'min_samples_split': 6, 'n_estimators': 400, 'subsample': 0.7}\n",
            "Accuracy: 0.8878744404205204\n"
          ],
          "name": "stdout"
        },
        {
          "output_type": "display_data",
          "data": {
            "image/png": "[encoded data removed]",
            "text/plain": [
              "<Figure size 720x360 with 1 Axes>"
            ]
          },
          "metadata": {
            "tags": []
          }
        }
      ]
    },
    {
      "cell_type": "markdown",
      "metadata": {
        "id": "7Up0N-lTOLVE",
        "colab_type": "text"
      },
      "source": [
        "##### test on actual test data"
      ]
    },
    {
      "cell_type": "code",
      "metadata": {
        "id": "ZOwHau28TLpY",
        "colab_type": "code",
        "colab": {}
      },
      "source": [
        "features_bert_sts_biomedical_test, features_bert_cls_sts_biomedical_test = bert_based_features_original(X_test_original, sts_biomedical_bert_model, sts_biomedical_bert_tokenizer)"
      ],
      "execution_count": 0,
      "outputs": []
    },
    {
      "cell_type": "code",
      "metadata": {
        "id": "cJPHoz3WPQ02",
        "colab_type": "code",
        "colab": {}
      },
      "source": [
        "y_hat = np.zeros(y_test_original.shape[0])\n",
        "\n",
        "gb_model = GradientBoostingRegressor(n_estimators=100, max_depth=2)\n",
        "gb_model.fit(features_bert_sts_biomedical, y_true)\n",
        "y_hat =gb_model.predict(features_bert_sts_biomedical_test)\n",
        "\n",
        "print('Accuracy:')\n",
        "print(accuracy(y_test_original, y_hat))\n",
        "plt.plot(y_test_original, y_hat, 'ro')\n",
        "plt.xlabel('Actual')\n",
        "plt.ylabel('Predicted')\n",
        "plt.title('Predicted vs Actual')\n",
        "plt.show()"
      ],
      "execution_count": 0,
      "outputs": []
    },
    {
      "cell_type": "markdown",
      "metadata": {
        "id": "HiiJrRe7eCUT",
        "colab_type": "text"
      },
      "source": [
        "#### fine tuned **roberta**"
      ]
    },
    {
      "cell_type": "code",
      "metadata": {
        "colab_type": "code",
        "id": "Yxcl_P4ierwx",
        "colab": {}
      },
      "source": [
        "!cp '/content/drive/My Drive/roberta_finetuned_sts_biomedical.zip' ./roberta_finetuned_sts_biomedical.zip"
      ],
      "execution_count": 0,
      "outputs": []
    },
    {
      "cell_type": "code",
      "metadata": {
        "colab_type": "code",
        "id": "-QLKUXvgerw9",
        "colab": {
          "base_uri": "https://localhost:8080/",
          "height": 271
        },
        "outputId": "d0ca1d95-9696-4033-df1f-541eb4ebc3d5"
      },
      "source": [
        "!unzip roberta_finetuned_sts_biomedical.zip "
      ],
      "execution_count": 38,
      "outputs": [
        {
          "output_type": "stream",
          "text": [
            "Archive:  roberta_finetuned_sts_biomedical.zip\n",
            "   creating: output/training_n2c2_sts_roberta-2019-12-03_08-16-46/\n",
            "   creating: output/training_n2c2_sts_roberta-2019-12-03_08-16-46/0_RoBERTa/\n",
            " extracting: output/training_n2c2_sts_roberta-2019-12-03_08-16-46/0_RoBERTa/added_tokens.json  \n",
            "  inflating: output/training_n2c2_sts_roberta-2019-12-03_08-16-46/0_RoBERTa/merges.txt  \n",
            "  inflating: output/training_n2c2_sts_roberta-2019-12-03_08-16-46/0_RoBERTa/pytorch_model.bin  \n",
            "  inflating: output/training_n2c2_sts_roberta-2019-12-03_08-16-46/0_RoBERTa/sentence_roberta_config.json  \n",
            "  inflating: output/training_n2c2_sts_roberta-2019-12-03_08-16-46/0_RoBERTa/vocab.json  \n",
            "  inflating: output/training_n2c2_sts_roberta-2019-12-03_08-16-46/0_RoBERTa/config.json  \n",
            "  inflating: output/training_n2c2_sts_roberta-2019-12-03_08-16-46/0_RoBERTa/special_tokens_map.json  \n",
            "  inflating: output/training_n2c2_sts_roberta-2019-12-03_08-16-46/similarity_evaluation_results.csv  \n",
            " extracting: output/training_n2c2_sts_roberta-2019-12-03_08-16-46/config.json  \n",
            "  inflating: output/training_n2c2_sts_roberta-2019-12-03_08-16-46/modules.json  \n",
            "   creating: output/training_n2c2_sts_roberta-2019-12-03_08-16-46/1_Pooling/\n",
            "  inflating: output/training_n2c2_sts_roberta-2019-12-03_08-16-46/1_Pooling/config.json  \n"
          ],
          "name": "stdout"
        }
      ]
    },
    {
      "cell_type": "code",
      "metadata": {
        "colab_type": "code",
        "id": "73c7gKMYerxA",
        "colab": {}
      },
      "source": [
        "roberta_model_class = RobertaModel\n",
        "roberta_tokenizer_class = RobertaTokenizer\n",
        "pretrained_weights = 'output/training_n2c2_sts_roberta-2019-12-03_08-16-46/0_RoBERTa'\n",
        "# Load pretrained model/tokenizer\n",
        "sts_biomedical_roberta_tokenizer = roberta_tokenizer_class.from_pretrained(pretrained_weights)\n",
        "sts_biomedical_roberta_model = roberta_model_class.from_pretrained(pretrained_weights)"
      ],
      "execution_count": 0,
      "outputs": []
    },
    {
      "cell_type": "code",
      "metadata": {
        "colab_type": "code",
        "id": "iivmkrVperxE",
        "colab": {
          "base_uri": "https://localhost:8080/",
          "height": 694
        },
        "outputId": "14d2fb52-5d7d-452e-e48a-ca7e3113fd96"
      },
      "source": [
        "features_roberta_sts_biomedical, features_roberta_cls_sts_biomedical = bert_based_features_original(X_train_original, sts_biomedical_roberta_model, sts_biomedical_roberta_tokenizer)"
      ],
      "execution_count": 48,
      "outputs": [
        {
          "output_type": "stream",
          "text": [
            "768\n",
            "768\n",
            "768\n",
            "768\n",
            "35\n",
            "179\n",
            " Patient arrives, via hospital wheelchair, Gait steady, History obtained from patient, Patient appears comfortable, Patient cooperative, alert, Oriented to person, place and time.\n",
            "i= 0\n",
            "i= 50\n",
            "i= 100\n",
            "i= 150\n",
            "i= 200\n",
            "i= 250\n",
            "i= 300\n",
            "i= 350\n",
            "i= 400\n",
            "i= 450\n",
            "i= 500\n",
            "i= 550\n",
            "i= 600\n",
            "i= 650\n",
            "i= 700\n",
            "i= 750\n",
            "i= 800\n",
            "i= 850\n",
            "i= 900\n",
            "i= 950\n",
            "i= 1000\n",
            "i= 1050\n",
            "i= 1100\n",
            "i= 1150\n",
            "i= 1200\n",
            "i= 1250\n",
            "i= 1350\n",
            "i= 1400\n",
            "i= 1450\n",
            "i= 1500\n",
            "i= 1550\n",
            "i= 1600\n",
            "i= 1650\n"
          ],
          "name": "stdout"
        }
      ]
    },
    {
      "cell_type": "code",
      "metadata": {
        "colab_type": "code",
        "id": "mKMEKhh0erxN",
        "colab": {}
      },
      "source": [
        "features_roberta_sts_biomedical_test, features_roberta_cls_sts_biomedical_test = bert_based_features_original(X_test_original, sts_biomedical_roberta_model, sts_biomedical_roberta_tokenizer)"
      ],
      "execution_count": 0,
      "outputs": []
    },
    {
      "cell_type": "code",
      "metadata": {
        "colab_type": "code",
        "id": "GDfLy3G4erxP",
        "colab": {
          "base_uri": "https://localhost:8080/",
          "height": 388
        },
        "outputId": "669d46aa-7755-44f1-c1a1-bfea1c794d00"
      },
      "source": [
        "y_train_test_hat, y_train_test = predict_train(features_roberta_sts_biomedical, y_true, get_optimal_rf_model(features_roberta_sts_biomedical[:500], y_true[:500]))\n",
        "plot_accuracy(y_train_test, y_train_test_hat)"
      ],
      "execution_count": 49,
      "outputs": [
        {
          "output_type": "stream",
          "text": [
            "Optimal parameters: {'max_depth': 4, 'min_samples_split': 8, 'n_estimators': 400, 'subsample': 0.7}\n",
            "Accuracy: 0.8886079232922197\n"
          ],
          "name": "stdout"
        },
        {
          "output_type": "display_data",
          "data": {
            "image/png": "[encoded data removed]",
            "text/plain": [
              "<Figure size 720x360 with 1 Axes>"
            ]
          },
          "metadata": {
            "tags": []
          }
        }
      ]
    },
    {
      "cell_type": "markdown",
      "metadata": {
        "id": "EPa-lpblb7Aa",
        "colab_type": "text"
      },
      "source": [
        "#### fine tuned bio bert"
      ]
    },
    {
      "cell_type": "code",
      "metadata": {
        "colab_type": "code",
        "id": "aJaOEMURb-oT",
        "colab": {}
      },
      "source": [
        "!cp '/content/drive/My Drive/biobert_finetuned_sts_biomedical_mean_only.zip' ./biobert_finetuned_sts_biomedical_mean_only.zip"
      ],
      "execution_count": 0,
      "outputs": []
    },
    {
      "cell_type": "code",
      "metadata": {
        "colab_type": "code",
        "id": "oOsF5yDMb-oc",
        "colab": {
          "base_uri": "https://localhost:8080/",
          "height": 474
        },
        "outputId": "930ab75b-1cd2-4e0b-a42c-9a07735a9493"
      },
      "source": [
        "!unzip biobert_finetuned_sts_biomedical_mean_only.zip "
      ],
      "execution_count": 42,
      "outputs": [
        {
          "output_type": "stream",
          "text": [
            "Archive:  biobert_finetuned_sts_biomedical_mean_only.zip\n",
            "   creating: output/training_n2c2_sts_bert-2019-11-29_05-53-55/\n",
            " extracting: output/training_n2c2_sts_bert-2019-11-29_05-53-55/config.json  \n",
            "   creating: output/training_n2c2_sts_bert-2019-11-29_05-53-55/1_Pooling/\n",
            "  inflating: output/training_n2c2_sts_bert-2019-11-29_05-53-55/1_Pooling/config.json  \n",
            "  inflating: output/training_n2c2_sts_bert-2019-11-29_05-53-55/similarity_evaluation_results.csv  \n",
            "  inflating: output/training_n2c2_sts_bert-2019-11-29_05-53-55/modules.json  \n",
            "   creating: output/training_n2c2_sts_bert-2019-11-29_05-53-55/0_BERT/\n",
            "  inflating: output/training_n2c2_sts_bert-2019-11-29_05-53-55/0_BERT/config.json  \n",
            "  inflating: output/training_n2c2_sts_bert-2019-11-29_05-53-55/0_BERT/vocab.txt  \n",
            "  inflating: output/training_n2c2_sts_bert-2019-11-29_05-53-55/0_BERT/pytorch_model.bin  \n",
            "  inflating: output/training_n2c2_sts_bert-2019-11-29_05-53-55/0_BERT/special_tokens_map.json  \n",
            " extracting: output/training_n2c2_sts_bert-2019-11-29_05-53-55/0_BERT/added_tokens.json  \n",
            "  inflating: output/training_n2c2_sts_bert-2019-11-29_05-53-55/0_BERT/sentence_bert_config.json  \n",
            "   creating: output/training_n2c2_sts_bert-2019-11-29_08-50-55/\n",
            " extracting: output/training_n2c2_sts_bert-2019-11-29_08-50-55/config.json  \n",
            "   creating: output/training_n2c2_sts_bert-2019-11-29_08-50-55/1_Pooling/\n",
            "  inflating: output/training_n2c2_sts_bert-2019-11-29_08-50-55/1_Pooling/config.json  \n",
            "  inflating: output/training_n2c2_sts_bert-2019-11-29_08-50-55/similarity_evaluation_results.csv  \n",
            "  inflating: output/training_n2c2_sts_bert-2019-11-29_08-50-55/modules.json  \n",
            "   creating: output/training_n2c2_sts_bert-2019-11-29_08-50-55/0_BERT/\n",
            "  inflating: output/training_n2c2_sts_bert-2019-11-29_08-50-55/0_BERT/config.json  \n",
            "  inflating: output/training_n2c2_sts_bert-2019-11-29_08-50-55/0_BERT/vocab.txt  \n",
            "  inflating: output/training_n2c2_sts_bert-2019-11-29_08-50-55/0_BERT/pytorch_model.bin  \n",
            "  inflating: output/training_n2c2_sts_bert-2019-11-29_08-50-55/0_BERT/special_tokens_map.json  \n",
            " extracting: output/training_n2c2_sts_bert-2019-11-29_08-50-55/0_BERT/added_tokens.json  \n",
            "  inflating: output/training_n2c2_sts_bert-2019-11-29_08-50-55/0_BERT/sentence_bert_config.json  \n"
          ],
          "name": "stdout"
        }
      ]
    },
    {
      "cell_type": "code",
      "metadata": {
        "colab_type": "code",
        "id": "DVhsxLFsb-oj",
        "colab": {}
      },
      "source": [
        "pretrained_weights = 'output/training_n2c2_sts_bert-2019-11-29_05-53-55/0_BERT'\n",
        "\n",
        "# Load pretrained model/tokenizer\n",
        "sts_biomedical_biobert_tokenizer = tokenizer_class.from_pretrained(pretrained_weights)\n",
        "sts_biomedical_biobert_model = model_class.from_pretrained(pretrained_weights)"
      ],
      "execution_count": 0,
      "outputs": []
    },
    {
      "cell_type": "code",
      "metadata": {
        "colab_type": "code",
        "id": "rsyNfZ5Ob-oo",
        "colab": {
          "base_uri": "https://localhost:8080/",
          "height": 711
        },
        "outputId": "d2946d8d-90b3-4eb0-bde9-9e6f357f3770"
      },
      "source": [
        "features_biobert_sts_biomedical, features_biobert_cls_sts_biomedical = bert_based_features_original(X_train_original, sts_biomedical_biobert_model, sts_biomedical_biobert_tokenizer)"
      ],
      "execution_count": 50,
      "outputs": [
        {
          "output_type": "stream",
          "text": [
            "768\n",
            "768\n",
            "768\n",
            "768\n",
            "33\n",
            "179\n",
            " Patient arrives, via hospital wheelchair, Gait steady, History obtained from patient, Patient appears comfortable, Patient cooperative, alert, Oriented to person, place and time.\n",
            "i= 0\n",
            "i= 50\n",
            "i= 100\n",
            "i= 150\n",
            "i= 200\n",
            "i= 250\n",
            "i= 300\n",
            "i= 350\n",
            "i= 400\n",
            "i= 450\n",
            "i= 500\n",
            "i= 550\n",
            "i= 600\n",
            "i= 650\n",
            "i= 700\n",
            "i= 750\n",
            "i= 800\n",
            "i= 850\n",
            "i= 900\n",
            "i= 950\n",
            "i= 1000\n",
            "i= 1050\n",
            "i= 1100\n",
            "i= 1150\n",
            "i= 1200\n",
            "i= 1250\n",
            "i= 1300\n",
            "i= 1350\n",
            "i= 1400\n",
            "i= 1450\n",
            "i= 1500\n",
            "i= 1550\n",
            "i= 1600\n",
            "i= 1650\n"
          ],
          "name": "stdout"
        }
      ]
    },
    {
      "cell_type": "code",
      "metadata": {
        "id": "vsL69BbkSeHX",
        "colab_type": "code",
        "colab": {
          "base_uri": "https://localhost:8080/",
          "height": 388
        },
        "outputId": "aa01ece0-6c8a-4b8f-9880-592f4db06fbd"
      },
      "source": [
        "y_train_test_hat, y_train_test = predict_train(features_biobert_sts_biomedical, y_true, get_optimal_rf_model(features_biobert_sts_biomedical[:500], y_true[:500]))\n",
        "plot_accuracy(y_train_test, y_train_test_hat)"
      ],
      "execution_count": 51,
      "outputs": [
        {
          "output_type": "stream",
          "text": [
            "Optimal parameters: {'max_depth': 4, 'min_samples_split': 2, 'n_estimators': 500, 'subsample': 0.7}\n",
            "Accuracy: 0.9202214653121965\n"
          ],
          "name": "stdout"
        },
        {
          "output_type": "display_data",
          "data": {
            "image/png": "[encoded data removed]",
            "text/plain": [
              "<Figure size 720x360 with 1 Axes>"
            ]
          },
          "metadata": {
            "tags": []
          }
        }
      ]
    },
    {
      "cell_type": "code",
      "metadata": {
        "id": "_Fr0wtoySfNt",
        "colab_type": "code",
        "colab": {}
      },
      "source": [
        "y_train_test_hat, y_train_test = predict_train(features_biobert_cls_sts_biomedical, y_true, get_optimal_rf_model(features_biobert_cls_sts_biomedical[:500], y_true[:500]))\n",
        "plot_accuracy(y_train_test, y_train_test_hat)"
      ],
      "execution_count": 0,
      "outputs": []
    },
    {
      "cell_type": "markdown",
      "metadata": {
        "id": "OmbNLIjvm5_I",
        "colab_type": "text"
      },
      "source": [
        "#### BIO BERT"
      ]
    },
    {
      "cell_type": "code",
      "metadata": {
        "id": "jGBxRont-Ens",
        "colab_type": "code",
        "colab": {
          "base_uri": "https://localhost:8080/",
          "height": 84
        },
        "outputId": "64a5907b-cc62-4998-8ce8-fa1e960b0a5b"
      },
      "source": [
        "!gdown https://drive.google.com/uc?id=1R84voFKHfWV9xjzeLzWBbmY1uOMYpnyD"
      ],
      "execution_count": 52,
      "outputs": [
        {
          "output_type": "stream",
          "text": [
            "Downloading...\n",
            "From: https://drive.google.com/uc?id=1R84voFKHfWV9xjzeLzWBbmY1uOMYpnyD\n",
            "To: /content/biobert_v1.1_pubmed.tar.gz\n",
            "401MB [00:05, 78.1MB/s]\n"
          ],
          "name": "stdout"
        }
      ]
    },
    {
      "cell_type": "code",
      "metadata": {
        "id": "CuMp_m-i-PAb",
        "colab_type": "code",
        "colab": {
          "base_uri": "https://localhost:8080/",
          "height": 118
        },
        "outputId": "329da916-40c7-4fc5-8dd6-bf4579fdeb5a"
      },
      "source": [
        "!tar xvzf biobert_v1.1_pubmed.tar.gz"
      ],
      "execution_count": 53,
      "outputs": [
        {
          "output_type": "stream",
          "text": [
            "biobert_v1.1_pubmed/\n",
            "biobert_v1.1_pubmed/model.ckpt-1000000.data-00000-of-00001\n",
            "biobert_v1.1_pubmed/model.ckpt-1000000.meta\n",
            "biobert_v1.1_pubmed/bert_config.json\n",
            "biobert_v1.1_pubmed/vocab.txt\n",
            "biobert_v1.1_pubmed/model.ckpt-1000000.index\n"
          ],
          "name": "stdout"
        }
      ]
    },
    {
      "cell_type": "code",
      "metadata": {
        "id": "7UQ3y9DEAFL5",
        "colab_type": "code",
        "colab": {
          "base_uri": "https://localhost:8080/",
          "height": 1000
        },
        "outputId": "22b7d711-88d9-46cc-a712-e7127ffd9062"
      },
      "source": [
        "!transformers bert biobert_v1.1_pubmed/model.ckpt-1000000 biobert_v1.1_pubmed/bert_config.json biobert_v1.1_pubmed/pytorch_model.bin"
      ],
      "execution_count": 54,
      "outputs": [
        {
          "output_type": "stream",
          "text": [
            "Building PyTorch model from configuration: {\n",
            "  \"attention_probs_dropout_prob\": 0.1,\n",
            "  \"finetuning_task\": null,\n",
            "  \"hidden_act\": \"gelu\",\n",
            "  \"hidden_dropout_prob\": 0.1,\n",
            "  \"hidden_size\": 768,\n",
            "  \"initializer_range\": 0.02,\n",
            "  \"intermediate_size\": 3072,\n",
            "  \"is_decoder\": false,\n",
            "  \"layer_norm_eps\": 1e-12,\n",
            "  \"max_position_embeddings\": 512,\n",
            "  \"num_attention_heads\": 12,\n",
            "  \"num_hidden_layers\": 12,\n",
            "  \"num_labels\": 2,\n",
            "  \"output_attentions\": false,\n",
            "  \"output_hidden_states\": false,\n",
            "  \"output_past\": true,\n",
            "  \"pruned_heads\": {},\n",
            "  \"torchscript\": false,\n",
            "  \"type_vocab_size\": 2,\n",
            "  \"use_bfloat16\": false,\n",
            "  \"vocab_size\": 28996\n",
            "}\n",
            "\n",
            "INFO:transformers.modeling_bert:Converting TensorFlow checkpoint from /content/biobert_v1.1_pubmed/model.ckpt-1000000\n",
            "INFO:transformers.modeling_bert:Loading TF weight bert/embeddings/LayerNorm/beta with shape [768]\n",
            "INFO:transformers.modeling_bert:Loading TF weight bert/embeddings/LayerNorm/gamma with shape [768]\n",
            "INFO:transformers.modeling_bert:Loading TF weight bert/embeddings/position_embeddings with shape [512, 768]\n",
            "INFO:transformers.modeling_bert:Loading TF weight bert/embeddings/token_type_embeddings with shape [2, 768]\n",
            "INFO:transformers.modeling_bert:Loading TF weight bert/embeddings/word_embeddings with shape [28996, 768]\n",
            "INFO:transformers.modeling_bert:Loading TF weight bert/encoder/layer_0/attention/output/LayerNorm/beta with shape [768]\n",
            "INFO:transformers.modeling_bert:Loading TF weight bert/encoder/layer_0/attention/output/LayerNorm/gamma with shape [768]\n",
            "INFO:transformers.modeling_bert:Loading TF weight bert/encoder/layer_0/attention/output/dense/bias with shape [768]\n",
            "INFO:transformers.modeling_bert:Loading TF weight bert/encoder/layer_0/attention/output/dense/kernel with shape [768, 768]\n",
            "INFO:transformers.modeling_bert:Loading TF weight bert/encoder/layer_0/attention/self/key/bias with shape [768]\n",
            "INFO:transformers.modeling_bert:Loading TF weight bert/encoder/layer_0/attention/self/key/kernel with shape [768, 768]\n",
            "INFO:transformers.modeling_bert:Loading TF weight bert/encoder/layer_0/attention/self/query/bias with shape [768]\n",
            "INFO:transformers.modeling_bert:Loading TF weight bert/encoder/layer_0/attention/self/query/kernel with shape [768, 768]\n",
            "INFO:transformers.modeling_bert:Loading TF weight bert/encoder/layer_0/attention/self/value/bias with shape [768]\n",
            "INFO:transformers.modeling_bert:Loading TF weight bert/encoder/layer_0/attention/self/value/kernel with shape [768, 768]\n",
            "INFO:transformers.modeling_bert:Loading TF weight bert/encoder/layer_0/intermediate/dense/bias with shape [3072]\n",
            "INFO:transformers.modeling_bert:Loading TF weight bert/encoder/layer_0/intermediate/dense/kernel with shape [768, 3072]\n",
            "INFO:transformers.modeling_bert:Loading TF weight bert/encoder/layer_0/output/LayerNorm/beta with shape [768]\n",
            "INFO:transformers.modeling_bert:Loading TF weight bert/encoder/layer_0/output/LayerNorm/gamma with shape [768]\n",
            "INFO:transformers.modeling_bert:Loading TF weight bert/encoder/layer_0/output/dense/bias with shape [768]\n",
            "INFO:transformers.modeling_bert:Loading TF weight bert/encoder/layer_0/output/dense/kernel with shape [3072, 768]\n",
            "INFO:transformers.modeling_bert:Loading TF weight bert/encoder/layer_1/attention/output/LayerNorm/beta with shape [768]\n",
            "INFO:transformers.modeling_bert:Loading TF weight bert/encoder/layer_1/attention/output/LayerNorm/gamma with shape [768]\n",
            "INFO:transformers.modeling_bert:Loading TF weight bert/encoder/layer_1/attention/output/dense/bias with shape [768]\n",
            "INFO:transformers.modeling_bert:Loading TF weight bert/encoder/layer_1/attention/output/dense/kernel with shape [768, 768]\n",
            "INFO:transformers.modeling_bert:Loading TF weight bert/encoder/layer_1/attention/self/key/bias with shape [768]\n",
            "INFO:transformers.modeling_bert:Loading TF weight bert/encoder/layer_1/attention/self/key/kernel with shape [768, 768]\n",
            "INFO:transformers.modeling_bert:Loading TF weight bert/encoder/layer_1/attention/self/query/bias with shape [768]\n",
            "INFO:transformers.modeling_bert:Loading TF weight bert/encoder/layer_1/attention/self/query/kernel with shape [768, 768]\n",
            "INFO:transformers.modeling_bert:Loading TF weight bert/encoder/layer_1/attention/self/value/bias with shape [768]\n",
            "INFO:transformers.modeling_bert:Loading TF weight bert/encoder/layer_1/attention/self/value/kernel with shape [768, 768]\n",
            "INFO:transformers.modeling_bert:Loading TF weight bert/encoder/layer_1/intermediate/dense/bias with shape [3072]\n",
            "INFO:transformers.modeling_bert:Loading TF weight bert/encoder/layer_1/intermediate/dense/kernel with shape [768, 3072]\n",
            "INFO:transformers.modeling_bert:Loading TF weight bert/encoder/layer_1/output/LayerNorm/beta with shape [768]\n",
            "INFO:transformers.modeling_bert:Loading TF weight bert/encoder/layer_1/output/LayerNorm/gamma with shape [768]\n",
            "INFO:transformers.modeling_bert:Loading TF weight bert/encoder/layer_1/output/dense/bias with shape [768]\n",
            "INFO:transformers.modeling_bert:Loading TF weight bert/encoder/layer_1/output/dense/kernel with shape [3072, 768]\n",
            "INFO:transformers.modeling_bert:Loading TF weight bert/encoder/layer_10/attention/output/LayerNorm/beta with shape [768]\n",
            "INFO:transformers.modeling_bert:Loading TF weight bert/encoder/layer_10/attention/output/LayerNorm/gamma with shape [768]\n",
            "INFO:transformers.modeling_bert:Loading TF weight bert/encoder/layer_10/attention/output/dense/bias with shape [768]\n",
            "INFO:transformers.modeling_bert:Loading TF weight bert/encoder/layer_10/attention/output/dense/kernel with shape [768, 768]\n",
            "INFO:transformers.modeling_bert:Loading TF weight bert/encoder/layer_10/attention/self/key/bias with shape [768]\n",
            "INFO:transformers.modeling_bert:Loading TF weight bert/encoder/layer_10/attention/self/key/kernel with shape [768, 768]\n",
            "INFO:transformers.modeling_bert:Loading TF weight bert/encoder/layer_10/attention/self/query/bias with shape [768]\n",
            "INFO:transformers.modeling_bert:Loading TF weight bert/encoder/layer_10/attention/self/query/kernel with shape [768, 768]\n",
            "INFO:transformers.modeling_bert:Loading TF weight bert/encoder/layer_10/attention/self/value/bias with shape [768]\n",
            "INFO:transformers.modeling_bert:Loading TF weight bert/encoder/layer_10/attention/self/value/kernel with shape [768, 768]\n",
            "INFO:transformers.modeling_bert:Loading TF weight bert/encoder/layer_10/intermediate/dense/bias with shape [3072]\n",
            "INFO:transformers.modeling_bert:Loading TF weight bert/encoder/layer_10/intermediate/dense/kernel with shape [768, 3072]\n",
            "INFO:transformers.modeling_bert:Loading TF weight bert/encoder/layer_10/output/LayerNorm/beta with shape [768]\n",
            "INFO:transformers.modeling_bert:Loading TF weight bert/encoder/layer_10/output/LayerNorm/gamma with shape [768]\n",
            "INFO:transformers.modeling_bert:Loading TF weight bert/encoder/layer_10/output/dense/bias with shape [768]\n",
            "INFO:transformers.modeling_bert:Loading TF weight bert/encoder/layer_10/output/dense/kernel with shape [3072, 768]\n",
            "INFO:transformers.modeling_bert:Loading TF weight bert/encoder/layer_11/attention/output/LayerNorm/beta with shape [768]\n",
            "INFO:transformers.modeling_bert:Loading TF weight bert/encoder/layer_11/attention/output/LayerNorm/gamma with shape [768]\n",
            "INFO:transformers.modeling_bert:Loading TF weight bert/encoder/layer_11/attention/output/dense/bias with shape [768]\n",
            "INFO:transformers.modeling_bert:Loading TF weight bert/encoder/layer_11/attention/output/dense/kernel with shape [768, 768]\n",
            "INFO:transformers.modeling_bert:Loading TF weight bert/encoder/layer_11/attention/self/key/bias with shape [768]\n",
            "INFO:transformers.modeling_bert:Loading TF weight bert/encoder/layer_11/attention/self/key/kernel with shape [768, 768]\n",
            "INFO:transformers.modeling_bert:Loading TF weight bert/encoder/layer_11/attention/self/query/bias with shape [768]\n",
            "INFO:transformers.modeling_bert:Loading TF weight bert/encoder/layer_11/attention/self/query/kernel with shape [768, 768]\n",
            "INFO:transformers.modeling_bert:Loading TF weight bert/encoder/layer_11/attention/self/value/bias with shape [768]\n",
            "INFO:transformers.modeling_bert:Loading TF weight bert/encoder/layer_11/attention/self/value/kernel with shape [768, 768]\n",
            "INFO:transformers.modeling_bert:Loading TF weight bert/encoder/layer_11/intermediate/dense/bias with shape [3072]\n",
            "INFO:transformers.modeling_bert:Loading TF weight bert/encoder/layer_11/intermediate/dense/kernel with shape [768, 3072]\n",
            "INFO:transformers.modeling_bert:Loading TF weight bert/encoder/layer_11/output/LayerNorm/beta with shape [768]\n",
            "INFO:transformers.modeling_bert:Loading TF weight bert/encoder/layer_11/output/LayerNorm/gamma with shape [768]\n",
            "INFO:transformers.modeling_bert:Loading TF weight bert/encoder/layer_11/output/dense/bias with shape [768]\n",
            "INFO:transformers.modeling_bert:Loading TF weight bert/encoder/layer_11/output/dense/kernel with shape [3072, 768]\n",
            "INFO:transformers.modeling_bert:Loading TF weight bert/encoder/layer_2/attention/output/LayerNorm/beta with shape [768]\n",
            "INFO:transformers.modeling_bert:Loading TF weight bert/encoder/layer_2/attention/output/LayerNorm/gamma with shape [768]\n",
            "INFO:transformers.modeling_bert:Loading TF weight bert/encoder/layer_2/attention/output/dense/bias with shape [768]\n",
            "INFO:transformers.modeling_bert:Loading TF weight bert/encoder/layer_2/attention/output/dense/kernel with shape [768, 768]\n",
            "INFO:transformers.modeling_bert:Loading TF weight bert/encoder/layer_2/attention/self/key/bias with shape [768]\n",
            "INFO:transformers.modeling_bert:Loading TF weight bert/encoder/layer_2/attention/self/key/kernel with shape [768, 768]\n",
            "INFO:transformers.modeling_bert:Loading TF weight bert/encoder/layer_2/attention/self/query/bias with shape [768]\n",
            "INFO:transformers.modeling_bert:Loading TF weight bert/encoder/layer_2/attention/self/query/kernel with shape [768, 768]\n",
            "INFO:transformers.modeling_bert:Loading TF weight bert/encoder/layer_2/attention/self/value/bias with shape [768]\n",
            "INFO:transformers.modeling_bert:Loading TF weight bert/encoder/layer_2/attention/self/value/kernel with shape [768, 768]\n",
            "INFO:transformers.modeling_bert:Loading TF weight bert/encoder/layer_2/intermediate/dense/bias with shape [3072]\n",
            "INFO:transformers.modeling_bert:Loading TF weight bert/encoder/layer_2/intermediate/dense/kernel with shape [768, 3072]\n",
            "INFO:transformers.modeling_bert:Loading TF weight bert/encoder/layer_2/output/LayerNorm/beta with shape [768]\n",
            "INFO:transformers.modeling_bert:Loading TF weight bert/encoder/layer_2/output/LayerNorm/gamma with shape [768]\n",
            "INFO:transformers.modeling_bert:Loading TF weight bert/encoder/layer_2/output/dense/bias with shape [768]\n",
            "INFO:transformers.modeling_bert:Loading TF weight bert/encoder/layer_2/output/dense/kernel with shape [3072, 768]\n",
            "INFO:transformers.modeling_bert:Loading TF weight bert/encoder/layer_3/attention/output/LayerNorm/beta with shape [768]\n",
            "INFO:transformers.modeling_bert:Loading TF weight bert/encoder/layer_3/attention/output/LayerNorm/gamma with shape [768]\n",
            "INFO:transformers.modeling_bert:Loading TF weight bert/encoder/layer_3/attention/output/dense/bias with shape [768]\n",
            "INFO:transformers.modeling_bert:Loading TF weight bert/encoder/layer_3/attention/output/dense/kernel with shape [768, 768]\n",
            "INFO:transformers.modeling_bert:Loading TF weight bert/encoder/layer_3/attention/self/key/bias with shape [768]\n",
            "INFO:transformers.modeling_bert:Loading TF weight bert/encoder/layer_3/attention/self/key/kernel with shape [768, 768]\n",
            "INFO:transformers.modeling_bert:Loading TF weight bert/encoder/layer_3/attention/self/query/bias with shape [768]\n",
            "INFO:transformers.modeling_bert:Loading TF weight bert/encoder/layer_3/attention/self/query/kernel with shape [768, 768]\n",
            "INFO:transformers.modeling_bert:Loading TF weight bert/encoder/layer_3/attention/self/value/bias with shape [768]\n",
            "INFO:transformers.modeling_bert:Loading TF weight bert/encoder/layer_3/attention/self/value/kernel with shape [768, 768]\n",
            "INFO:transformers.modeling_bert:Loading TF weight bert/encoder/layer_3/intermediate/dense/bias with shape [3072]\n",
            "INFO:transformers.modeling_bert:Loading TF weight bert/encoder/layer_3/intermediate/dense/kernel with shape [768, 3072]\n",
            "INFO:transformers.modeling_bert:Loading TF weight bert/encoder/layer_3/output/LayerNorm/beta with shape [768]\n",
            "INFO:transformers.modeling_bert:Loading TF weight bert/encoder/layer_3/output/LayerNorm/gamma with shape [768]\n",
            "INFO:transformers.modeling_bert:Loading TF weight bert/encoder/layer_3/output/dense/bias with shape [768]\n",
            "INFO:transformers.modeling_bert:Loading TF weight bert/encoder/layer_3/output/dense/kernel with shape [3072, 768]\n",
            "INFO:transformers.modeling_bert:Loading TF weight bert/encoder/layer_4/attention/output/LayerNorm/beta with shape [768]\n",
            "INFO:transformers.modeling_bert:Loading TF weight bert/encoder/layer_4/attention/output/LayerNorm/gamma with shape [768]\n",
            "INFO:transformers.modeling_bert:Loading TF weight bert/encoder/layer_4/attention/output/dense/bias with shape [768]\n",
            "INFO:transformers.modeling_bert:Loading TF weight bert/encoder/layer_4/attention/output/dense/kernel with shape [768, 768]\n",
            "INFO:transformers.modeling_bert:Loading TF weight bert/encoder/layer_4/attention/self/key/bias with shape [768]\n",
            "INFO:transformers.modeling_bert:Loading TF weight bert/encoder/layer_4/attention/self/key/kernel with shape [768, 768]\n",
            "INFO:transformers.modeling_bert:Loading TF weight bert/encoder/layer_4/attention/self/query/bias with shape [768]\n",
            "INFO:transformers.modeling_bert:Loading TF weight bert/encoder/layer_4/attention/self/query/kernel with shape [768, 768]\n",
            "INFO:transformers.modeling_bert:Loading TF weight bert/encoder/layer_4/attention/self/value/bias with shape [768]\n",
            "INFO:transformers.modeling_bert:Loading TF weight bert/encoder/layer_4/attention/self/value/kernel with shape [768, 768]\n",
            "INFO:transformers.modeling_bert:Loading TF weight bert/encoder/layer_4/intermediate/dense/bias with shape [3072]\n",
            "INFO:transformers.modeling_bert:Loading TF weight bert/encoder/layer_4/intermediate/dense/kernel with shape [768, 3072]\n",
            "INFO:transformers.modeling_bert:Loading TF weight bert/encoder/layer_4/output/LayerNorm/beta with shape [768]\n",
            "INFO:transformers.modeling_bert:Loading TF weight bert/encoder/layer_4/output/LayerNorm/gamma with shape [768]\n",
            "INFO:transformers.modeling_bert:Loading TF weight bert/encoder/layer_4/output/dense/bias with shape [768]\n",
            "INFO:transformers.modeling_bert:Loading TF weight bert/encoder/layer_4/output/dense/kernel with shape [3072, 768]\n",
            "INFO:transformers.modeling_bert:Loading TF weight bert/encoder/layer_5/attention/output/LayerNorm/beta with shape [768]\n",
            "INFO:transformers.modeling_bert:Loading TF weight bert/encoder/layer_5/attention/output/LayerNorm/gamma with shape [768]\n",
            "INFO:transformers.modeling_bert:Loading TF weight bert/encoder/layer_5/attention/output/dense/bias with shape [768]\n",
            "INFO:transformers.modeling_bert:Loading TF weight bert/encoder/layer_5/attention/output/dense/kernel with shape [768, 768]\n",
            "INFO:transformers.modeling_bert:Loading TF weight bert/encoder/layer_5/attention/self/key/bias with shape [768]\n",
            "INFO:transformers.modeling_bert:Loading TF weight bert/encoder/layer_5/attention/self/key/kernel with shape [768, 768]\n",
            "INFO:transformers.modeling_bert:Loading TF weight bert/encoder/layer_5/attention/self/query/bias with shape [768]\n",
            "INFO:transformers.modeling_bert:Loading TF weight bert/encoder/layer_5/attention/self/query/kernel with shape [768, 768]\n",
            "INFO:transformers.modeling_bert:Loading TF weight bert/encoder/layer_5/attention/self/value/bias with shape [768]\n",
            "INFO:transformers.modeling_bert:Loading TF weight bert/encoder/layer_5/attention/self/value/kernel with shape [768, 768]\n",
            "INFO:transformers.modeling_bert:Loading TF weight bert/encoder/layer_5/intermediate/dense/bias with shape [3072]\n",
            "INFO:transformers.modeling_bert:Loading TF weight bert/encoder/layer_5/intermediate/dense/kernel with shape [768, 3072]\n",
            "INFO:transformers.modeling_bert:Loading TF weight bert/encoder/layer_5/output/LayerNorm/beta with shape [768]\n",
            "INFO:transformers.modeling_bert:Loading TF weight bert/encoder/layer_5/output/LayerNorm/gamma with shape [768]\n",
            "INFO:transformers.modeling_bert:Loading TF weight bert/encoder/layer_5/output/dense/bias with shape [768]\n",
            "INFO:transformers.modeling_bert:Loading TF weight bert/encoder/layer_5/output/dense/kernel with shape [3072, 768]\n",
            "INFO:transformers.modeling_bert:Loading TF weight bert/encoder/layer_6/attention/output/LayerNorm/beta with shape [768]\n",
            "INFO:transformers.modeling_bert:Loading TF weight bert/encoder/layer_6/attention/output/LayerNorm/gamma with shape [768]\n",
            "INFO:transformers.modeling_bert:Loading TF weight bert/encoder/layer_6/attention/output/dense/bias with shape [768]\n",
            "INFO:transformers.modeling_bert:Loading TF weight bert/encoder/layer_6/attention/output/dense/kernel with shape [768, 768]\n",
            "INFO:transformers.modeling_bert:Loading TF weight bert/encoder/layer_6/attention/self/key/bias with shape [768]\n",
            "INFO:transformers.modeling_bert:Loading TF weight bert/encoder/layer_6/attention/self/key/kernel with shape [768, 768]\n",
            "INFO:transformers.modeling_bert:Loading TF weight bert/encoder/layer_6/attention/self/query/bias with shape [768]\n",
            "INFO:transformers.modeling_bert:Loading TF weight bert/encoder/layer_6/attention/self/query/kernel with shape [768, 768]\n",
            "INFO:transformers.modeling_bert:Loading TF weight bert/encoder/layer_6/attention/self/value/bias with shape [768]\n",
            "INFO:transformers.modeling_bert:Loading TF weight bert/encoder/layer_6/attention/self/value/kernel with shape [768, 768]\n",
            "INFO:transformers.modeling_bert:Loading TF weight bert/encoder/layer_6/intermediate/dense/bias with shape [3072]\n",
            "INFO:transformers.modeling_bert:Loading TF weight bert/encoder/layer_6/intermediate/dense/kernel with shape [768, 3072]\n",
            "INFO:transformers.modeling_bert:Loading TF weight bert/encoder/layer_6/output/LayerNorm/beta with shape [768]\n",
            "INFO:transformers.modeling_bert:Loading TF weight bert/encoder/layer_6/output/LayerNorm/gamma with shape [768]\n",
            "INFO:transformers.modeling_bert:Loading TF weight bert/encoder/layer_6/output/dense/bias with shape [768]\n",
            "INFO:transformers.modeling_bert:Loading TF weight bert/encoder/layer_6/output/dense/kernel with shape [3072, 768]\n",
            "INFO:transformers.modeling_bert:Loading TF weight bert/encoder/layer_7/attention/output/LayerNorm/beta with shape [768]\n",
            "INFO:transformers.modeling_bert:Loading TF weight bert/encoder/layer_7/attention/output/LayerNorm/gamma with shape [768]\n",
            "INFO:transformers.modeling_bert:Loading TF weight bert/encoder/layer_7/attention/output/dense/bias with shape [768]\n",
            "INFO:transformers.modeling_bert:Loading TF weight bert/encoder/layer_7/attention/output/dense/kernel with shape [768, 768]\n",
            "INFO:transformers.modeling_bert:Loading TF weight bert/encoder/layer_7/attention/self/key/bias with shape [768]\n",
            "INFO:transformers.modeling_bert:Loading TF weight bert/encoder/layer_7/attention/self/key/kernel with shape [768, 768]\n",
            "INFO:transformers.modeling_bert:Loading TF weight bert/encoder/layer_7/attention/self/query/bias with shape [768]\n",
            "INFO:transformers.modeling_bert:Loading TF weight bert/encoder/layer_7/attention/self/query/kernel with shape [768, 768]\n",
            "INFO:transformers.modeling_bert:Loading TF weight bert/encoder/layer_7/attention/self/value/bias with shape [768]\n",
            "INFO:transformers.modeling_bert:Loading TF weight bert/encoder/layer_7/attention/self/value/kernel with shape [768, 768]\n",
            "INFO:transformers.modeling_bert:Loading TF weight bert/encoder/layer_7/intermediate/dense/bias with shape [3072]\n",
            "INFO:transformers.modeling_bert:Loading TF weight bert/encoder/layer_7/intermediate/dense/kernel with shape [768, 3072]\n",
            "INFO:transformers.modeling_bert:Loading TF weight bert/encoder/layer_7/output/LayerNorm/beta with shape [768]\n",
            "INFO:transformers.modeling_bert:Loading TF weight bert/encoder/layer_7/output/LayerNorm/gamma with shape [768]\n",
            "INFO:transformers.modeling_bert:Loading TF weight bert/encoder/layer_7/output/dense/bias with shape [768]\n",
            "INFO:transformers.modeling_bert:Loading TF weight bert/encoder/layer_7/output/dense/kernel with shape [3072, 768]\n",
            "INFO:transformers.modeling_bert:Loading TF weight bert/encoder/layer_8/attention/output/LayerNorm/beta with shape [768]\n",
            "INFO:transformers.modeling_bert:Loading TF weight bert/encoder/layer_8/attention/output/LayerNorm/gamma with shape [768]\n",
            "INFO:transformers.modeling_bert:Loading TF weight bert/encoder/layer_8/attention/output/dense/bias with shape [768]\n",
            "INFO:transformers.modeling_bert:Loading TF weight bert/encoder/layer_8/attention/output/dense/kernel with shape [768, 768]\n",
            "INFO:transformers.modeling_bert:Loading TF weight bert/encoder/layer_8/attention/self/key/bias with shape [768]\n",
            "INFO:transformers.modeling_bert:Loading TF weight bert/encoder/layer_8/attention/self/key/kernel with shape [768, 768]\n",
            "INFO:transformers.modeling_bert:Loading TF weight bert/encoder/layer_8/attention/self/query/bias with shape [768]\n",
            "INFO:transformers.modeling_bert:Loading TF weight bert/encoder/layer_8/attention/self/query/kernel with shape [768, 768]\n",
            "INFO:transformers.modeling_bert:Loading TF weight bert/encoder/layer_8/attention/self/value/bias with shape [768]\n",
            "INFO:transformers.modeling_bert:Loading TF weight bert/encoder/layer_8/attention/self/value/kernel with shape [768, 768]\n",
            "INFO:transformers.modeling_bert:Loading TF weight bert/encoder/layer_8/intermediate/dense/bias with shape [3072]\n",
            "INFO:transformers.modeling_bert:Loading TF weight bert/encoder/layer_8/intermediate/dense/kernel with shape [768, 3072]\n",
            "INFO:transformers.modeling_bert:Loading TF weight bert/encoder/layer_8/output/LayerNorm/beta with shape [768]\n",
            "INFO:transformers.modeling_bert:Loading TF weight bert/encoder/layer_8/output/LayerNorm/gamma with shape [768]\n",
            "INFO:transformers.modeling_bert:Loading TF weight bert/encoder/layer_8/output/dense/bias with shape [768]\n",
            "INFO:transformers.modeling_bert:Loading TF weight bert/encoder/layer_8/output/dense/kernel with shape [3072, 768]\n",
            "INFO:transformers.modeling_bert:Loading TF weight bert/encoder/layer_9/attention/output/LayerNorm/beta with shape [768]\n",
            "INFO:transformers.modeling_bert:Loading TF weight bert/encoder/layer_9/attention/output/LayerNorm/gamma with shape [768]\n",
            "INFO:transformers.modeling_bert:Loading TF weight bert/encoder/layer_9/attention/output/dense/bias with shape [768]\n",
            "INFO:transformers.modeling_bert:Loading TF weight bert/encoder/layer_9/attention/output/dense/kernel with shape [768, 768]\n",
            "INFO:transformers.modeling_bert:Loading TF weight bert/encoder/layer_9/attention/self/key/bias with shape [768]\n",
            "INFO:transformers.modeling_bert:Loading TF weight bert/encoder/layer_9/attention/self/key/kernel with shape [768, 768]\n",
            "INFO:transformers.modeling_bert:Loading TF weight bert/encoder/layer_9/attention/self/query/bias with shape [768]\n",
            "INFO:transformers.modeling_bert:Loading TF weight bert/encoder/layer_9/attention/self/query/kernel with shape [768, 768]\n",
            "INFO:transformers.modeling_bert:Loading TF weight bert/encoder/layer_9/attention/self/value/bias with shape [768]\n",
            "INFO:transformers.modeling_bert:Loading TF weight bert/encoder/layer_9/attention/self/value/kernel with shape [768, 768]\n",
            "INFO:transformers.modeling_bert:Loading TF weight bert/encoder/layer_9/intermediate/dense/bias with shape [3072]\n",
            "INFO:transformers.modeling_bert:Loading TF weight bert/encoder/layer_9/intermediate/dense/kernel with shape [768, 3072]\n",
            "INFO:transformers.modeling_bert:Loading TF weight bert/encoder/layer_9/output/LayerNorm/beta with shape [768]\n",
            "INFO:transformers.modeling_bert:Loading TF weight bert/encoder/layer_9/output/LayerNorm/gamma with shape [768]\n",
            "INFO:transformers.modeling_bert:Loading TF weight bert/encoder/layer_9/output/dense/bias with shape [768]\n",
            "INFO:transformers.modeling_bert:Loading TF weight bert/encoder/layer_9/output/dense/kernel with shape [3072, 768]\n",
            "INFO:transformers.modeling_bert:Loading TF weight bert/pooler/dense/bias with shape [768]\n",
            "INFO:transformers.modeling_bert:Loading TF weight bert/pooler/dense/kernel with shape [768, 768]\n",
            "INFO:transformers.modeling_bert:Initialize PyTorch weight ['bert', 'embeddings', 'LayerNorm', 'beta']\n",
            "INFO:transformers.modeling_bert:Initialize PyTorch weight ['bert', 'embeddings', 'LayerNorm', 'gamma']\n",
            "INFO:transformers.modeling_bert:Initialize PyTorch weight ['bert', 'embeddings', 'position_embeddings']\n",
            "INFO:transformers.modeling_bert:Initialize PyTorch weight ['bert', 'embeddings', 'token_type_embeddings']\n",
            "INFO:transformers.modeling_bert:Initialize PyTorch weight ['bert', 'embeddings', 'word_embeddings']\n",
            "INFO:transformers.modeling_bert:Initialize PyTorch weight ['bert', 'encoder', 'layer_0', 'attention', 'output', 'LayerNorm', 'beta']\n",
            "INFO:transformers.modeling_bert:Initialize PyTorch weight ['bert', 'encoder', 'layer_0', 'attention', 'output', 'LayerNorm', 'gamma']\n",
            "INFO:transformers.modeling_bert:Initialize PyTorch weight ['bert', 'encoder', 'layer_0', 'attention', 'output', 'dense', 'bias']\n",
            "INFO:transformers.modeling_bert:Initialize PyTorch weight ['bert', 'encoder', 'layer_0', 'attention', 'output', 'dense', 'kernel']\n",
            "INFO:transformers.modeling_bert:Initialize PyTorch weight ['bert', 'encoder', 'layer_0', 'attention', 'self', 'key', 'bias']\n",
            "INFO:transformers.modeling_bert:Initialize PyTorch weight ['bert', 'encoder', 'layer_0', 'attention', 'self', 'key', 'kernel']\n",
            "INFO:transformers.modeling_bert:Initialize PyTorch weight ['bert', 'encoder', 'layer_0', 'attention', 'self', 'query', 'bias']\n",
            "INFO:transformers.modeling_bert:Initialize PyTorch weight ['bert', 'encoder', 'layer_0', 'attention', 'self', 'query', 'kernel']\n",
            "INFO:transformers.modeling_bert:Initialize PyTorch weight ['bert', 'encoder', 'layer_0', 'attention', 'self', 'value', 'bias']\n",
            "INFO:transformers.modeling_bert:Initialize PyTorch weight ['bert', 'encoder', 'layer_0', 'attention', 'self', 'value', 'kernel']\n",
            "INFO:transformers.modeling_bert:Initialize PyTorch weight ['bert', 'encoder', 'layer_0', 'intermediate', 'dense', 'bias']\n",
            "INFO:transformers.modeling_bert:Initialize PyTorch weight ['bert', 'encoder', 'layer_0', 'intermediate', 'dense', 'kernel']\n",
            "INFO:transformers.modeling_bert:Initialize PyTorch weight ['bert', 'encoder', 'layer_0', 'output', 'LayerNorm', 'beta']\n",
            "INFO:transformers.modeling_bert:Initialize PyTorch weight ['bert', 'encoder', 'layer_0', 'output', 'LayerNorm', 'gamma']\n",
            "INFO:transformers.modeling_bert:Initialize PyTorch weight ['bert', 'encoder', 'layer_0', 'output', 'dense', 'bias']\n",
            "INFO:transformers.modeling_bert:Initialize PyTorch weight ['bert', 'encoder', 'layer_0', 'output', 'dense', 'kernel']\n",
            "INFO:transformers.modeling_bert:Initialize PyTorch weight ['bert', 'encoder', 'layer_1', 'attention', 'output', 'LayerNorm', 'beta']\n",
            "INFO:transformers.modeling_bert:Initialize PyTorch weight ['bert', 'encoder', 'layer_1', 'attention', 'output', 'LayerNorm', 'gamma']\n",
            "INFO:transformers.modeling_bert:Initialize PyTorch weight ['bert', 'encoder', 'layer_1', 'attention', 'output', 'dense', 'bias']\n",
            "INFO:transformers.modeling_bert:Initialize PyTorch weight ['bert', 'encoder', 'layer_1', 'attention', 'output', 'dense', 'kernel']\n",
            "INFO:transformers.modeling_bert:Initialize PyTorch weight ['bert', 'encoder', 'layer_1', 'attention', 'self', 'key', 'bias']\n",
            "INFO:transformers.modeling_bert:Initialize PyTorch weight ['bert', 'encoder', 'layer_1', 'attention', 'self', 'key', 'kernel']\n",
            "INFO:transformers.modeling_bert:Initialize PyTorch weight ['bert', 'encoder', 'layer_1', 'attention', 'self', 'query', 'bias']\n",
            "INFO:transformers.modeling_bert:Initialize PyTorch weight ['bert', 'encoder', 'layer_1', 'attention', 'self', 'query', 'kernel']\n",
            "INFO:transformers.modeling_bert:Initialize PyTorch weight ['bert', 'encoder', 'layer_1', 'attention', 'self', 'value', 'bias']\n",
            "INFO:transformers.modeling_bert:Initialize PyTorch weight ['bert', 'encoder', 'layer_1', 'attention', 'self', 'value', 'kernel']\n",
            "INFO:transformers.modeling_bert:Initialize PyTorch weight ['bert', 'encoder', 'layer_1', 'intermediate', 'dense', 'bias']\n",
            "INFO:transformers.modeling_bert:Initialize PyTorch weight ['bert', 'encoder', 'layer_1', 'intermediate', 'dense', 'kernel']\n",
            "INFO:transformers.modeling_bert:Initialize PyTorch weight ['bert', 'encoder', 'layer_1', 'output', 'LayerNorm', 'beta']\n",
            "INFO:transformers.modeling_bert:Initialize PyTorch weight ['bert', 'encoder', 'layer_1', 'output', 'LayerNorm', 'gamma']\n",
            "INFO:transformers.modeling_bert:Initialize PyTorch weight ['bert', 'encoder', 'layer_1', 'output', 'dense', 'bias']\n",
            "INFO:transformers.modeling_bert:Initialize PyTorch weight ['bert', 'encoder', 'layer_1', 'output', 'dense', 'kernel']\n",
            "INFO:transformers.modeling_bert:Initialize PyTorch weight ['bert', 'encoder', 'layer_10', 'attention', 'output', 'LayerNorm', 'beta']\n",
            "INFO:transformers.modeling_bert:Initialize PyTorch weight ['bert', 'encoder', 'layer_10', 'attention', 'output', 'LayerNorm', 'gamma']\n",
            "INFO:transformers.modeling_bert:Initialize PyTorch weight ['bert', 'encoder', 'layer_10', 'attention', 'output', 'dense', 'bias']\n",
            "INFO:transformers.modeling_bert:Initialize PyTorch weight ['bert', 'encoder', 'layer_10', 'attention', 'output', 'dense', 'kernel']\n",
            "INFO:transformers.modeling_bert:Initialize PyTorch weight ['bert', 'encoder', 'layer_10', 'attention', 'self', 'key', 'bias']\n",
            "INFO:transformers.modeling_bert:Initialize PyTorch weight ['bert', 'encoder', 'layer_10', 'attention', 'self', 'key', 'kernel']\n",
            "INFO:transformers.modeling_bert:Initialize PyTorch weight ['bert', 'encoder', 'layer_10', 'attention', 'self', 'query', 'bias']\n",
            "INFO:transformers.modeling_bert:Initialize PyTorch weight ['bert', 'encoder', 'layer_10', 'attention', 'self', 'query', 'kernel']\n",
            "INFO:transformers.modeling_bert:Initialize PyTorch weight ['bert', 'encoder', 'layer_10', 'attention', 'self', 'value', 'bias']\n",
            "INFO:transformers.modeling_bert:Initialize PyTorch weight ['bert', 'encoder', 'layer_10', 'attention', 'self', 'value', 'kernel']\n",
            "INFO:transformers.modeling_bert:Initialize PyTorch weight ['bert', 'encoder', 'layer_10', 'intermediate', 'dense', 'bias']\n",
            "INFO:transformers.modeling_bert:Initialize PyTorch weight ['bert', 'encoder', 'layer_10', 'intermediate', 'dense', 'kernel']\n",
            "INFO:transformers.modeling_bert:Initialize PyTorch weight ['bert', 'encoder', 'layer_10', 'output', 'LayerNorm', 'beta']\n",
            "INFO:transformers.modeling_bert:Initialize PyTorch weight ['bert', 'encoder', 'layer_10', 'output', 'LayerNorm', 'gamma']\n",
            "INFO:transformers.modeling_bert:Initialize PyTorch weight ['bert', 'encoder', 'layer_10', 'output', 'dense', 'bias']\n",
            "INFO:transformers.modeling_bert:Initialize PyTorch weight ['bert', 'encoder', 'layer_10', 'output', 'dense', 'kernel']\n",
            "INFO:transformers.modeling_bert:Initialize PyTorch weight ['bert', 'encoder', 'layer_11', 'attention', 'output', 'LayerNorm', 'beta']\n",
            "INFO:transformers.modeling_bert:Initialize PyTorch weight ['bert', 'encoder', 'layer_11', 'attention', 'output', 'LayerNorm', 'gamma']\n",
            "INFO:transformers.modeling_bert:Initialize PyTorch weight ['bert', 'encoder', 'layer_11', 'attention', 'output', 'dense', 'bias']\n",
            "INFO:transformers.modeling_bert:Initialize PyTorch weight ['bert', 'encoder', 'layer_11', 'attention', 'output', 'dense', 'kernel']\n",
            "INFO:transformers.modeling_bert:Initialize PyTorch weight ['bert', 'encoder', 'layer_11', 'attention', 'self', 'key', 'bias']\n",
            "INFO:transformers.modeling_bert:Initialize PyTorch weight ['bert', 'encoder', 'layer_11', 'attention', 'self', 'key', 'kernel']\n",
            "INFO:transformers.modeling_bert:Initialize PyTorch weight ['bert', 'encoder', 'layer_11', 'attention', 'self', 'query', 'bias']\n",
            "INFO:transformers.modeling_bert:Initialize PyTorch weight ['bert', 'encoder', 'layer_11', 'attention', 'self', 'query', 'kernel']\n",
            "INFO:transformers.modeling_bert:Initialize PyTorch weight ['bert', 'encoder', 'layer_11', 'attention', 'self', 'value', 'bias']\n",
            "INFO:transformers.modeling_bert:Initialize PyTorch weight ['bert', 'encoder', 'layer_11', 'attention', 'self', 'value', 'kernel']\n",
            "INFO:transformers.modeling_bert:Initialize PyTorch weight ['bert', 'encoder', 'layer_11', 'intermediate', 'dense', 'bias']\n",
            "INFO:transformers.modeling_bert:Initialize PyTorch weight ['bert', 'encoder', 'layer_11', 'intermediate', 'dense', 'kernel']\n",
            "INFO:transformers.modeling_bert:Initialize PyTorch weight ['bert', 'encoder', 'layer_11', 'output', 'LayerNorm', 'beta']\n",
            "INFO:transformers.modeling_bert:Initialize PyTorch weight ['bert', 'encoder', 'layer_11', 'output', 'LayerNorm', 'gamma']\n",
            "INFO:transformers.modeling_bert:Initialize PyTorch weight ['bert', 'encoder', 'layer_11', 'output', 'dense', 'bias']\n",
            "INFO:transformers.modeling_bert:Initialize PyTorch weight ['bert', 'encoder', 'layer_11', 'output', 'dense', 'kernel']\n",
            "INFO:transformers.modeling_bert:Initialize PyTorch weight ['bert', 'encoder', 'layer_2', 'attention', 'output', 'LayerNorm', 'beta']\n",
            "INFO:transformers.modeling_bert:Initialize PyTorch weight ['bert', 'encoder', 'layer_2', 'attention', 'output', 'LayerNorm', 'gamma']\n",
            "INFO:transformers.modeling_bert:Initialize PyTorch weight ['bert', 'encoder', 'layer_2', 'attention', 'output', 'dense', 'bias']\n",
            "INFO:transformers.modeling_bert:Initialize PyTorch weight ['bert', 'encoder', 'layer_2', 'attention', 'output', 'dense', 'kernel']\n",
            "INFO:transformers.modeling_bert:Initialize PyTorch weight ['bert', 'encoder', 'layer_2', 'attention', 'self', 'key', 'bias']\n",
            "INFO:transformers.modeling_bert:Initialize PyTorch weight ['bert', 'encoder', 'layer_2', 'attention', 'self', 'key', 'kernel']\n",
            "INFO:transformers.modeling_bert:Initialize PyTorch weight ['bert', 'encoder', 'layer_2', 'attention', 'self', 'query', 'bias']\n",
            "INFO:transformers.modeling_bert:Initialize PyTorch weight ['bert', 'encoder', 'layer_2', 'attention', 'self', 'query', 'kernel']\n",
            "INFO:transformers.modeling_bert:Initialize PyTorch weight ['bert', 'encoder', 'layer_2', 'attention', 'self', 'value', 'bias']\n",
            "INFO:transformers.modeling_bert:Initialize PyTorch weight ['bert', 'encoder', 'layer_2', 'attention', 'self', 'value', 'kernel']\n",
            "INFO:transformers.modeling_bert:Initialize PyTorch weight ['bert', 'encoder', 'layer_2', 'intermediate', 'dense', 'bias']\n",
            "INFO:transformers.modeling_bert:Initialize PyTorch weight ['bert', 'encoder', 'layer_2', 'intermediate', 'dense', 'kernel']\n",
            "INFO:transformers.modeling_bert:Initialize PyTorch weight ['bert', 'encoder', 'layer_2', 'output', 'LayerNorm', 'beta']\n",
            "INFO:transformers.modeling_bert:Initialize PyTorch weight ['bert', 'encoder', 'layer_2', 'output', 'LayerNorm', 'gamma']\n",
            "INFO:transformers.modeling_bert:Initialize PyTorch weight ['bert', 'encoder', 'layer_2', 'output', 'dense', 'bias']\n",
            "INFO:transformers.modeling_bert:Initialize PyTorch weight ['bert', 'encoder', 'layer_2', 'output', 'dense', 'kernel']\n",
            "INFO:transformers.modeling_bert:Initialize PyTorch weight ['bert', 'encoder', 'layer_3', 'attention', 'output', 'LayerNorm', 'beta']\n",
            "INFO:transformers.modeling_bert:Initialize PyTorch weight ['bert', 'encoder', 'layer_3', 'attention', 'output', 'LayerNorm', 'gamma']\n",
            "INFO:transformers.modeling_bert:Initialize PyTorch weight ['bert', 'encoder', 'layer_3', 'attention', 'output', 'dense', 'bias']\n",
            "INFO:transformers.modeling_bert:Initialize PyTorch weight ['bert', 'encoder', 'layer_3', 'attention', 'output', 'dense', 'kernel']\n",
            "INFO:transformers.modeling_bert:Initialize PyTorch weight ['bert', 'encoder', 'layer_3', 'attention', 'self', 'key', 'bias']\n",
            "INFO:transformers.modeling_bert:Initialize PyTorch weight ['bert', 'encoder', 'layer_3', 'attention', 'self', 'key', 'kernel']\n",
            "INFO:transformers.modeling_bert:Initialize PyTorch weight ['bert', 'encoder', 'layer_3', 'attention', 'self', 'query', 'bias']\n",
            "INFO:transformers.modeling_bert:Initialize PyTorch weight ['bert', 'encoder', 'layer_3', 'attention', 'self', 'query', 'kernel']\n",
            "INFO:transformers.modeling_bert:Initialize PyTorch weight ['bert', 'encoder', 'layer_3', 'attention', 'self', 'value', 'bias']\n",
            "INFO:transformers.modeling_bert:Initialize PyTorch weight ['bert', 'encoder', 'layer_3', 'attention', 'self', 'value', 'kernel']\n",
            "INFO:transformers.modeling_bert:Initialize PyTorch weight ['bert', 'encoder', 'layer_3', 'intermediate', 'dense', 'bias']\n",
            "INFO:transformers.modeling_bert:Initialize PyTorch weight ['bert', 'encoder', 'layer_3', 'intermediate', 'dense', 'kernel']\n",
            "INFO:transformers.modeling_bert:Initialize PyTorch weight ['bert', 'encoder', 'layer_3', 'output', 'LayerNorm', 'beta']\n",
            "INFO:transformers.modeling_bert:Initialize PyTorch weight ['bert', 'encoder', 'layer_3', 'output', 'LayerNorm', 'gamma']\n",
            "INFO:transformers.modeling_bert:Initialize PyTorch weight ['bert', 'encoder', 'layer_3', 'output', 'dense', 'bias']\n",
            "INFO:transformers.modeling_bert:Initialize PyTorch weight ['bert', 'encoder', 'layer_3', 'output', 'dense', 'kernel']\n",
            "INFO:transformers.modeling_bert:Initialize PyTorch weight ['bert', 'encoder', 'layer_4', 'attention', 'output', 'LayerNorm', 'beta']\n",
            "INFO:transformers.modeling_bert:Initialize PyTorch weight ['bert', 'encoder', 'layer_4', 'attention', 'output', 'LayerNorm', 'gamma']\n",
            "INFO:transformers.modeling_bert:Initialize PyTorch weight ['bert', 'encoder', 'layer_4', 'attention', 'output', 'dense', 'bias']\n",
            "INFO:transformers.modeling_bert:Initialize PyTorch weight ['bert', 'encoder', 'layer_4', 'attention', 'output', 'dense', 'kernel']\n",
            "INFO:transformers.modeling_bert:Initialize PyTorch weight ['bert', 'encoder', 'layer_4', 'attention', 'self', 'key', 'bias']\n",
            "INFO:transformers.modeling_bert:Initialize PyTorch weight ['bert', 'encoder', 'layer_4', 'attention', 'self', 'key', 'kernel']\n",
            "INFO:transformers.modeling_bert:Initialize PyTorch weight ['bert', 'encoder', 'layer_4', 'attention', 'self', 'query', 'bias']\n",
            "INFO:transformers.modeling_bert:Initialize PyTorch weight ['bert', 'encoder', 'layer_4', 'attention', 'self', 'query', 'kernel']\n",
            "INFO:transformers.modeling_bert:Initialize PyTorch weight ['bert', 'encoder', 'layer_4', 'attention', 'self', 'value', 'bias']\n",
            "INFO:transformers.modeling_bert:Initialize PyTorch weight ['bert', 'encoder', 'layer_4', 'attention', 'self', 'value', 'kernel']\n",
            "INFO:transformers.modeling_bert:Initialize PyTorch weight ['bert', 'encoder', 'layer_4', 'intermediate', 'dense', 'bias']\n",
            "INFO:transformers.modeling_bert:Initialize PyTorch weight ['bert', 'encoder', 'layer_4', 'intermediate', 'dense', 'kernel']\n",
            "INFO:transformers.modeling_bert:Initialize PyTorch weight ['bert', 'encoder', 'layer_4', 'output', 'LayerNorm', 'beta']\n",
            "INFO:transformers.modeling_bert:Initialize PyTorch weight ['bert', 'encoder', 'layer_4', 'output', 'LayerNorm', 'gamma']\n",
            "INFO:transformers.modeling_bert:Initialize PyTorch weight ['bert', 'encoder', 'layer_4', 'output', 'dense', 'bias']\n",
            "INFO:transformers.modeling_bert:Initialize PyTorch weight ['bert', 'encoder', 'layer_4', 'output', 'dense', 'kernel']\n",
            "INFO:transformers.modeling_bert:Initialize PyTorch weight ['bert', 'encoder', 'layer_5', 'attention', 'output', 'LayerNorm', 'beta']\n",
            "INFO:transformers.modeling_bert:Initialize PyTorch weight ['bert', 'encoder', 'layer_5', 'attention', 'output', 'LayerNorm', 'gamma']\n",
            "INFO:transformers.modeling_bert:Initialize PyTorch weight ['bert', 'encoder', 'layer_5', 'attention', 'output', 'dense', 'bias']\n",
            "INFO:transformers.modeling_bert:Initialize PyTorch weight ['bert', 'encoder', 'layer_5', 'attention', 'output', 'dense', 'kernel']\n",
            "INFO:transformers.modeling_bert:Initialize PyTorch weight ['bert', 'encoder', 'layer_5', 'attention', 'self', 'key', 'bias']\n",
            "INFO:transformers.modeling_bert:Initialize PyTorch weight ['bert', 'encoder', 'layer_5', 'attention', 'self', 'key', 'kernel']\n",
            "INFO:transformers.modeling_bert:Initialize PyTorch weight ['bert', 'encoder', 'layer_5', 'attention', 'self', 'query', 'bias']\n",
            "INFO:transformers.modeling_bert:Initialize PyTorch weight ['bert', 'encoder', 'layer_5', 'attention', 'self', 'query', 'kernel']\n",
            "INFO:transformers.modeling_bert:Initialize PyTorch weight ['bert', 'encoder', 'layer_5', 'attention', 'self', 'value', 'bias']\n",
            "INFO:transformers.modeling_bert:Initialize PyTorch weight ['bert', 'encoder', 'layer_5', 'attention', 'self', 'value', 'kernel']\n",
            "INFO:transformers.modeling_bert:Initialize PyTorch weight ['bert', 'encoder', 'layer_5', 'intermediate', 'dense', 'bias']\n",
            "INFO:transformers.modeling_bert:Initialize PyTorch weight ['bert', 'encoder', 'layer_5', 'intermediate', 'dense', 'kernel']\n",
            "INFO:transformers.modeling_bert:Initialize PyTorch weight ['bert', 'encoder', 'layer_5', 'output', 'LayerNorm', 'beta']\n",
            "INFO:transformers.modeling_bert:Initialize PyTorch weight ['bert', 'encoder', 'layer_5', 'output', 'LayerNorm', 'gamma']\n",
            "INFO:transformers.modeling_bert:Initialize PyTorch weight ['bert', 'encoder', 'layer_5', 'output', 'dense', 'bias']\n",
            "INFO:transformers.modeling_bert:Initialize PyTorch weight ['bert', 'encoder', 'layer_5', 'output', 'dense', 'kernel']\n",
            "INFO:transformers.modeling_bert:Initialize PyTorch weight ['bert', 'encoder', 'layer_6', 'attention', 'output', 'LayerNorm', 'beta']\n",
            "INFO:transformers.modeling_bert:Initialize PyTorch weight ['bert', 'encoder', 'layer_6', 'attention', 'output', 'LayerNorm', 'gamma']\n",
            "INFO:transformers.modeling_bert:Initialize PyTorch weight ['bert', 'encoder', 'layer_6', 'attention', 'output', 'dense', 'bias']\n",
            "INFO:transformers.modeling_bert:Initialize PyTorch weight ['bert', 'encoder', 'layer_6', 'attention', 'output', 'dense', 'kernel']\n",
            "INFO:transformers.modeling_bert:Initialize PyTorch weight ['bert', 'encoder', 'layer_6', 'attention', 'self', 'key', 'bias']\n",
            "INFO:transformers.modeling_bert:Initialize PyTorch weight ['bert', 'encoder', 'layer_6', 'attention', 'self', 'key', 'kernel']\n",
            "INFO:transformers.modeling_bert:Initialize PyTorch weight ['bert', 'encoder', 'layer_6', 'attention', 'self', 'query', 'bias']\n",
            "INFO:transformers.modeling_bert:Initialize PyTorch weight ['bert', 'encoder', 'layer_6', 'attention', 'self', 'query', 'kernel']\n",
            "INFO:transformers.modeling_bert:Initialize PyTorch weight ['bert', 'encoder', 'layer_6', 'attention', 'self', 'value', 'bias']\n",
            "INFO:transformers.modeling_bert:Initialize PyTorch weight ['bert', 'encoder', 'layer_6', 'attention', 'self', 'value', 'kernel']\n",
            "INFO:transformers.modeling_bert:Initialize PyTorch weight ['bert', 'encoder', 'layer_6', 'intermediate', 'dense', 'bias']\n",
            "INFO:transformers.modeling_bert:Initialize PyTorch weight ['bert', 'encoder', 'layer_6', 'intermediate', 'dense', 'kernel']\n",
            "INFO:transformers.modeling_bert:Initialize PyTorch weight ['bert', 'encoder', 'layer_6', 'output', 'LayerNorm', 'beta']\n",
            "INFO:transformers.modeling_bert:Initialize PyTorch weight ['bert', 'encoder', 'layer_6', 'output', 'LayerNorm', 'gamma']\n",
            "INFO:transformers.modeling_bert:Initialize PyTorch weight ['bert', 'encoder', 'layer_6', 'output', 'dense', 'bias']\n",
            "INFO:transformers.modeling_bert:Initialize PyTorch weight ['bert', 'encoder', 'layer_6', 'output', 'dense', 'kernel']\n",
            "INFO:transformers.modeling_bert:Initialize PyTorch weight ['bert', 'encoder', 'layer_7', 'attention', 'output', 'LayerNorm', 'beta']\n",
            "INFO:transformers.modeling_bert:Initialize PyTorch weight ['bert', 'encoder', 'layer_7', 'attention', 'output', 'LayerNorm', 'gamma']\n",
            "INFO:transformers.modeling_bert:Initialize PyTorch weight ['bert', 'encoder', 'layer_7', 'attention', 'output', 'dense', 'bias']\n",
            "INFO:transformers.modeling_bert:Initialize PyTorch weight ['bert', 'encoder', 'layer_7', 'attention', 'output', 'dense', 'kernel']\n",
            "INFO:transformers.modeling_bert:Initialize PyTorch weight ['bert', 'encoder', 'layer_7', 'attention', 'self', 'key', 'bias']\n",
            "INFO:transformers.modeling_bert:Initialize PyTorch weight ['bert', 'encoder', 'layer_7', 'attention', 'self', 'key', 'kernel']\n",
            "INFO:transformers.modeling_bert:Initialize PyTorch weight ['bert', 'encoder', 'layer_7', 'attention', 'self', 'query', 'bias']\n",
            "INFO:transformers.modeling_bert:Initialize PyTorch weight ['bert', 'encoder', 'layer_7', 'attention', 'self', 'query', 'kernel']\n",
            "INFO:transformers.modeling_bert:Initialize PyTorch weight ['bert', 'encoder', 'layer_7', 'attention', 'self', 'value', 'bias']\n",
            "INFO:transformers.modeling_bert:Initialize PyTorch weight ['bert', 'encoder', 'layer_7', 'attention', 'self', 'value', 'kernel']\n",
            "INFO:transformers.modeling_bert:Initialize PyTorch weight ['bert', 'encoder', 'layer_7', 'intermediate', 'dense', 'bias']\n",
            "INFO:transformers.modeling_bert:Initialize PyTorch weight ['bert', 'encoder', 'layer_7', 'intermediate', 'dense', 'kernel']\n",
            "INFO:transformers.modeling_bert:Initialize PyTorch weight ['bert', 'encoder', 'layer_7', 'output', 'LayerNorm', 'beta']\n",
            "INFO:transformers.modeling_bert:Initialize PyTorch weight ['bert', 'encoder', 'layer_7', 'output', 'LayerNorm', 'gamma']\n",
            "INFO:transformers.modeling_bert:Initialize PyTorch weight ['bert', 'encoder', 'layer_7', 'output', 'dense', 'bias']\n",
            "INFO:transformers.modeling_bert:Initialize PyTorch weight ['bert', 'encoder', 'layer_7', 'output', 'dense', 'kernel']\n",
            "INFO:transformers.modeling_bert:Initialize PyTorch weight ['bert', 'encoder', 'layer_8', 'attention', 'output', 'LayerNorm', 'beta']\n",
            "INFO:transformers.modeling_bert:Initialize PyTorch weight ['bert', 'encoder', 'layer_8', 'attention', 'output', 'LayerNorm', 'gamma']\n",
            "INFO:transformers.modeling_bert:Initialize PyTorch weight ['bert', 'encoder', 'layer_8', 'attention', 'output', 'dense', 'bias']\n",
            "INFO:transformers.modeling_bert:Initialize PyTorch weight ['bert', 'encoder', 'layer_8', 'attention', 'output', 'dense', 'kernel']\n",
            "INFO:transformers.modeling_bert:Initialize PyTorch weight ['bert', 'encoder', 'layer_8', 'attention', 'self', 'key', 'bias']\n",
            "INFO:transformers.modeling_bert:Initialize PyTorch weight ['bert', 'encoder', 'layer_8', 'attention', 'self', 'key', 'kernel']\n",
            "INFO:transformers.modeling_bert:Initialize PyTorch weight ['bert', 'encoder', 'layer_8', 'attention', 'self', 'query', 'bias']\n",
            "INFO:transformers.modeling_bert:Initialize PyTorch weight ['bert', 'encoder', 'layer_8', 'attention', 'self', 'query', 'kernel']\n",
            "INFO:transformers.modeling_bert:Initialize PyTorch weight ['bert', 'encoder', 'layer_8', 'attention', 'self', 'value', 'bias']\n",
            "INFO:transformers.modeling_bert:Initialize PyTorch weight ['bert', 'encoder', 'layer_8', 'attention', 'self', 'value', 'kernel']\n",
            "INFO:transformers.modeling_bert:Initialize PyTorch weight ['bert', 'encoder', 'layer_8', 'intermediate', 'dense', 'bias']\n",
            "INFO:transformers.modeling_bert:Initialize PyTorch weight ['bert', 'encoder', 'layer_8', 'intermediate', 'dense', 'kernel']\n",
            "INFO:transformers.modeling_bert:Initialize PyTorch weight ['bert', 'encoder', 'layer_8', 'output', 'LayerNorm', 'beta']\n",
            "INFO:transformers.modeling_bert:Initialize PyTorch weight ['bert', 'encoder', 'layer_8', 'output', 'LayerNorm', 'gamma']\n",
            "INFO:transformers.modeling_bert:Initialize PyTorch weight ['bert', 'encoder', 'layer_8', 'output', 'dense', 'bias']\n",
            "INFO:transformers.modeling_bert:Initialize PyTorch weight ['bert', 'encoder', 'layer_8', 'output', 'dense', 'kernel']\n",
            "INFO:transformers.modeling_bert:Initialize PyTorch weight ['bert', 'encoder', 'layer_9', 'attention', 'output', 'LayerNorm', 'beta']\n",
            "INFO:transformers.modeling_bert:Initialize PyTorch weight ['bert', 'encoder', 'layer_9', 'attention', 'output', 'LayerNorm', 'gamma']\n",
            "INFO:transformers.modeling_bert:Initialize PyTorch weight ['bert', 'encoder', 'layer_9', 'attention', 'output', 'dense', 'bias']\n",
            "INFO:transformers.modeling_bert:Initialize PyTorch weight ['bert', 'encoder', 'layer_9', 'attention', 'output', 'dense', 'kernel']\n",
            "INFO:transformers.modeling_bert:Initialize PyTorch weight ['bert', 'encoder', 'layer_9', 'attention', 'self', 'key', 'bias']\n",
            "INFO:transformers.modeling_bert:Initialize PyTorch weight ['bert', 'encoder', 'layer_9', 'attention', 'self', 'key', 'kernel']\n",
            "INFO:transformers.modeling_bert:Initialize PyTorch weight ['bert', 'encoder', 'layer_9', 'attention', 'self', 'query', 'bias']\n",
            "INFO:transformers.modeling_bert:Initialize PyTorch weight ['bert', 'encoder', 'layer_9', 'attention', 'self', 'query', 'kernel']\n",
            "INFO:transformers.modeling_bert:Initialize PyTorch weight ['bert', 'encoder', 'layer_9', 'attention', 'self', 'value', 'bias']\n",
            "INFO:transformers.modeling_bert:Initialize PyTorch weight ['bert', 'encoder', 'layer_9', 'attention', 'self', 'value', 'kernel']\n",
            "INFO:transformers.modeling_bert:Initialize PyTorch weight ['bert', 'encoder', 'layer_9', 'intermediate', 'dense', 'bias']\n",
            "INFO:transformers.modeling_bert:Initialize PyTorch weight ['bert', 'encoder', 'layer_9', 'intermediate', 'dense', 'kernel']\n",
            "INFO:transformers.modeling_bert:Initialize PyTorch weight ['bert', 'encoder', 'layer_9', 'output', 'LayerNorm', 'beta']\n",
            "INFO:transformers.modeling_bert:Initialize PyTorch weight ['bert', 'encoder', 'layer_9', 'output', 'LayerNorm', 'gamma']\n",
            "INFO:transformers.modeling_bert:Initialize PyTorch weight ['bert', 'encoder', 'layer_9', 'output', 'dense', 'bias']\n",
            "INFO:transformers.modeling_bert:Initialize PyTorch weight ['bert', 'encoder', 'layer_9', 'output', 'dense', 'kernel']\n",
            "INFO:transformers.modeling_bert:Initialize PyTorch weight ['bert', 'pooler', 'dense', 'bias']\n",
            "INFO:transformers.modeling_bert:Initialize PyTorch weight ['bert', 'pooler', 'dense', 'kernel']\n",
            "Save PyTorch model to biobert_v1.1_pubmed/pytorch_model.bin\n"
          ],
          "name": "stdout"
        }
      ]
    },
    {
      "cell_type": "code",
      "metadata": {
        "id": "eFLX6XHie7jh",
        "colab_type": "code",
        "colab": {}
      },
      "source": [
        "#after this, renamed bert_config.json to config.json manually\n",
        "!cp biobert_v1.1_pubmed/bert_config.json biobert_v1.1_pubmed/config.json"
      ],
      "execution_count": 0,
      "outputs": []
    },
    {
      "cell_type": "code",
      "metadata": {
        "id": "DNo3Av0ZePCc",
        "colab_type": "code",
        "colab": {}
      },
      "source": [
        "model_class = BertModel\n",
        "tokenizer_class = BertTokenizer.from_pretrained('biobert_v1.1_pubmed/vocab.txt')\n",
        "pretrained_weights = 'biobert_v1.1_pubmed'\n",
        "\n",
        "# Load pretrained model/tokenizer\n",
        "bio_bert_tokenizer = tokenizer_class.from_pretrained(pretrained_weights)\n",
        "bio_bert_model = model_class.from_pretrained(pretrained_weights)"
      ],
      "execution_count": 0,
      "outputs": []
    },
    {
      "cell_type": "code",
      "metadata": {
        "id": "jD92qQKcGcTJ",
        "colab_type": "code",
        "colab": {
          "base_uri": "https://localhost:8080/",
          "height": 1000
        },
        "outputId": "672c35ba-0625-4f3c-bea7-29e9c1b4b254"
      },
      "source": [
        "input_ids = torch.tensor(bio_bert_tokenizer.encode(\"Hello my dog is cute\", add_special_tokens= True)).unsqueeze(0)  # Batch size 1\n",
        "print(input_ids)\n",
        "outputs = bio_bert_model(input_ids)\n",
        "last_hidden_states = outputs[0][0].detach().numpy()  # The last hidden-state is the first element of the output tuple\n",
        "print(len(outputs))\n",
        "print(last_hidden_states)\n",
        "print(len(last_hidden_states))\n",
        "print(last_hidden_states.shape)\n",
        "print(outputs[0])\n",
        "print(outputs[1])"
      ],
      "execution_count": 57,
      "outputs": [
        {
          "output_type": "stream",
          "text": [
            "tensor([[  101, 19082,  1139,  3676,  1110, 10509,   102]])\n",
            "2\n",
            "[[ 0.30595413  0.6154358  -0.2122898  ... -0.23292513  0.73406136\n",
            "  -0.30510715]\n",
            " [-0.02054498  0.35774222 -0.37772265 ... -0.3032497   0.8740787\n",
            "  -0.3120333 ]\n",
            " [ 0.00812341 -0.03995946 -0.16461788 ... -0.03652666  0.7840643\n",
            "  -0.00675428]\n",
            " ...\n",
            " [ 0.11687239  0.40033427 -0.29609394 ...  0.0957466   0.39718673\n",
            "   0.04781871]\n",
            " [-0.00829414  0.16456313 -0.12430103 ... -0.01243092  0.6628006\n",
            "   0.03179159]\n",
            " [ 0.37802875  0.6493508  -0.95986825 ... -0.16714506  1.3767036\n",
            "  -0.9745663 ]]\n",
            "7\n",
            "(7, 768)\n",
            "tensor([[[ 0.3060,  0.6154, -0.2123,  ..., -0.2329,  0.7341, -0.3051],\n",
            "         [-0.0205,  0.3577, -0.3777,  ..., -0.3032,  0.8741, -0.3120],\n",
            "         [ 0.0081, -0.0400, -0.1646,  ..., -0.0365,  0.7841, -0.0068],\n",
            "         ...,\n",
            "         [ 0.1169,  0.4003, -0.2961,  ...,  0.0957,  0.3972,  0.0478],\n",
            "         [-0.0083,  0.1646, -0.1243,  ..., -0.0124,  0.6628,  0.0318],\n",
            "         [ 0.3780,  0.6494, -0.9599,  ..., -0.1671,  1.3767, -0.9746]]],\n",
            "       grad_fn=<NativeLayerNormBackward>)\n",
            "tensor([[ 1.4617e-01,  8.5892e-02,  9.8272e-01, -1.0000e+00,  1.0000e+00,\n",
            "          3.7530e-01,  8.0007e-02,  9.6176e-01, -3.7640e-02, -1.1826e-01,\n",
            "          9.3153e-01,  9.9999e-01,  2.9321e-01, -9.4754e-01,  7.7943e-02,\n",
            "          8.1880e-02,  1.0000e+00,  1.1070e-01, -9.9966e-01, -2.4932e-01,\n",
            "         -1.7075e-01, -9.8857e-01, -6.0057e-02,  9.9691e-01,  4.8010e-02,\n",
            "          5.7056e-02,  9.9999e-01,  9.9969e-01, -2.4553e-02,  7.8326e-02,\n",
            "          1.5891e-02, -1.0000e+00,  9.9689e-01, -9.9999e-01,  1.8866e-01,\n",
            "          2.0874e-02,  2.0465e-02, -1.7306e-01,  9.5825e-01, -9.9895e-01,\n",
            "          2.0126e-02, -8.3606e-01, -1.8309e-02,  3.1340e-02,  9.9932e-01,\n",
            "         -1.1356e-01, -9.8332e-02, -6.6778e-02,  4.4922e-02,  6.6400e-01,\n",
            "          3.4025e-02,  9.9640e-01,  8.4543e-01,  9.9937e-01,  9.9997e-01,\n",
            "          1.2051e-01,  1.0000e+00,  1.0956e-01,  9.2145e-01, -8.0484e-02,\n",
            "          1.0000e+00, -8.3700e-02,  1.3156e-01, -1.3751e-01,  3.8844e-02,\n",
            "         -2.7652e-02, -9.6525e-01,  7.1015e-02, -7.3614e-02,  1.1329e-01,\n",
            "          5.2686e-02, -4.2236e-02,  9.9959e-01, -9.9998e-01, -7.4323e-02,\n",
            "          1.3880e-01, -1.2822e-04, -9.8291e-01,  9.9990e-01,  9.9999e-01,\n",
            "          1.2463e-01, -9.9964e-01,  1.0000e+00, -8.8132e-02, -2.6020e-01,\n",
            "          2.6300e-02,  9.0355e-01, -9.9999e-01,  1.0582e-01,  1.8582e-02,\n",
            "          7.8230e-01, -9.9999e-01,  6.6054e-04, -7.5901e-01,  9.9961e-01,\n",
            "          8.0083e-01, -3.5157e-02,  8.5304e-02,  5.2642e-01, -1.1104e-01,\n",
            "          7.7117e-02,  9.8796e-01, -6.3781e-01,  9.1154e-01, -4.7006e-01,\n",
            "          5.4158e-02, -2.3791e-02, -1.7230e-01,  1.3152e-01, -2.6763e-02,\n",
            "         -1.7882e-02,  4.4787e-02, -9.6251e-02, -2.0131e-01,  9.9635e-01,\n",
            "          8.9834e-01,  1.0000e+00,  9.8330e-01, -8.0909e-02,  9.9976e-01,\n",
            "         -5.2321e-02,  9.8676e-01,  9.9999e-01,  7.1652e-02, -7.4147e-02,\n",
            "         -4.7571e-02, -5.8556e-02,  9.9947e-01,  9.4283e-02, -4.1839e-02,\n",
            "          1.1116e-01, -9.9999e-01, -9.9907e-01,  9.9960e-01, -3.5284e-03,\n",
            "          9.9999e-01, -9.9998e-01,  8.3539e-01, -9.8834e-01, -1.6168e-01,\n",
            "         -7.6140e-01, -8.1486e-02, -9.8598e-01,  1.0112e-02,  9.9998e-01,\n",
            "         -4.4400e-03, -9.9908e-01, -1.8796e-01,  1.3952e-01, -1.3560e-01,\n",
            "          7.7199e-02, -1.3095e-01,  4.5989e-02,  9.9839e-01,  9.1312e-01,\n",
            "          9.9867e-01,  9.9940e-01, -1.0256e-01, -1.0109e-01,  8.9107e-01,\n",
            "         -7.0993e-02, -9.9990e-01,  9.7168e-02, -9.9896e-01,  9.9813e-01,\n",
            "          9.9998e-01,  1.0436e-01,  9.5754e-01,  9.9998e-01, -4.6099e-02,\n",
            "          1.0342e-01,  2.8823e-02, -3.3844e-02,  9.3804e-01,  7.1302e-02,\n",
            "         -9.0259e-02, -6.6975e-02, -1.7050e-02, -9.9998e-01,  6.4270e-02,\n",
            "          9.5224e-01, -1.1944e-02,  1.6952e-01, -9.0917e-01, -1.0000e+00,\n",
            "          9.8437e-02, -9.9981e-01, -1.0427e-02,  1.7750e-01,  1.6481e-01,\n",
            "          5.4609e-02,  9.9994e-01, -9.2493e-01,  2.1093e-02, -6.5243e-02,\n",
            "          1.0387e-01,  9.9948e-01,  2.2919e-02,  9.9991e-01, -1.2500e-01,\n",
            "         -1.0000e+00, -9.3761e-01, -3.1634e-01,  2.3859e-02, -2.5316e-02,\n",
            "          1.0103e-02, -3.9680e-02, -2.4996e-02, -8.8698e-01, -9.9859e-01,\n",
            "         -9.7656e-01, -5.7025e-02,  2.5959e-01, -1.3839e-01, -4.5521e-02,\n",
            "         -2.9449e-01, -4.7392e-02, -2.6960e-02, -3.5402e-02,  9.9980e-01,\n",
            "         -9.9999e-01,  2.9803e-02,  4.1560e-02, -1.0000e+00, -1.0000e+00,\n",
            "          9.3740e-02, -7.5661e-02, -4.4178e-01,  9.7472e-02, -8.4018e-01,\n",
            "          7.2701e-03,  9.8898e-01,  1.0000e+00,  1.9348e-02, -5.8435e-03,\n",
            "         -9.9969e-01,  8.7880e-01,  1.6945e-01,  3.2330e-02,  5.9877e-02,\n",
            "          3.6736e-02,  2.0047e-01,  8.6962e-02, -8.5637e-01,  8.8350e-02,\n",
            "         -5.0009e-02, -8.5919e-01,  1.4108e-01,  2.4573e-02,  1.3271e-01,\n",
            "          3.1049e-02,  5.7429e-01, -9.0887e-02,  1.0000e+00, -9.9866e-01,\n",
            "          6.7207e-01,  9.9217e-01, -9.9999e-01, -4.6144e-02,  8.3234e-01,\n",
            "         -5.7556e-02, -9.9805e-01,  5.0836e-02,  5.0330e-02, -9.0139e-02,\n",
            "         -2.6459e-02,  1.0000e+00,  9.0838e-02,  6.5646e-02, -4.8694e-02,\n",
            "         -9.9934e-01, -1.0292e-01, -1.2992e-01,  1.0000e+00,  9.0307e-01,\n",
            "          4.7394e-02, -1.9403e-02,  5.0224e-01, -1.0000e+00, -9.6324e-01,\n",
            "          2.0026e-01,  9.8496e-01, -1.0000e+00, -1.2741e-01,  9.9989e-01,\n",
            "          9.8829e-01, -1.7975e-03, -9.9993e-01,  5.0543e-02, -9.9999e-01,\n",
            "         -1.7163e-01,  2.5332e-02,  9.2523e-02,  1.0540e-01,  5.8204e-02,\n",
            "          1.5550e-02,  9.9987e-01,  9.9940e-01, -3.8846e-03, -3.1763e-02,\n",
            "         -4.4964e-02, -1.0000e+00, -9.9684e-01, -3.2575e-02,  1.2924e-02,\n",
            "         -9.9764e-01,  1.0000e+00, -9.9860e-01,  9.9836e-01,  9.9914e-01,\n",
            "          9.5055e-01,  3.0244e-02, -1.5221e-01, -9.9858e-01,  3.2527e-03,\n",
            "          9.9928e-01,  9.9992e-01,  3.9320e-02, -1.2819e-02,  9.5893e-01,\n",
            "          1.7038e-02,  6.5689e-02,  8.5280e-03,  2.1493e-02,  8.6901e-02,\n",
            "         -1.5509e-01,  8.6082e-01,  1.2157e-02, -9.6244e-01,  6.3624e-01,\n",
            "         -9.3266e-02, -5.5015e-02, -9.1886e-01,  1.9066e-01,  4.4245e-03,\n",
            "          9.0521e-02, -2.3335e-01,  5.4023e-03, -3.1760e-01,  4.4270e-02,\n",
            "          4.5766e-02,  7.9518e-01, -5.9975e-03,  9.5044e-01,  6.2887e-02,\n",
            "         -9.9894e-01,  9.9990e-01,  1.4115e-01,  7.0077e-02,  9.7460e-01,\n",
            "          9.9880e-01, -9.9990e-01,  5.1841e-02, -5.2651e-02, -8.5905e-02,\n",
            "         -2.1342e-02,  1.0000e+00, -4.7580e-01,  4.1363e-01,  4.4522e-01,\n",
            "         -9.2645e-02,  3.9521e-03,  2.2365e-02,  1.0712e-01,  2.5143e-02,\n",
            "          8.6046e-01, -1.2572e-01,  9.9863e-01, -8.6965e-01, -3.1403e-02,\n",
            "         -3.7656e-02, -8.4400e-01, -1.0077e-02,  6.9404e-02, -8.9993e-01,\n",
            "         -1.4941e-01, -9.4229e-01, -7.5344e-02, -8.9771e-01, -1.7145e-01,\n",
            "          9.9934e-01,  7.4762e-02, -6.7577e-03,  7.3560e-01,  1.0918e-01,\n",
            "          9.9999e-01, -1.0000e+00,  1.7457e-01,  9.9999e-01, -1.0478e-01,\n",
            "         -6.1936e-02,  7.3849e-02, -8.9155e-01, -5.2952e-02,  4.3236e-02,\n",
            "         -9.9935e-01, -3.2284e-02, -1.3726e-01, -1.6317e-01, -1.0569e-01,\n",
            "          7.2872e-02, -1.6108e-01,  8.7135e-01, -1.7543e-02,  1.7697e-04,\n",
            "          1.5726e-01, -1.9061e-02, -5.6833e-02,  9.3648e-02, -1.0503e-01,\n",
            "         -2.9519e-02,  2.8191e-03, -5.6904e-02,  7.5804e-02,  5.8083e-02,\n",
            "          9.9329e-01,  1.1525e-01, -9.9983e-01,  9.5677e-01, -1.6628e-01,\n",
            "         -9.9353e-01,  4.6095e-02, -9.9986e-01,  1.0000e+00,  9.9846e-01,\n",
            "          8.9753e-01,  9.1208e-01, -9.9989e-01, -9.9890e-01,  5.0927e-01,\n",
            "          1.2454e-01,  9.6369e-02, -1.1559e-02,  8.9460e-01,  1.0359e-01,\n",
            "         -9.3212e-02,  3.6991e-02,  2.0205e-02, -1.2761e-02,  9.2297e-01,\n",
            "          8.3497e-01, -9.9994e-01, -1.0201e-01,  9.2206e-01,  8.2949e-01,\n",
            "         -9.3191e-01,  6.1051e-02,  7.0045e-01,  3.0670e-02, -1.6591e-03,\n",
            "         -3.5048e-02,  5.7468e-02, -1.4085e-01, -9.8412e-01, -6.7844e-02,\n",
            "          3.4785e-02,  6.9326e-02, -6.9209e-02,  5.8442e-03,  9.3501e-01,\n",
            "         -9.6383e-01, -4.4658e-02,  1.6729e-02, -1.8804e-01, -5.1259e-01,\n",
            "         -9.8090e-01, -9.5814e-01, -9.2412e-01,  1.1808e-01,  2.3461e-02,\n",
            "         -9.9981e-01,  1.0333e-01,  9.7258e-01,  9.9780e-01,  9.9978e-01,\n",
            "          2.9197e-02, -1.5363e-01, -7.3041e-02,  3.2545e-02, -9.9974e-01,\n",
            "         -6.5569e-02,  5.8058e-02,  7.9166e-02, -8.5197e-01, -5.9066e-02,\n",
            "          7.9402e-03,  5.6221e-01, -9.9967e-01,  9.9863e-01, -2.1041e-01,\n",
            "          2.3730e-02, -1.4300e-01, -4.7249e-02, -1.4602e-02,  2.1051e-02,\n",
            "         -9.9995e-01,  1.4819e-01,  1.0000e+00,  9.8658e-01,  9.9728e-01,\n",
            "          7.4635e-01, -9.0610e-01, -7.3428e-02,  1.2253e-01, -9.9923e-01,\n",
            "         -9.9571e-01,  4.7346e-02, -1.3348e-01, -9.9995e-01,  9.8924e-01,\n",
            "         -9.9898e-01,  4.7649e-02, -7.3147e-02,  9.9876e-01,  9.9994e-01,\n",
            "         -1.8736e-01, -9.9984e-01, -9.9995e-01, -9.5899e-01,  1.3081e-01,\n",
            "         -1.9129e-01,  1.2359e-01, -2.0030e-01, -1.2739e-01, -1.9168e-01,\n",
            "          9.8465e-01,  1.0591e-02,  9.4679e-02,  6.6336e-01,  1.0000e+00,\n",
            "          1.8289e-02, -9.9907e-01,  1.9111e-01,  5.7222e-02, -6.8691e-01,\n",
            "         -1.6838e-02,  9.9946e-01, -9.3110e-02,  9.5407e-01,  9.9949e-01,\n",
            "         -9.9983e-01,  9.9240e-01, -9.9994e-01,  8.9914e-01,  9.9977e-01,\n",
            "         -1.0000e+00, -7.4446e-02, -1.0000e+00, -9.1432e-01, -7.7010e-02,\n",
            "          1.5929e-01, -3.1552e-02,  9.1466e-01, -1.0000e+00, -9.9997e-01,\n",
            "          3.5718e-02, -4.2827e-01, -9.9303e-01,  8.4717e-01, -1.8011e-01,\n",
            "         -5.3324e-02,  4.2620e-02, -4.6474e-02, -7.0518e-02, -7.2317e-01,\n",
            "          9.9964e-01, -1.7227e-01,  3.0528e-02, -1.0000e+00,  9.9967e-01,\n",
            "         -3.1969e-01,  5.3460e-02,  1.0000e+00, -1.6690e-01,  3.1510e-02,\n",
            "         -1.3717e-01, -1.0000e+00, -6.6623e-02,  4.9281e-02, -9.8950e-01,\n",
            "          9.6521e-01, -3.4420e-02, -3.7405e-02,  7.2636e-02,  1.1943e-01,\n",
            "         -9.9439e-01,  3.9601e-02, -1.0000e+00,  1.0000e+00, -9.2324e-01,\n",
            "          6.9389e-03,  8.7995e-02, -7.6123e-02, -2.4617e-02,  9.9239e-01,\n",
            "          1.0000e+00, -9.9927e-01,  7.0078e-02,  1.0000e+00, -9.4899e-02,\n",
            "          1.1142e-02, -1.0000e+00, -4.2005e-02, -7.4975e-01,  1.5974e-01,\n",
            "          1.0000e+00, -9.6002e-02, -5.8136e-02,  9.9993e-01, -1.0000e+00,\n",
            "         -9.4607e-01,  4.6559e-02, -5.0276e-02,  4.0457e-02, -1.0000e+00,\n",
            "          1.3581e-01, -9.5138e-01, -2.0009e-01, -1.0000e+00,  9.9147e-01,\n",
            "         -1.0000e+00, -7.0826e-02,  9.9999e-01,  8.6414e-01,  9.9987e-01,\n",
            "         -7.1867e-02, -1.5135e-01,  1.4181e-01, -9.9999e-01,  7.4456e-01,\n",
            "          5.6591e-02,  1.0548e-01, -9.9801e-01, -9.4492e-01, -3.7900e-03,\n",
            "          9.7578e-01, -9.8192e-01,  6.0153e-02, -5.4192e-01, -9.4765e-03,\n",
            "         -5.1914e-02, -1.0090e-01,  8.2624e-02, -8.3932e-01,  2.5575e-01,\n",
            "         -6.2076e-02,  8.3147e-02,  7.7585e-02,  2.1392e-03, -8.2665e-02,\n",
            "          9.9681e-01, -1.0000e+00, -4.1608e-02, -9.9996e-01,  9.9318e-02,\n",
            "          1.3710e-01, -1.1093e-01, -7.8991e-02, -2.3114e-01, -4.7240e-02,\n",
            "         -9.9933e-01,  1.0000e+00, -1.0000e+00, -1.0000e+00,  1.0000e+00,\n",
            "          1.2700e-02, -9.8936e-01,  6.4757e-02,  1.0508e-01,  2.1696e-01,\n",
            "          2.6601e-02,  7.3690e-02,  5.1637e-02,  8.5257e-02, -9.9369e-01,\n",
            "          9.0851e-01, -1.7850e-02,  1.8447e-02,  1.1141e-01, -2.5611e-01,\n",
            "         -9.9406e-01,  1.0000e+00,  1.0000e+00,  9.9956e-01, -9.9998e-01,\n",
            "          9.8394e-02,  9.1260e-02,  1.0000e+00,  8.3349e-02, -1.8025e-01,\n",
            "          9.9475e-01,  9.9549e-01,  1.3808e-02, -7.0762e-01,  2.9952e-02,\n",
            "          3.3538e-02,  2.1056e-01, -2.2584e-02, -9.6548e-01, -9.9937e-01,\n",
            "          1.8406e-01, -9.9985e-01, -9.9247e-01,  9.8727e-01,  4.5159e-02,\n",
            "          1.0000e+00,  9.9690e-02,  1.5531e-01, -3.7364e-02, -6.0913e-01,\n",
            "         -9.9943e-01, -1.2111e-01, -9.9811e-01,  9.5413e-02, -9.9997e-01,\n",
            "         -1.0000e+00,  1.9049e-02, -1.6023e-02, -9.9656e-01, -2.5591e-02,\n",
            "          9.7433e-02, -9.9790e-01, -8.7929e-01, -9.9975e-01,  3.3817e-01,\n",
            "         -8.6863e-01, -9.6833e-01, -1.8593e-02,  8.8575e-02, -5.7159e-02,\n",
            "         -7.7900e-02, -2.4511e-01, -5.9279e-01,  5.9914e-01,  1.6926e-02,\n",
            "          4.8285e-02,  3.0218e-02, -9.9926e-01, -3.9606e-02, -1.0000e+00,\n",
            "          9.9850e-01, -1.0000e+00,  4.7494e-02,  1.0000e+00,  1.0000e+00,\n",
            "          8.5789e-02, -9.9999e-01,  9.9953e-01,  8.4175e-02,  1.0000e+00,\n",
            "          3.7695e-02, -9.9919e-01, -9.9999e-01,  1.4765e-02,  5.0767e-02,\n",
            "          1.0000e+00,  1.9648e-02,  9.6990e-01,  1.4167e-02, -4.6891e-02,\n",
            "          1.2276e-01, -7.5554e-02, -1.1068e-01, -1.2017e-01,  2.4385e-02,\n",
            "          9.9581e-01, -6.3272e-02,  1.0000e+00]], grad_fn=<TanhBackward>)\n"
          ],
          "name": "stdout"
        }
      ]
    },
    {
      "cell_type": "code",
      "metadata": {
        "id": "BOpsE6yqhkVw",
        "colab_type": "code",
        "colab": {
          "base_uri": "https://localhost:8080/",
          "height": 711
        },
        "outputId": "c6f15a66-7b8a-489b-e7e7-5da2e17d6d60"
      },
      "source": [
        "#BIO BERT FEATURES\n",
        "features_bert_bio, features_bert_cls_bio = bert_based_features_original(X_train_original, bio_bert_model, bio_bert_tokenizer)"
      ],
      "execution_count": 58,
      "outputs": [
        {
          "output_type": "stream",
          "text": [
            "768\n",
            "768\n",
            "768\n",
            "768\n",
            "33\n",
            "179\n",
            " Patient arrives, via hospital wheelchair, Gait steady, History obtained from patient, Patient appears comfortable, Patient cooperative, alert, Oriented to person, place and time.\n",
            "i= 0\n",
            "i= 50\n",
            "i= 100\n",
            "i= 150\n",
            "i= 200\n",
            "i= 250\n",
            "i= 300\n",
            "i= 350\n",
            "i= 400\n",
            "i= 450\n",
            "i= 500\n",
            "i= 550\n",
            "i= 600\n",
            "i= 650\n",
            "i= 700\n",
            "i= 750\n",
            "i= 800\n",
            "i= 850\n",
            "i= 900\n",
            "i= 950\n",
            "i= 1000\n",
            "i= 1050\n",
            "i= 1100\n",
            "i= 1150\n",
            "i= 1200\n",
            "i= 1250\n",
            "i= 1300\n",
            "i= 1350\n",
            "i= 1400\n",
            "i= 1450\n",
            "i= 1500\n",
            "i= 1550\n",
            "i= 1600\n",
            "i= 1650\n"
          ],
          "name": "stdout"
        }
      ]
    },
    {
      "cell_type": "code",
      "metadata": {
        "id": "ZIywc5y9iy70",
        "colab_type": "code",
        "colab": {
          "base_uri": "https://localhost:8080/",
          "height": 388
        },
        "outputId": "db64ec28-c769-40c2-c935-68d6ab5c3998"
      },
      "source": [
        "y_train_test_hat, y_train_test = predict_train(features_bert_bio, y_true, get_optimal_rf_model(features_bert_bio[:500], y_true[:500]))\n",
        "plot_accuracy(y_train_test, y_train_test_hat)"
      ],
      "execution_count": 59,
      "outputs": [
        {
          "output_type": "stream",
          "text": [
            "Optimal parameters: {'max_depth': 4, 'min_samples_split': 8, 'n_estimators': 300, 'subsample': 0.8}\n",
            "Accuracy: 0.77020093762843\n"
          ],
          "name": "stdout"
        },
        {
          "output_type": "display_data",
          "data": {
            "image/png": "[encoded data removed]",
            "text/plain": [
              "<Figure size 720x360 with 1 Axes>"
            ]
          },
          "metadata": {
            "tags": []
          }
        }
      ]
    },
    {
      "cell_type": "code",
      "metadata": {
        "id": "cQRhFqXdMAiT",
        "colab_type": "code",
        "colab": {}
      },
      "source": [
        "y_train_test_hat, y_train_test = predict_train(features_bert_cls_bio, y_true, get_optimal_rf_model(features_bert_cls_bio[:500], y_true[:500]))\n",
        "plot_accuracy(y_train_test, y_train_test_hat)"
      ],
      "execution_count": 0,
      "outputs": []
    },
    {
      "cell_type": "markdown",
      "metadata": {
        "id": "9F9Y0tdXW9fP",
        "colab_type": "text"
      },
      "source": [
        "#### STS-b model"
      ]
    },
    {
      "cell_type": "code",
      "metadata": {
        "id": "Vq4H8-CfW-rn",
        "colab_type": "code",
        "colab": {
          "base_uri": "https://localhost:8080/",
          "height": 203
        },
        "outputId": "5e299bf6-2819-48eb-c01e-de81721e0ec7"
      },
      "source": [
        "!wget https://public.ukp.informatik.tu-darmstadt.de/reimers/sentence-transformers/v0.2/bert-base-nli-stsb-mean-tokens.zip"
      ],
      "execution_count": 60,
      "outputs": [
        {
          "output_type": "stream",
          "text": [
            "--2019-12-13 01:13:36--  https://public.ukp.informatik.tu-darmstadt.de/reimers/sentence-transformers/v0.2/bert-base-nli-stsb-mean-tokens.zip\n",
            "Resolving public.ukp.informatik.tu-darmstadt.de (public.ukp.informatik.tu-darmstadt.de)... 130.83.167.186\n",
            "Connecting to public.ukp.informatik.tu-darmstadt.de (public.ukp.informatik.tu-darmstadt.de)|130.83.167.186|:443... connected.\n",
            "HTTP request sent, awaiting response... 200 OK\n",
            "Length: 405233603 (386M) [application/zip]\n",
            "Saving to: ‘bert-base-nli-stsb-mean-tokens.zip’\n",
            "\n",
            "bert-base-nli-stsb- 100%[===================>] 386.46M  20.4MB/s    in 22s     \n",
            "\n",
            "2019-12-13 01:13:59 (17.4 MB/s) - ‘bert-base-nli-stsb-mean-tokens.zip’ saved [405233603/405233603]\n",
            "\n"
          ],
          "name": "stdout"
        }
      ]
    },
    {
      "cell_type": "code",
      "metadata": {
        "id": "6DTDJ55WW_So",
        "colab_type": "code",
        "colab": {
          "base_uri": "https://localhost:8080/",
          "height": 203
        },
        "outputId": "58b55f02-151d-493b-b816-c0e2d5a43cf9"
      },
      "source": [
        "!unzip bert-base-nli-stsb-mean-tokens.zip"
      ],
      "execution_count": 61,
      "outputs": [
        {
          "output_type": "stream",
          "text": [
            "Archive:  bert-base-nli-stsb-mean-tokens.zip\n",
            "   creating: 0_BERT/\n",
            " extracting: 0_BERT/added_tokens.json  \n",
            "  inflating: 0_BERT/config.json      \n",
            "  inflating: 0_BERT/pytorch_model.bin  \n",
            " extracting: 0_BERT/sentence_bert_config.json  \n",
            "  inflating: 0_BERT/special_tokens_map.json  \n",
            "  inflating: 0_BERT/vocab.txt        \n",
            "   creating: 1_Pooling/\n",
            "  inflating: 1_Pooling/config.json   \n",
            "  inflating: modules.json            \n"
          ],
          "name": "stdout"
        }
      ]
    },
    {
      "cell_type": "code",
      "metadata": {
        "id": "M-3_BIAsX3I6",
        "colab_type": "code",
        "colab": {}
      },
      "source": [
        "pretrained_weights = '0_BERT'\n",
        "\n",
        "# Load pretrained model/tokenizer\n",
        "stsb_bert_tokenizer = tokenizer_class.from_pretrained(pretrained_weights)\n",
        "stsb_bert_model = model_class.from_pretrained(pretrained_weights)"
      ],
      "execution_count": 0,
      "outputs": []
    },
    {
      "cell_type": "code",
      "metadata": {
        "id": "G_DmUajDX2Zo",
        "colab_type": "code",
        "colab": {
          "base_uri": "https://localhost:8080/",
          "height": 711
        },
        "outputId": "5a396ff3-f012-4242-99a9-7e1ea35a97cb"
      },
      "source": [
        "#STSB BERT FEATURES\n",
        "features_bert_stsb, features_bert_cls_stsb = bert_based_features_original(X_train_original, stsb_bert_model, stsb_bert_tokenizer)"
      ],
      "execution_count": 63,
      "outputs": [
        {
          "output_type": "stream",
          "text": [
            "768\n",
            "768\n",
            "768\n",
            "768\n",
            "33\n",
            "179\n",
            " Patient arrives, via hospital wheelchair, Gait steady, History obtained from patient, Patient appears comfortable, Patient cooperative, alert, Oriented to person, place and time.\n",
            "i= 0\n",
            "i= 50\n",
            "i= 100\n",
            "i= 150\n",
            "i= 200\n",
            "i= 250\n",
            "i= 300\n",
            "i= 350\n",
            "i= 400\n",
            "i= 450\n",
            "i= 500\n",
            "i= 550\n",
            "i= 600\n",
            "i= 650\n",
            "i= 700\n",
            "i= 750\n",
            "i= 800\n",
            "i= 850\n",
            "i= 900\n",
            "i= 950\n",
            "i= 1000\n",
            "i= 1050\n",
            "i= 1100\n",
            "i= 1150\n",
            "i= 1200\n",
            "i= 1250\n",
            "i= 1300\n",
            "i= 1350\n",
            "i= 1400\n",
            "i= 1450\n",
            "i= 1500\n",
            "i= 1550\n",
            "i= 1600\n",
            "i= 1650\n"
          ],
          "name": "stdout"
        }
      ]
    },
    {
      "cell_type": "code",
      "metadata": {
        "id": "daDivyzzYDXv",
        "colab_type": "code",
        "colab": {
          "base_uri": "https://localhost:8080/",
          "height": 388
        },
        "outputId": "57b55cd7-d59e-43b1-d497-57832b17e51d"
      },
      "source": [
        "y_train_test_hat, y_train_test = predict_train(features_bert_stsb, y_true, get_optimal_rf_model(features_bert_stsb[:500], y_true[:500]))\n",
        "plot_accuracy(y_train_test, y_train_test_hat)"
      ],
      "execution_count": 64,
      "outputs": [
        {
          "output_type": "stream",
          "text": [
            "Optimal parameters: {'max_depth': 5, 'min_samples_split': 2, 'n_estimators': 300, 'subsample': 0.7}\n",
            "Accuracy: 0.7600821885151754\n"
          ],
          "name": "stdout"
        },
        {
          "output_type": "display_data",
          "data": {
            "image/png": "[encoded data removed]",
            "text/plain": [
              "<Figure size 720x360 with 1 Axes>"
            ]
          },
          "metadata": {
            "tags": []
          }
        }
      ]
    },
    {
      "cell_type": "markdown",
      "metadata": {
        "id": "cimmkNXpb66H",
        "colab_type": "text"
      },
      "source": [
        "#### STSB + BIOBERT + VANILLA"
      ]
    },
    {
      "cell_type": "code",
      "metadata": {
        "id": "LjFDPV21btVo",
        "colab_type": "code",
        "colab": {}
      },
      "source": [
        "features_stsb_bio_og = np.concatenate([features_bert_og, features_bert_bio, features_bert_stsb], axis=1)\n",
        "\n",
        "y_train_test_hat, y_train_test = predict_train(features_stsb_bio_og, y_true, get_optimal_rf_model(features_stsb_bio_og[:500], y_true[:500]))\n",
        "plot_accuracy(y_train_test, y_train_test_hat)"
      ],
      "execution_count": 0,
      "outputs": []
    },
    {
      "cell_type": "markdown",
      "metadata": {
        "id": "n02rkCO4myaY",
        "colab_type": "text"
      },
      "source": [
        "#### BIO CLINICAL BERT"
      ]
    },
    {
      "cell_type": "code",
      "metadata": {
        "id": "EKYJlN1CkQwO",
        "colab_type": "code",
        "colab": {
          "base_uri": "https://localhost:8080/",
          "height": 355
        },
        "outputId": "cf725342-4f02-4d00-b884-2542f1032a10"
      },
      "source": [
        "#CLINICAL BERT\n",
        "\n",
        "!wget -O pretrained_bert_tf.tar.gz https://www.dropbox.com/s/8armk04fu16algz/pretrained_bert_tf.tar.gz?dl=1"
      ],
      "execution_count": 65,
      "outputs": [
        {
          "output_type": "stream",
          "text": [
            "--2019-12-13 01:21:04--  https://www.dropbox.com/s/8armk04fu16algz/pretrained_bert_tf.tar.gz?dl=1\n",
            "Resolving www.dropbox.com (www.dropbox.com)... 162.125.1.1, 2620:100:601b:1::a27d:801\n",
            "Connecting to www.dropbox.com (www.dropbox.com)|162.125.1.1|:443... connected.\n",
            "HTTP request sent, awaiting response... 301 Moved Permanently\n",
            "Location: /s/dl/8armk04fu16algz/pretrained_bert_tf.tar.gz [following]\n",
            "--2019-12-13 01:21:04--  https://www.dropbox.com/s/dl/8armk04fu16algz/pretrained_bert_tf.tar.gz\n",
            "Reusing existing connection to www.dropbox.com:443.\n",
            "HTTP request sent, awaiting response... 302 Found\n",
            "Location: https://uc7f9f140366d6569332d30152b4.dl.dropboxusercontent.com/cd/0/get/AuLgZ1lmEJIxfMIjzlz97sqK_LUWxMmtN_1u6U_yGydqd9jjnkFJ8o8H-KVkp4MnFPPlypPEhod2aUtFAgC22SSdDEGdQpXSQhtOdkWxtJul6DXEC8XNis-Vjv5qjSkK0zs/file?dl=1# [following]\n",
            "--2019-12-13 01:21:04--  https://uc7f9f140366d6569332d30152b4.dl.dropboxusercontent.com/cd/0/get/AuLgZ1lmEJIxfMIjzlz97sqK_LUWxMmtN_1u6U_yGydqd9jjnkFJ8o8H-KVkp4MnFPPlypPEhod2aUtFAgC22SSdDEGdQpXSQhtOdkWxtJul6DXEC8XNis-Vjv5qjSkK0zs/file?dl=1\n",
            "Resolving uc7f9f140366d6569332d30152b4.dl.dropboxusercontent.com (uc7f9f140366d6569332d30152b4.dl.dropboxusercontent.com)... 162.125.1.6, 2620:100:6016:6::a27d:106\n",
            "Connecting to uc7f9f140366d6569332d30152b4.dl.dropboxusercontent.com (uc7f9f140366d6569332d30152b4.dl.dropboxusercontent.com)|162.125.1.6|:443... connected.\n",
            "HTTP request sent, awaiting response... 200 OK\n",
            "Length: 6418595961 (6.0G) [application/binary]\n",
            "Saving to: ‘pretrained_bert_tf.tar.gz’\n",
            "\n",
            "pretrained_bert_tf. 100%[===================>]   5.98G  38.4MB/s    in 3m 36s  \n",
            "\n",
            "2019-12-13 01:24:41 (28.3 MB/s) - ‘pretrained_bert_tf.tar.gz’ saved [6418595961/6418595961]\n",
            "\n"
          ],
          "name": "stdout"
        }
      ]
    },
    {
      "cell_type": "code",
      "metadata": {
        "id": "Mm2UIw33kcDe",
        "colab_type": "code",
        "colab": {
          "base_uri": "https://localhost:8080/",
          "height": 101
        },
        "outputId": "a4cf77c1-8933-4bf6-8eb5-d3e8dcb7e4bc"
      },
      "source": [
        "!tar xvzf pretrained_bert_tf.tar.gz"
      ],
      "execution_count": 66,
      "outputs": [
        {
          "output_type": "stream",
          "text": [
            "pretrained_bert_tf/\n",
            "pretrained_bert_tf/biobert_pretrain_output_all_notes_150000.tar.gz\n",
            "pretrained_bert_tf/bert_pretrain_output_all_notes_150000.tar.gz\n",
            "pretrained_bert_tf/bert_pretrain_output_disch_100000.tar.gz\n",
            "pretrained_bert_tf/biobert_pretrain_output_disch_100000.tar.gz\n"
          ],
          "name": "stdout"
        }
      ]
    },
    {
      "cell_type": "code",
      "metadata": {
        "id": "_vL-54UklH4L",
        "colab_type": "code",
        "colab": {
          "base_uri": "https://localhost:8080/",
          "height": 152
        },
        "outputId": "06540860-321c-4a35-ed09-43e4f5a6ad84"
      },
      "source": [
        "!tar xvzf pretrained_bert_tf/biobert_pretrain_output_all_notes_150000.tar.gz"
      ],
      "execution_count": 67,
      "outputs": [
        {
          "output_type": "stream",
          "text": [
            "biobert_pretrain_output_all_notes_150000/\n",
            "biobert_pretrain_output_all_notes_150000/model.ckpt-150000.index\n",
            "biobert_pretrain_output_all_notes_150000/model.ckpt-150000.meta\n",
            "biobert_pretrain_output_all_notes_150000/graph.pbtxt\n",
            "biobert_pretrain_output_all_notes_150000/bert_config.json\n",
            "biobert_pretrain_output_all_notes_150000/vocab.txt\n",
            "biobert_pretrain_output_all_notes_150000/pytorch_model.bin\n",
            "biobert_pretrain_output_all_notes_150000/model.ckpt-150000.data-00000-of-00001\n"
          ],
          "name": "stdout"
        }
      ]
    },
    {
      "cell_type": "code",
      "metadata": {
        "id": "oDdHY6LWk9bB",
        "colab_type": "code",
        "colab": {}
      },
      "source": [
        "#!transformers bert biobert_pretrain_output_all_notes_150000/model.ckpt-1000000 biobert_pretrain_output_all_notes_150000/bert_config.json biobert_pretrain_output_all_notes_150000/pytorch_model.bin"
      ],
      "execution_count": 0,
      "outputs": []
    },
    {
      "cell_type": "code",
      "metadata": {
        "id": "uhP6GMzImGaz",
        "colab_type": "code",
        "colab": {}
      },
      "source": [
        "#after this, renamed bert_config.json to config.json manually\n",
        "!cp biobert_pretrain_output_all_notes_150000/bert_config.json biobert_pretrain_output_all_notes_150000/config.json"
      ],
      "execution_count": 0,
      "outputs": []
    },
    {
      "cell_type": "code",
      "metadata": {
        "id": "grBT3g3clzss",
        "colab_type": "code",
        "colab": {}
      },
      "source": [
        "model_class = BertModel\n",
        "tokenizer_class = BertTokenizer\n",
        "pretrained_weights = 'biobert_pretrain_output_all_notes_150000'\n",
        "\n",
        "# Load pretrained model/tokenizer\n",
        "bio_clinical_bert_tokenizer = tokenizer_class.from_pretrained(pretrained_weights)\n",
        "bio_clinical_bert_model = model_class.from_pretrained(pretrained_weights)"
      ],
      "execution_count": 0,
      "outputs": []
    },
    {
      "cell_type": "code",
      "metadata": {
        "id": "hNpsMIH6mxPA",
        "colab_type": "code",
        "colab": {}
      },
      "source": [
        "#BIO CLINICAL BERT FEATURES\n",
        "features_bert_bio_clinical, features_bert_cls_bio_clinical = bert_based_features_original(X_train_original, bio_clinical_bert_model, bio_clinical_bert_tokenizer)"
      ],
      "execution_count": 0,
      "outputs": []
    },
    {
      "cell_type": "code",
      "metadata": {
        "id": "5MOCRevwnQyu",
        "colab_type": "code",
        "colab": {}
      },
      "source": [
        "y_train_test_hat, y_train_test = predict_train(features_bert_bio_clinical, y_true, get_optimal_rf_model(features_bert_bio_clinical[:500], y_true[:500]))\n",
        "plot_accuracy(y_train_test, y_train_test_hat)"
      ],
      "execution_count": 0,
      "outputs": []
    },
    {
      "cell_type": "markdown",
      "metadata": {
        "id": "G8It3dJPv-Ao",
        "colab_type": "text"
      },
      "source": [
        "#### CLINICAL BERT"
      ]
    },
    {
      "cell_type": "code",
      "metadata": {
        "colab_type": "code",
        "id": "9vM99SPEwUcs",
        "colab": {
          "base_uri": "https://localhost:8080/",
          "height": 152
        },
        "outputId": "00e6395c-04f1-425d-ed81-adcdf71ee680"
      },
      "source": [
        "!tar xvzf pretrained_bert_tf/bert_pretrain_output_all_notes_150000.tar.gz"
      ],
      "execution_count": 73,
      "outputs": [
        {
          "output_type": "stream",
          "text": [
            "bert_pretrain_output_all_notes_150000/\n",
            "bert_pretrain_output_all_notes_150000/model.ckpt-150000.index\n",
            "bert_pretrain_output_all_notes_150000/model.ckpt-150000.meta\n",
            "bert_pretrain_output_all_notes_150000/graph.pbtxt\n",
            "bert_pretrain_output_all_notes_150000/bert_config.json\n",
            "bert_pretrain_output_all_notes_150000/vocab.txt\n",
            "bert_pretrain_output_all_notes_150000/pytorch_model.bin\n",
            "bert_pretrain_output_all_notes_150000/model.ckpt-150000.data-00000-of-00001\n"
          ],
          "name": "stdout"
        }
      ]
    },
    {
      "cell_type": "code",
      "metadata": {
        "colab_type": "code",
        "id": "h0UGFIt7wUc5",
        "colab": {}
      },
      "source": [
        "#!transformers bert biobert_pretrain_output_all_notes_150000/model.ckpt-1000000 biobert_pretrain_output_all_notes_150000/bert_config.json biobert_pretrain_output_all_notes_150000/pytorch_model.bin"
      ],
      "execution_count": 0,
      "outputs": []
    },
    {
      "cell_type": "code",
      "metadata": {
        "colab_type": "code",
        "id": "WL6CpwTswUdA",
        "colab": {}
      },
      "source": [
        "#after this, renamed bert_config.json to config.json manually\n",
        "!cp bert_pretrain_output_all_notes_150000/bert_config.json bert_pretrain_output_all_notes_150000/config.json"
      ],
      "execution_count": 0,
      "outputs": []
    },
    {
      "cell_type": "code",
      "metadata": {
        "colab_type": "code",
        "id": "vnnp7oRnwUdN",
        "colab": {}
      },
      "source": [
        "model_class = BertModel\n",
        "tokenizer_class = BertTokenizer\n",
        "pretrained_weights = 'bert_pretrain_output_all_notes_150000'\n",
        "\n",
        "# Load pretrained model/tokenizer\n",
        "clinical_bert_tokenizer = tokenizer_class.from_pretrained(pretrained_weights)\n",
        "clinical_bert_model = model_class.from_pretrained(pretrained_weights)"
      ],
      "execution_count": 0,
      "outputs": []
    },
    {
      "cell_type": "code",
      "metadata": {
        "colab_type": "code",
        "id": "w1flpih8wUdS",
        "colab": {
          "base_uri": "https://localhost:8080/",
          "height": 711
        },
        "outputId": "b211b543-fdb1-4d3f-d6e8-670abdba3d07"
      },
      "source": [
        "#CLINICAL BERT FEATURES\n",
        "features_bert_clinical, features_bert_cls_clinical = bert_based_features_original(X_train_original, clinical_bert_model, clinical_bert_tokenizer)"
      ],
      "execution_count": 77,
      "outputs": [
        {
          "output_type": "stream",
          "text": [
            "768\n",
            "768\n",
            "768\n",
            "768\n",
            "33\n",
            "179\n",
            " Patient arrives, via hospital wheelchair, Gait steady, History obtained from patient, Patient appears comfortable, Patient cooperative, alert, Oriented to person, place and time.\n",
            "i= 0\n",
            "i= 50\n",
            "i= 100\n",
            "i= 150\n",
            "i= 200\n",
            "i= 250\n",
            "i= 300\n",
            "i= 350\n",
            "i= 400\n",
            "i= 450\n",
            "i= 500\n",
            "i= 550\n",
            "i= 600\n",
            "i= 650\n",
            "i= 700\n",
            "i= 750\n",
            "i= 800\n",
            "i= 850\n",
            "i= 900\n",
            "i= 950\n",
            "i= 1000\n",
            "i= 1050\n",
            "i= 1100\n",
            "i= 1150\n",
            "i= 1200\n",
            "i= 1250\n",
            "i= 1300\n",
            "i= 1350\n",
            "i= 1400\n",
            "i= 1450\n",
            "i= 1500\n",
            "i= 1550\n",
            "i= 1600\n",
            "i= 1650\n"
          ],
          "name": "stdout"
        }
      ]
    },
    {
      "cell_type": "code",
      "metadata": {
        "colab_type": "code",
        "id": "iFuKA81CwUdW",
        "colab": {
          "base_uri": "https://localhost:8080/",
          "height": 388
        },
        "outputId": "8d3f1f69-4d85-49b2-e449-d1fcba32e2d5"
      },
      "source": [
        "y_train_test_hat, y_train_test = predict_train(features_bert_clinical, y_true, get_optimal_rf_model(features_bert_clinical[:500], y_true[:500]))\n",
        "plot_accuracy(y_train_test, y_train_test_hat)"
      ],
      "execution_count": 78,
      "outputs": [
        {
          "output_type": "stream",
          "text": [
            "Optimal parameters: {'max_depth': 7, 'min_samples_split': 6, 'n_estimators': 200, 'subsample': 0.7}\n",
            "Accuracy: 0.7517440407661451\n"
          ],
          "name": "stdout"
        },
        {
          "output_type": "display_data",
          "data": {
            "image/png": "[encoded data removed]",
            "text/plain": [
              "<Figure size 720x360 with 1 Axes>"
            ]
          },
          "metadata": {
            "tags": []
          }
        }
      ]
    },
    {
      "cell_type": "markdown",
      "metadata": {
        "id": "CVjc5yqWu4op",
        "colab_type": "text"
      },
      "source": [
        "### Next sentence prediction"
      ]
    },
    {
      "cell_type": "code",
      "metadata": {
        "id": "Q5W-89HMt3t7",
        "colab_type": "code",
        "colab": {}
      },
      "source": [
        "def bert_based_features_nsp(data, local_bert_model, local_tokenizer):\n",
        "  cls_vectors = np.zeros((len(data), 768*2))\n",
        "\n",
        "  for i in range(len(data)):\n",
        "\n",
        "    sen_1 = data[i][0] + \" [SEP] \" + data[i][1]\n",
        "    sen_2 = data[i][1] + \" [SEP] \" + data[i][0]\n",
        "\n",
        "    sen_1_input_ids = torch.tensor([local_tokenizer.encode(sen_1, add_special_tokens=True)])\n",
        "    sen_1_vectors = local_bert_model(sen_1_input_ids)[0][0].detach().numpy()\n",
        "    sen_1_cls_vector = sen_1_vectors[0]\n",
        "    sen_1_cls_vector_reshaped = sen_1_cls_vector.reshape(1, -1)\n",
        "\n",
        "    sen_2_input_ids = torch.tensor([local_tokenizer.encode(sen_2, add_special_tokens=True)])\n",
        "    sen_2_vectors = local_bert_model(sen_2_input_ids)[0][0].detach().numpy()\n",
        "    sen_2_cls_vector = sen_2_vectors[0]\n",
        "    sen_2_cls_vector_reshaped = sen_2_cls_vector.reshape(1, -1)\n",
        "\n",
        "    cls_vectors[i] = np.concatenate((sen_1_cls_vector, sen_2_cls_vector))\n",
        "    if i == 0:\n",
        "      print(len(sen_2_cls_vector))\n",
        "      print(len(sen_2_vectors[1:-1]))\n",
        "      print(len(sen_2))\n",
        "      print(sen_2)\n",
        "    if i % 50 == 0:\n",
        "      print(\"i=\",i)\n",
        "\n",
        "  return cls_vectors"
      ],
      "execution_count": 0,
      "outputs": []
    },
    {
      "cell_type": "code",
      "metadata": {
        "id": "fj9-k1STDOH_",
        "colab_type": "code",
        "colab": {}
      },
      "source": [
        "from sklearn.preprocessing import StandardScaler\n",
        "from sklearn.decomposition import PCA\n",
        "\n",
        "pca = PCA(n_components=20)"
      ],
      "execution_count": 0,
      "outputs": []
    },
    {
      "cell_type": "markdown",
      "metadata": {
        "id": "2vIH3ce5el3L",
        "colab_type": "text"
      },
      "source": [
        "#### biobert"
      ]
    },
    {
      "cell_type": "code",
      "metadata": {
        "id": "A9mLdzM0zxta",
        "colab_type": "code",
        "colab": {
          "base_uri": "https://localhost:8080/",
          "height": 680
        },
        "outputId": "5a9e6368-10dc-43e1-9a2c-4ab5c60e333d"
      },
      "source": [
        "#BIO BERT FEATURES\n",
        "features_bert_cls_bio_nsp = bert_based_features_nsp(X_train_original, bio_bert_model, bio_bert_tokenizer)"
      ],
      "execution_count": 43,
      "outputs": [
        {
          "output_type": "stream",
          "text": [
            "768\n",
            "71\n",
            "381\n",
            " Complex assessment performed, Patient arrives ambulatory, Gait steady, History obtained from, parent, Patient appears comfortable, Patient cooperative, alert, Oriented to person, place and time. [SEP]  Patient arrives, via hospital wheelchair, Gait steady, History obtained from patient, Patient appears comfortable, Patient cooperative, alert, Oriented to person, place and time.\n",
            "i= 0\n",
            "i= 50\n",
            "i= 100\n",
            "i= 150\n",
            "i= 200\n",
            "i= 250\n",
            "i= 300\n",
            "i= 350\n",
            "i= 400\n",
            "i= 450\n",
            "i= 500\n",
            "i= 550\n",
            "i= 600\n",
            "i= 650\n",
            "i= 700\n",
            "i= 750\n",
            "i= 800\n",
            "i= 850\n",
            "i= 900\n",
            "i= 950\n",
            "i= 1000\n",
            "i= 1050\n",
            "i= 1100\n",
            "i= 1150\n",
            "i= 1200\n",
            "i= 1250\n",
            "i= 1300\n",
            "i= 1350\n",
            "i= 1400\n",
            "i= 1450\n",
            "i= 1500\n",
            "i= 1550\n",
            "i= 1600\n",
            "i= 1650\n"
          ],
          "name": "stdout"
        }
      ]
    },
    {
      "cell_type": "code",
      "metadata": {
        "id": "7OUP77slavBe",
        "colab_type": "code",
        "colab": {}
      },
      "source": [
        "features_bert_cls_bio_nsp_scaled = StandardScaler().fit_transform(features_bert_cls_bio_nsp)\n",
        "features_bert_cls_bio_nsp_principal_components = pca.fit_transform(features_bert_cls_bio_nsp_scaled)"
      ],
      "execution_count": 0,
      "outputs": []
    },
    {
      "cell_type": "code",
      "metadata": {
        "colab_type": "code",
        "id": "S6BBHwuUKx1V",
        "colab": {
          "base_uri": "https://localhost:8080/",
          "height": 388
        },
        "outputId": "5ec98891-1d4a-45f0-8f61-13befd8865ec"
      },
      "source": [
        "y_train_test_hat, y_train_test = predict_train(features_bert_cls_bio_nsp_principal_components, y_true, get_optimal_rf_model(features_bert_cls_bio_nsp_principal_components[1500:], y_true[1500:]))\n",
        "plot_accuracy(y_train_test, y_train_test_hat)"
      ],
      "execution_count": 87,
      "outputs": [
        {
          "output_type": "stream",
          "text": [
            "Optimal parameters: {'max_depth': 4, 'min_samples_split': 2, 'n_estimators': 500, 'subsample': 0.8}\n",
            "Accuracy: 0.7096567125741803\n"
          ],
          "name": "stdout"
        },
        {
          "output_type": "display_data",
          "data": {
            "image/png": "[encoded data removed]",
            "text/plain": [
              "<Figure size 720x360 with 1 Axes>"
            ]
          },
          "metadata": {
            "tags": []
          }
        }
      ]
    },
    {
      "cell_type": "markdown",
      "metadata": {
        "id": "hjtKsuNmeqfG",
        "colab_type": "text"
      },
      "source": [
        "#### STSb model"
      ]
    },
    {
      "cell_type": "code",
      "metadata": {
        "id": "okypjKC4cfG8",
        "colab_type": "code",
        "colab": {
          "base_uri": "https://localhost:8080/",
          "height": 680
        },
        "outputId": "90ca8bb4-3d5f-4156-b530-58ce552741c5"
      },
      "source": [
        "features_stsb_bert_cls_nsp = bert_based_features_nsp(X_train_original, stsb_bert_model, stsb_bert_tokenizer)"
      ],
      "execution_count": 83,
      "outputs": [
        {
          "output_type": "stream",
          "text": [
            "768\n",
            "71\n",
            "381\n",
            " Complex assessment performed, Patient arrives ambulatory, Gait steady, History obtained from, parent, Patient appears comfortable, Patient cooperative, alert, Oriented to person, place and time. [SEP]  Patient arrives, via hospital wheelchair, Gait steady, History obtained from patient, Patient appears comfortable, Patient cooperative, alert, Oriented to person, place and time.\n",
            "i= 0\n",
            "i= 50\n",
            "i= 100\n",
            "i= 150\n",
            "i= 200\n",
            "i= 250\n",
            "i= 300\n",
            "i= 350\n",
            "i= 400\n",
            "i= 450\n",
            "i= 500\n",
            "i= 550\n",
            "i= 600\n",
            "i= 650\n",
            "i= 700\n",
            "i= 750\n",
            "i= 800\n",
            "i= 850\n",
            "i= 900\n",
            "i= 950\n",
            "i= 1000\n",
            "i= 1050\n",
            "i= 1100\n",
            "i= 1150\n",
            "i= 1200\n",
            "i= 1250\n",
            "i= 1300\n",
            "i= 1350\n",
            "i= 1400\n",
            "i= 1450\n",
            "i= 1500\n",
            "i= 1550\n",
            "i= 1600\n",
            "i= 1650\n"
          ],
          "name": "stdout"
        }
      ]
    },
    {
      "cell_type": "code",
      "metadata": {
        "id": "fWNNKGAucxC6",
        "colab_type": "code",
        "colab": {
          "base_uri": "https://localhost:8080/",
          "height": 388
        },
        "outputId": "f2bea252-c237-4cda-d27a-8acf6a5420f4"
      },
      "source": [
        "y_train_test_hat, y_train_test = predict_train(features_stsb_bert_cls_nsp, y_true, get_optimal_rf_model(features_stsb_bert_cls_nsp[1500:], y_true[1500:]))\n",
        "plot_accuracy(y_train_test, y_train_test_hat)"
      ],
      "execution_count": 84,
      "outputs": [
        {
          "output_type": "stream",
          "text": [
            "Optimal parameters: {'max_depth': 6, 'min_samples_split': 6, 'n_estimators': 500, 'subsample': 0.8}\n",
            "Accuracy: 0.6577362024482314\n"
          ],
          "name": "stdout"
        },
        {
          "output_type": "display_data",
          "data": {
            "image/png": "[encoded data removed]",
            "text/plain": [
              "<Figure size 720x360 with 1 Axes>"
            ]
          },
          "metadata": {
            "tags": []
          }
        }
      ]
    },
    {
      "cell_type": "code",
      "metadata": {
        "id": "Qb8PT7MimeF-",
        "colab_type": "code",
        "colab": {}
      },
      "source": [
        "features_stsb_bert_cls_nsp_scaled = StandardScaler().fit_transform(features_stsb_bert_cls_nsp)\n",
        "features_stsb_bert_cls_nsp_principal_components = pca.fit_transform(features_stsb_bert_cls_nsp_scaled)"
      ],
      "execution_count": 0,
      "outputs": []
    },
    {
      "cell_type": "code",
      "metadata": {
        "id": "_w0sRv6_mgTm",
        "colab_type": "code",
        "colab": {
          "base_uri": "https://localhost:8080/",
          "height": 388
        },
        "outputId": "abb5e433-7a5b-4cb6-a8d5-b2eed891b79f"
      },
      "source": [
        "y_train_test_hat, y_train_test = predict_train(features_stsb_bert_cls_nsp_principal_components, y_true, get_optimal_rf_model(features_stsb_bert_cls_nsp_principal_components[1500:], y_true[1500:]))\n",
        "plot_accuracy(y_train_test, y_train_test_hat)"
      ],
      "execution_count": 89,
      "outputs": [
        {
          "output_type": "stream",
          "text": [
            "Optimal parameters: {'max_depth': 4, 'min_samples_split': 8, 'n_estimators': 500, 'subsample': 0.6}\n",
            "Accuracy: 0.5755774666385248\n"
          ],
          "name": "stdout"
        },
        {
          "output_type": "display_data",
          "data": {
            "image/png": "[encoded data removed]",
            "text/plain": [
              "<Figure size 720x360 with 1 Axes>"
            ]
          },
          "metadata": {
            "tags": []
          }
        }
      ]
    },
    {
      "cell_type": "markdown",
      "metadata": {
        "id": "9qCojNKMes2D",
        "colab_type": "text"
      },
      "source": [
        "#### clinical BERT"
      ]
    },
    {
      "cell_type": "code",
      "metadata": {
        "id": "iJq6sonqbLSo",
        "colab_type": "code",
        "colab": {}
      },
      "source": [
        "#Clinical bert model"
      ],
      "execution_count": 0,
      "outputs": []
    },
    {
      "cell_type": "code",
      "metadata": {
        "colab_type": "code",
        "outputId": "9780d300-52cf-4bd2-800e-b58140251cd4",
        "id": "NzUtOgkEbnPp",
        "colab": {
          "base_uri": "https://localhost:8080/",
          "height": 680
        }
      },
      "source": [
        "features_clinicalbert_cls_nsp = bert_based_features_nsp(X_train_original, clinical_bert_model, clinical_bert_tokenizer)"
      ],
      "execution_count": 73,
      "outputs": [
        {
          "output_type": "stream",
          "text": [
            "768\n",
            "71\n",
            "381\n",
            " Complex assessment performed, Patient arrives ambulatory, Gait steady, History obtained from, parent, Patient appears comfortable, Patient cooperative, alert, Oriented to person, place and time. [SEP]  Patient arrives, via hospital wheelchair, Gait steady, History obtained from patient, Patient appears comfortable, Patient cooperative, alert, Oriented to person, place and time.\n",
            "i= 0\n",
            "i= 50\n",
            "i= 100\n",
            "i= 150\n",
            "i= 200\n",
            "i= 250\n",
            "i= 300\n",
            "i= 350\n",
            "i= 400\n",
            "i= 450\n",
            "i= 500\n",
            "i= 550\n",
            "i= 600\n",
            "i= 650\n",
            "i= 700\n",
            "i= 750\n",
            "i= 800\n",
            "i= 850\n",
            "i= 900\n",
            "i= 950\n",
            "i= 1000\n",
            "i= 1050\n",
            "i= 1100\n",
            "i= 1150\n",
            "i= 1200\n",
            "i= 1250\n",
            "i= 1300\n",
            "i= 1350\n",
            "i= 1400\n",
            "i= 1450\n",
            "i= 1500\n",
            "i= 1550\n",
            "i= 1600\n",
            "i= 1650\n"
          ],
          "name": "stdout"
        }
      ]
    },
    {
      "cell_type": "code",
      "metadata": {
        "colab_type": "code",
        "id": "dT-xPfMabnP7",
        "colab": {}
      },
      "source": [
        "features_clinicalbert_cls_nsp_scaled = StandardScaler().fit_transform(features_clinicalbert_cls_nsp)\n",
        "features_clinicalbert_cls_nsp_principal_components = pca.fit_transform(features_clinicalbert_cls_nsp_scaled)"
      ],
      "execution_count": 0,
      "outputs": []
    },
    {
      "cell_type": "code",
      "metadata": {
        "colab_type": "code",
        "outputId": "63e1722e-ca68-4804-f936-0d92ff2db828",
        "id": "geoihFVqbnP_",
        "colab": {
          "base_uri": "https://localhost:8080/",
          "height": 388
        }
      },
      "source": [
        "y_train_test_hat, y_train_test = predict_train(features_clinicalbert_cls_nsp_principal_components, y_true, get_optimal_rf_model(features_clinicalbert_cls_nsp_principal_components[1500:], y_true[1500:]))\n",
        "plot_accuracy(y_train_test, y_train_test_hat)"
      ],
      "execution_count": 91,
      "outputs": [
        {
          "output_type": "stream",
          "text": [
            "Optimal parameters: {'max_depth': 5, 'min_samples_split': 4, 'n_estimators': 500, 'subsample': 0.7}\n",
            "Accuracy: 0.6403145219543447\n"
          ],
          "name": "stdout"
        },
        {
          "output_type": "display_data",
          "data": {
            "image/png": "[encoded data removed]",
            "text/plain": [
              "<Figure size 720x360 with 1 Axes>"
            ]
          },
          "metadata": {
            "tags": []
          }
        }
      ]
    },
    {
      "cell_type": "markdown",
      "metadata": {
        "id": "qB6SqqqCSLI3",
        "colab_type": "text"
      },
      "source": [
        "#### finetuned BioBERT"
      ]
    },
    {
      "cell_type": "code",
      "metadata": {
        "id": "lRVzGJG3SNVX",
        "colab_type": "code",
        "outputId": "54cf5665-e706-4eb1-b4d7-5d126dfde588",
        "colab": {
          "base_uri": "https://localhost:8080/",
          "height": 663
        }
      },
      "source": [
        "#NSP finetuned BIO BERT FEATURES\n",
        "features_biobert_cls_sts_biomedical_nsp = bert_based_features_nsp(X_train_original,  sts_biomedical_biobert_model, sts_biomedical_biobert_tokenizer)"
      ],
      "execution_count": 98,
      "outputs": [
        {
          "output_type": "stream",
          "text": [
            "768\n",
            "71\n",
            "381\n",
            " Complex assessment performed, Patient arrives ambulatory, Gait steady, History obtained from, parent, Patient appears comfortable, Patient cooperative, alert, Oriented to person, place and time. [SEP]  Patient arrives, via hospital wheelchair, Gait steady, History obtained from patient, Patient appears comfortable, Patient cooperative, alert, Oriented to person, place and time.\n",
            "i= 0\n",
            "i= 50\n",
            "i= 150\n",
            "i= 200\n",
            "i= 250\n",
            "i= 300\n",
            "i= 350\n",
            "i= 400\n",
            "i= 450\n",
            "i= 500\n",
            "i= 550\n",
            "i= 600\n",
            "i= 650\n",
            "i= 700\n",
            "i= 750\n",
            "i= 800\n",
            "i= 850\n",
            "i= 900\n",
            "i= 950\n",
            "i= 1000\n",
            "i= 1050\n",
            "i= 1100\n",
            "i= 1150\n",
            "i= 1200\n",
            "i= 1250\n",
            "i= 1300\n",
            "i= 1350\n",
            "i= 1400\n",
            "i= 1450\n",
            "i= 1500\n",
            "i= 1550\n",
            "i= 1600\n",
            "i= 1650\n"
          ],
          "name": "stdout"
        }
      ]
    },
    {
      "cell_type": "code",
      "metadata": {
        "colab_type": "code",
        "id": "7P5JDFJ6SN0E",
        "colab": {}
      },
      "source": [
        "#PCA\n",
        "features_biobert_cls_sts_biomedical_nsp_scaled = StandardScaler().fit_transform(features_biobert_cls_sts_biomedical_nsp)\n",
        "features_biobert_cls_sts_biomedical_nsp_principal_components = pca.fit_transform(features_biobert_cls_sts_biomedical_nsp_scaled)"
      ],
      "execution_count": 0,
      "outputs": []
    },
    {
      "cell_type": "markdown",
      "metadata": {
        "id": "aedaiTZonxeE",
        "colab_type": "text"
      },
      "source": [
        "### combining one-sentence and NSP"
      ]
    },
    {
      "cell_type": "code",
      "metadata": {
        "id": "iB9UtZ7MnZp4",
        "colab_type": "code",
        "colab": {}
      },
      "source": [
        "features_biobert_onesentence_nsp = np.concatenate([features_biobert_sts_biomedical, features_biobert_cls_sts_biomedical_nsp_principal_components], axis = 1)\n",
        "\n",
        "y_train_test_hat, y_train_test = predict_train(features_biobert_onesentence_nsp, y_true, get_optimal_rf_model(features_biobert_onesentence_nsp[1500:], y_true[1500:]))\n",
        "plot_accuracy(y_train_test, y_train_test_hat)"
      ],
      "execution_count": 0,
      "outputs": []
    },
    {
      "cell_type": "markdown",
      "metadata": {
        "id": "gO6yUlGjuV_X",
        "colab_type": "text"
      },
      "source": [
        "## <center>4. Preliminary error analysis</center>"
      ]
    },
    {
      "cell_type": "code",
      "metadata": {
        "id": "XKAiEd9M0eMy",
        "colab_type": "code",
        "colab": {}
      },
      "source": [
        "print(len(y_hat))"
      ],
      "execution_count": 0,
      "outputs": []
    },
    {
      "cell_type": "code",
      "metadata": {
        "id": "cIUI7Ho1zz9Z",
        "colab_type": "code",
        "colab": {}
      },
      "source": [
        "for i, y_elem in enumerate(y_true):\n",
        "  if abs(y_elem - y_hat[i]) > 2:\n",
        "    print(X_train_original[i], y_elem, y_hat[i])"
      ],
      "execution_count": 0,
      "outputs": []
    },
    {
      "cell_type": "markdown",
      "metadata": {
        "id": "105szZ2AtIhv",
        "colab_type": "text"
      },
      "source": [
        "## 5.caching features"
      ]
    },
    {
      "cell_type": "markdown",
      "metadata": {
        "id": "twkP5UiGiI6n",
        "colab_type": "text"
      },
      "source": [
        "### one sentence features"
      ]
    },
    {
      "cell_type": "code",
      "metadata": {
        "id": "cM49AwFvnU7Z",
        "colab_type": "code",
        "colab": {}
      },
      "source": [
        "# CACHING ALL THE FEATURES"
      ],
      "execution_count": 0,
      "outputs": []
    },
    {
      "cell_type": "code",
      "metadata": {
        "id": "VBsO8cOyvTPA",
        "colab_type": "code",
        "colab": {}
      },
      "source": [
        "import pickle\n",
        "def cache_features(name, features, cls):\n",
        "  f = open('/content/drive/My Drive/'+name+'_features.pkl', 'wb')\n",
        "  pickle.dump(features, f)\n",
        "  f.close()\n",
        "  f2 = open('/content/drive/My Drive/'+name+'_cls_features.pkl', 'wb')\n",
        "  pickle.dump(cls, f2)\n",
        "  f2.close()"
      ],
      "execution_count": 0,
      "outputs": []
    },
    {
      "cell_type": "code",
      "metadata": {
        "id": "dbrWNqZ6v9Rn",
        "colab_type": "code",
        "colab": {}
      },
      "source": [
        "cache_features('bert_vanilla', features_bert_og, features_bert_cls_og)\n",
        "cache_features('biobert', features_bert_bio, features_bert_cls_bio)\n",
        "cache_features('bert_nli_stsb', features_bert_stsb, features_bert_cls_stsb)\n",
        "cache_features('bioclinicalbert', features_bert_bio_clinical, features_bert_cls_bio_clinical)\n",
        "cache_features('clinicalbert', features_bert_clinical, features_bert_cls_clinical)"
      ],
      "execution_count": 0,
      "outputs": []
    },
    {
      "cell_type": "code",
      "metadata": {
        "id": "16aYsoxAW5rI",
        "colab_type": "code",
        "colab": {}
      },
      "source": [
        "cache_features('roberta_stsbiomedical', features_roberta_sts_biomedical, features_roberta_cls_sts_biomedical)"
      ],
      "execution_count": 0,
      "outputs": []
    },
    {
      "cell_type": "code",
      "metadata": {
        "id": "zjt14_PNZziW",
        "colab_type": "code",
        "colab": {}
      },
      "source": [
        "cache_features('bert_stsbiomedical', features_bert_sts_biomedical, features_bert_cls_sts_biomedical)"
      ],
      "execution_count": 0,
      "outputs": []
    },
    {
      "cell_type": "code",
      "metadata": {
        "id": "lPAdRCYWd1vD",
        "colab_type": "code",
        "colab": {}
      },
      "source": [
        "cache_features('biobert_stsbiomedical', features_biobert_sts_biomedical, features_biobert_cls_sts_biomedical)"
      ],
      "execution_count": 0,
      "outputs": []
    },
    {
      "cell_type": "code",
      "metadata": {
        "id": "6-7uUYzreOk7",
        "colab_type": "code",
        "colab": {}
      },
      "source": [
        "#TEST data features\n",
        "\n",
        "#VANILLA\n",
        "features_bert_og_test, features_bert_cls_og_test = bert_based_features_original(X_test_original, vanilla_bert_model, vanilla_bert_tokenizer)"
      ],
      "execution_count": 0,
      "outputs": []
    },
    {
      "cell_type": "code",
      "metadata": {
        "id": "vhfitMqEk93T",
        "colab_type": "code",
        "colab": {}
      },
      "source": [
        "# STS B finetuned\n",
        "features_bert_sts_biomedical_test, features_bert_cls_sts_biomedical_test = bert_based_features_original(X_test_original, sts_biomedical_bert_model, sts_biomedical_bert_tokenizer)"
      ],
      "execution_count": 0,
      "outputs": []
    },
    {
      "cell_type": "code",
      "metadata": {
        "id": "YOUOez34lAxB",
        "colab_type": "code",
        "colab": {}
      },
      "source": [
        "# roberta finetuned\n",
        "features_roberta_sts_biomedical_test, features_roberta_cls_sts_biomedical_test = bert_based_features_original(X_test_original, sts_biomedical_roberta_model, sts_biomedical_roberta_tokenizer)"
      ],
      "execution_count": 0,
      "outputs": []
    },
    {
      "cell_type": "code",
      "metadata": {
        "id": "XZK20WnSlDc0",
        "colab_type": "code",
        "colab": {}
      },
      "source": [
        "# biobert finetuned (mean only)\n",
        "features_biobert_sts_biomedical_test, features_biobert_cls_sts_biomedical_test = bert_based_features_original(X_test_original, sts_biomedical_biobert_model, sts_biomedical_biobert_tokenizer)"
      ],
      "execution_count": 0,
      "outputs": []
    },
    {
      "cell_type": "code",
      "metadata": {
        "id": "m6GisXtGlF43",
        "colab_type": "code",
        "colab": {}
      },
      "source": [
        "#BIO BERT FEATURES\n",
        "features_bert_bio_test, features_bert_cls_bio_test = bert_based_features_original(X_test_original, bio_bert_model, bio_bert_tokenizer)"
      ],
      "execution_count": 0,
      "outputs": []
    },
    {
      "cell_type": "code",
      "metadata": {
        "id": "YA56ezQclIjl",
        "colab_type": "code",
        "colab": {}
      },
      "source": [
        "#STS B\n",
        "features_bert_stsb_test, features_bert_cls_stsb_test = bert_based_features_original(X_test_original, stsb_bert_model, stsb_bert_tokenizer)"
      ],
      "execution_count": 0,
      "outputs": []
    },
    {
      "cell_type": "code",
      "metadata": {
        "id": "EuqNm5eLlK8J",
        "colab_type": "code",
        "colab": {}
      },
      "source": [
        "#BIO CLINICAL BERT FEATURES\n",
        "features_bert_bio_clinical_test, features_bert_cls_bio_clinical_test = bert_based_features_original(X_test_original, bio_clinical_bert_model, bio_clinical_bert_tokenizer)"
      ],
      "execution_count": 0,
      "outputs": []
    },
    {
      "cell_type": "code",
      "metadata": {
        "id": "-ACek_LxlNH5",
        "colab_type": "code",
        "colab": {}
      },
      "source": [
        "#CLINICAL BERT FEATURES\n",
        "features_bert_clinical_test, features_bert_cls_clinical_test = bert_based_features_original(X_test_original, clinical_bert_model, clinical_bert_tokenizer)"
      ],
      "execution_count": 0,
      "outputs": []
    },
    {
      "cell_type": "code",
      "metadata": {
        "id": "_xcYL3oFlOQJ",
        "colab_type": "code",
        "colab": {}
      },
      "source": [
        "cache_features('bert_vanilla_test', features_bert_og_test, features_bert_cls_og_test)\n",
        "cache_features('biobert_test', features_bert_bio_test, features_bert_cls_bio_test)\n",
        "cache_features('bert_nli_stsb_test', features_bert_stsb_test, features_bert_cls_stsb_test)\n",
        "cache_features('bioclinicalbert_test', features_bert_bio_clinical_test, features_bert_cls_bio_clinical_test)\n",
        "cache_features('clinicalbert_test', features_bert_clinical_test, features_bert_cls_clinical_test)"
      ],
      "execution_count": 0,
      "outputs": []
    },
    {
      "cell_type": "code",
      "metadata": {
        "id": "_osje3P3nHND",
        "colab_type": "code",
        "colab": {}
      },
      "source": [
        "cache_features('roberta_stsbiomedical_test', features_roberta_sts_biomedical_test, features_roberta_cls_sts_biomedical_test)\n",
        "cache_features('bert_stsbiomedical_test', features_bert_sts_biomedical_test, features_bert_cls_sts_biomedical_test)\n",
        "cache_features('biobert_stsbiomedical_test', features_biobert_sts_biomedical_test, features_biobert_cls_sts_biomedical_test)"
      ],
      "execution_count": 0,
      "outputs": []
    },
    {
      "cell_type": "markdown",
      "metadata": {
        "id": "kHFSVmzGiL10",
        "colab_type": "text"
      },
      "source": [
        "### NSP features"
      ]
    },
    {
      "cell_type": "code",
      "metadata": {
        "id": "F2Y3p21tiASP",
        "colab_type": "code",
        "colab": {}
      },
      "source": [
        "import pickle\n",
        "def cache_nsp_features(name, features):\n",
        "  f = open('/content/drive/My Drive/'+name+'_NSP_features.pkl', 'wb')\n",
        "  pickle.dump(features, f)\n",
        "  f.close()"
      ],
      "execution_count": 0,
      "outputs": []
    },
    {
      "cell_type": "code",
      "metadata": {
        "id": "hLn3xo_eq9pu",
        "colab_type": "code",
        "colab": {}
      },
      "source": [
        "cache_nsp_features('biobert', features_bert_cls_bio_nsp_principal_components)\n",
        "cache_nsp_features('bert_nli_stsb', features_stsb_bert_cls_nsp_principal_components)\n",
        "cache_nsp_features('clinicalbert', features_clinicalbert_cls_nsp_principal_components)\n",
        "cache_nsp_features('biobert_stsbiomedical', features_biobert_cls_sts_biomedical_nsp_principal_components)"
      ],
      "execution_count": 0,
      "outputs": []
    },
    {
      "cell_type": "code",
      "metadata": {
        "id": "bGXy_E-ZibGB",
        "colab_type": "code",
        "colab": {
          "base_uri": "https://localhost:8080/",
          "height": 237
        },
        "outputId": "9b2bdf0f-6e98-4c18-8ee8-63e9dc36baec"
      },
      "source": [
        "#BIO BERT FEATURES\n",
        "features_bert_cls_bio_nsp_test = bert_based_features_nsp(X_test_original, bio_bert_model, bio_bert_tokenizer)"
      ],
      "execution_count": 108,
      "outputs": [
        {
          "output_type": "stream",
          "text": [
            "768\n",
            "24\n",
            "125\n",
            "male who presents for evaluation of Med Management. [SEP] Requested to see patient for evaluation of: pressure ulcer consult.\n",
            "i= 0\n",
            "i= 50\n",
            "i= 100\n",
            "i= 150\n",
            "i= 200\n",
            "i= 250\n",
            "i= 300\n",
            "i= 350\n",
            "i= 400\n"
          ],
          "name": "stdout"
        }
      ]
    },
    {
      "cell_type": "code",
      "metadata": {
        "id": "Tlc3vtVRqsRq",
        "colab_type": "code",
        "colab": {
          "base_uri": "https://localhost:8080/",
          "height": 237
        },
        "outputId": "a0e502b5-2cae-412d-9cab-89bd040d81db"
      },
      "source": [
        "# STSb model\n",
        "features_stsb_bert_cls_nsp_test = bert_based_features_nsp(X_test_original, stsb_bert_model, stsb_bert_tokenizer)"
      ],
      "execution_count": 109,
      "outputs": [
        {
          "output_type": "stream",
          "text": [
            "768\n",
            "23\n",
            "125\n",
            "male who presents for evaluation of Med Management. [SEP] Requested to see patient for evaluation of: pressure ulcer consult.\n",
            "i= 0\n",
            "i= 50\n",
            "i= 100\n",
            "i= 150\n",
            "i= 200\n",
            "i= 250\n",
            "i= 300\n",
            "i= 350\n",
            "i= 400\n"
          ],
          "name": "stdout"
        }
      ]
    },
    {
      "cell_type": "code",
      "metadata": {
        "colab_type": "code",
        "outputId": "8e316a08-2a16-4549-d0c9-21e992c7fa9a",
        "id": "YL0W2T2Gqxpn",
        "colab": {
          "base_uri": "https://localhost:8080/",
          "height": 237
        }
      },
      "source": [
        "# clincal BERT\n",
        "features_clinicalbert_cls_nsp_test = bert_based_features_nsp(X_test_original, clinical_bert_model, clinical_bert_tokenizer)"
      ],
      "execution_count": 110,
      "outputs": [
        {
          "output_type": "stream",
          "text": [
            "768\n",
            "24\n",
            "125\n",
            "male who presents for evaluation of Med Management. [SEP] Requested to see patient for evaluation of: pressure ulcer consult.\n",
            "i= 0\n",
            "i= 50\n",
            "i= 100\n",
            "i= 150\n",
            "i= 200\n",
            "i= 250\n",
            "i= 300\n",
            "i= 350\n",
            "i= 400\n"
          ],
          "name": "stdout"
        }
      ]
    },
    {
      "cell_type": "code",
      "metadata": {
        "colab_type": "code",
        "outputId": "8fb81fb8-9952-40d6-b6a3-7f69beabffd7",
        "id": "5_semMCbqxpz",
        "colab": {
          "base_uri": "https://localhost:8080/",
          "height": 237
        }
      },
      "source": [
        "#finetuned BIO BERT FEATURES\n",
        "features_biobert_cls_sts_biomedical_nsp_test = bert_based_features_nsp(X_test_original,  sts_biomedical_biobert_model, sts_biomedical_biobert_tokenizer)"
      ],
      "execution_count": 111,
      "outputs": [
        {
          "output_type": "stream",
          "text": [
            "768\n",
            "23\n",
            "125\n",
            "male who presents for evaluation of Med Management. [SEP] Requested to see patient for evaluation of: pressure ulcer consult.\n",
            "i= 0\n",
            "i= 50\n",
            "i= 100\n",
            "i= 150\n",
            "i= 200\n",
            "i= 250\n",
            "i= 300\n",
            "i= 350\n",
            "i= 400\n"
          ],
          "name": "stdout"
        }
      ]
    },
    {
      "cell_type": "code",
      "metadata": {
        "id": "1gt3gD9zt0SK",
        "colab_type": "code",
        "colab": {}
      },
      "source": [
        "#PCA\n",
        "\n",
        "features_bert_cls_bio_nsp_test_scaled = StandardScaler().fit_transform(features_bert_cls_bio_nsp_test)\n",
        "features_bert_cls_bio_nsp_test_principal_components = pca.fit_transform(features_bert_cls_bio_nsp_test_scaled)\n",
        "\n",
        "features_stsb_bert_cls_nsp_test_scaled = StandardScaler().fit_transform(features_stsb_bert_cls_nsp_test)\n",
        "features_stsb_bert_cls_nsp_test_principal_components = pca.fit_transform(features_stsb_bert_cls_nsp_test_scaled)\n",
        "\n",
        "features_clinicalbert_cls_nsp_test_scaled = StandardScaler().fit_transform(features_clinicalbert_cls_nsp_test)\n",
        "features_clinicalbert_cls_nsp_test_principal_components = pca.fit_transform(features_clinicalbert_cls_nsp_test_scaled)\n",
        "\n",
        "features_biobert_cls_sts_biomedical_nsp_test_scaled = StandardScaler().fit_transform(features_biobert_cls_sts_biomedical_nsp_test)\n",
        "features_biobert_cls_sts_biomedical_nsp_test_principal_components = pca.fit_transform(features_biobert_cls_sts_biomedical_nsp_test_scaled)"
      ],
      "execution_count": 0,
      "outputs": []
    },
    {
      "cell_type": "code",
      "metadata": {
        "id": "Hc38_4PVr7PH",
        "colab_type": "code",
        "colab": {}
      },
      "source": [
        "cache_nsp_features('biobert_test', features_bert_cls_bio_nsp_test_principal_components)\n",
        "cache_nsp_features('bert_nli_stsb_test', features_stsb_bert_cls_nsp_test_principal_components)\n",
        "cache_nsp_features('clinicalbert_test', features_clinicalbert_cls_nsp_test_principal_components)\n",
        "cache_nsp_features('biobert_stsbiomedical_test', features_biobert_cls_sts_biomedical_nsp_test_principal_components)"
      ],
      "execution_count": 0,
      "outputs": []
    }
  ]
}